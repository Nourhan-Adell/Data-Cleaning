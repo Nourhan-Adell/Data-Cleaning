{
 "cells": [
  {
   "cell_type": "markdown",
   "id": "5efefe83",
   "metadata": {
    "papermill": {
     "duration": 0.006727,
     "end_time": "2022-08-31T06:30:22.725478",
     "exception": false,
     "start_time": "2022-08-31T06:30:22.718751",
     "status": "completed"
    },
    "tags": []
   },
   "source": [
    "**This notebook is an exercise in the [Feature Engineering](https://www.kaggle.com/learn/feature-engineering) course.  You can reference the tutorial at [this link](https://www.kaggle.com/ryanholbrook/creating-features).**\n",
    "\n",
    "---\n"
   ]
  },
  {
   "cell_type": "markdown",
   "id": "956d91c4",
   "metadata": {
    "papermill": {
     "duration": 0.00531,
     "end_time": "2022-08-31T06:30:22.736546",
     "exception": false,
     "start_time": "2022-08-31T06:30:22.731236",
     "status": "completed"
    },
    "tags": []
   },
   "source": [
    "# Introduction #\n",
    "\n",
    "In this exercise you'll start developing the features you identified in Exercise 2 as having the most potential. As you work through this exercise, you might take a moment to look at the data documentation again and consider whether the features we're creating make sense from a real-world perspective, and whether there are any useful combinations that stand out to you.\n",
    "\n",
    "Run this cell to set everything up!"
   ]
  },
  {
   "cell_type": "code",
   "execution_count": 1,
   "id": "fe912ca3",
   "metadata": {
    "execution": {
     "iopub.execute_input": "2022-08-31T06:30:22.750982Z",
     "iopub.status.busy": "2022-08-31T06:30:22.749888Z",
     "iopub.status.idle": "2022-08-31T06:30:24.317503Z",
     "shell.execute_reply": "2022-08-31T06:30:24.316392Z"
    },
    "papermill": {
     "duration": 1.578221,
     "end_time": "2022-08-31T06:30:24.320412",
     "exception": false,
     "start_time": "2022-08-31T06:30:22.742191",
     "status": "completed"
    },
    "tags": []
   },
   "outputs": [],
   "source": [
    "# Setup feedback system\n",
    "from learntools.core import binder\n",
    "binder.bind(globals())\n",
    "from learntools.feature_engineering_new.ex3 import *\n",
    "\n",
    "import numpy as np\n",
    "import pandas as pd\n",
    "from sklearn.model_selection import cross_val_score\n",
    "from xgboost import XGBRegressor\n",
    "\n",
    "\n",
    "def score_dataset(X, y, model=XGBRegressor()):\n",
    "    # Label encoding for categoricals\n",
    "    for colname in X.select_dtypes([\"category\", \"object\"]):\n",
    "        X[colname], _ = X[colname].factorize()\n",
    "    # Metric for Housing competition is RMSLE (Root Mean Squared Log Error)\n",
    "    score = cross_val_score(\n",
    "        model, X, y, cv=5, scoring=\"neg_mean_squared_log_error\",\n",
    "    )\n",
    "    score = -1 * score.mean()\n",
    "    score = np.sqrt(score)\n",
    "    return score\n",
    "\n",
    "\n",
    "# Prepare data\n",
    "df = pd.read_csv(\"../input/fe-course-data/ames.csv\")\n",
    "X = df.copy()\n",
    "y = X.pop(\"SalePrice\")"
   ]
  },
  {
   "cell_type": "markdown",
   "id": "a342e3dc",
   "metadata": {
    "papermill": {
     "duration": 0.005374,
     "end_time": "2022-08-31T06:30:24.331485",
     "exception": false,
     "start_time": "2022-08-31T06:30:24.326111",
     "status": "completed"
    },
    "tags": []
   },
   "source": [
    "-------------------------------------------------------------------------------\n",
    "\n",
    "Let's start with a few mathematical combinations. We'll focus on features describing areas -- having the same units (square-feet) makes it easy to combine them in sensible ways. Since we're using XGBoost (a tree-based model), we'll focus on ratios and sums.\n",
    "\n",
    "# 1) Create Mathematical Transforms\n",
    "\n",
    "Create the following features:\n",
    "\n",
    "- `LivLotRatio`: the ratio of `GrLivArea` to `LotArea`\n",
    "- `Spaciousness`: the sum of `FirstFlrSF` and `SecondFlrSF` divided by `TotRmsAbvGrd`\n",
    "- `TotalOutsideSF`: the sum of `WoodDeckSF`, `OpenPorchSF`, `EnclosedPorch`, `Threeseasonporch`, and `ScreenPorch`"
   ]
  },
  {
   "cell_type": "code",
   "execution_count": 2,
   "id": "18a67a07",
   "metadata": {
    "execution": {
     "iopub.execute_input": "2022-08-31T06:30:24.344880Z",
     "iopub.status.busy": "2022-08-31T06:30:24.344277Z",
     "iopub.status.idle": "2022-08-31T06:30:24.369751Z",
     "shell.execute_reply": "2022-08-31T06:30:24.368554Z"
    },
    "lines_to_next_cell": 0,
    "papermill": {
     "duration": 0.036189,
     "end_time": "2022-08-31T06:30:24.373288",
     "exception": false,
     "start_time": "2022-08-31T06:30:24.337099",
     "status": "completed"
    },
    "tags": []
   },
   "outputs": [
    {
     "data": {
      "application/javascript": [
       "parent.postMessage({\"jupyterEvent\": \"custom.exercise_interaction\", \"data\": {\"outcomeType\": 1, \"valueTowardsCompletion\": 0.2, \"interactionType\": 1, \"questionType\": 2, \"questionId\": \"1_Q1\", \"learnToolsVersion\": \"0.3.4\", \"failureMessage\": \"\", \"exceptionClass\": \"\", \"trace\": \"\"}}, \"*\")"
      ],
      "text/plain": [
       "<IPython.core.display.Javascript object>"
      ]
     },
     "metadata": {},
     "output_type": "display_data"
    },
    {
     "data": {
      "text/markdown": [
       "<span style=\"color:#33cc33\">Correct</span>"
      ],
      "text/plain": [
       "Correct"
      ]
     },
     "metadata": {},
     "output_type": "display_data"
    }
   ],
   "source": [
    "# YOUR CODE HERE\n",
    "X_1 = pd.DataFrame()  # dataframe to hold new features\n",
    "\n",
    "X_1[\"LivLotRatio\"] = df.GrLivArea / df.LotArea\n",
    "X_1[\"Spaciousness\"] = (df.FirstFlrSF + df.SecondFlrSF) / df.TotRmsAbvGrd\n",
    "X_1[\"TotalOutsideSF\"] = df.WoodDeckSF + df.OpenPorchSF + df.EnclosedPorch + df.Threeseasonporch + df.ScreenPorch\n",
    "\n",
    "\n",
    "# Check your answer\n",
    "q_1.check()"
   ]
  },
  {
   "cell_type": "code",
   "execution_count": 3,
   "id": "2e194a7d",
   "metadata": {
    "execution": {
     "iopub.execute_input": "2022-08-31T06:30:24.388064Z",
     "iopub.status.busy": "2022-08-31T06:30:24.387282Z",
     "iopub.status.idle": "2022-08-31T06:30:24.392031Z",
     "shell.execute_reply": "2022-08-31T06:30:24.391109Z"
    },
    "lines_to_next_cell": 0,
    "papermill": {
     "duration": 0.014596,
     "end_time": "2022-08-31T06:30:24.394391",
     "exception": false,
     "start_time": "2022-08-31T06:30:24.379795",
     "status": "completed"
    },
    "tags": []
   },
   "outputs": [],
   "source": [
    "# Lines below will give you a hint or solution code\n",
    "#q_1.hint()\n",
    "#q_1.solution()"
   ]
  },
  {
   "cell_type": "markdown",
   "id": "d83fa9b0",
   "metadata": {
    "papermill": {
     "duration": 0.005574,
     "end_time": "2022-08-31T06:30:24.406451",
     "exception": false,
     "start_time": "2022-08-31T06:30:24.400877",
     "status": "completed"
    },
    "tags": []
   },
   "source": [
    "-------------------------------------------------------------------------------\n",
    "\n",
    "If you've discovered an interaction effect between a numeric feature and a categorical feature, you might want to model it explicitly using a one-hot encoding, like so:\n",
    "\n",
    "```\n",
    "# One-hot encode Categorical feature, adding a column prefix \"Cat\"\n",
    "X_new = pd.get_dummies(df.Categorical, prefix=\"Cat\")\n",
    "\n",
    "# Multiply row-by-row\n",
    "X_new = X_new.mul(df.Continuous, axis=0)\n",
    "\n",
    "# Join the new features to the feature set\n",
    "X = X.join(X_new)\n",
    "```\n",
    "\n",
    "# 2) Interaction with a Categorical\n",
    "\n",
    "We discovered an interaction between `BldgType` and `GrLivArea` in Exercise 2. Now create their interaction features."
   ]
  },
  {
   "cell_type": "code",
   "execution_count": 4,
   "id": "492fa53f",
   "metadata": {
    "execution": {
     "iopub.execute_input": "2022-08-31T06:30:24.419801Z",
     "iopub.status.busy": "2022-08-31T06:30:24.419390Z",
     "iopub.status.idle": "2022-08-31T06:30:24.434250Z",
     "shell.execute_reply": "2022-08-31T06:30:24.433029Z"
    },
    "lines_to_next_cell": 0,
    "papermill": {
     "duration": 0.024443,
     "end_time": "2022-08-31T06:30:24.436705",
     "exception": false,
     "start_time": "2022-08-31T06:30:24.412262",
     "status": "completed"
    },
    "tags": []
   },
   "outputs": [
    {
     "data": {
      "application/javascript": [
       "parent.postMessage({\"jupyterEvent\": \"custom.exercise_interaction\", \"data\": {\"outcomeType\": 1, \"valueTowardsCompletion\": 0.2, \"interactionType\": 1, \"questionType\": 2, \"questionId\": \"2_Q2\", \"learnToolsVersion\": \"0.3.4\", \"failureMessage\": \"\", \"exceptionClass\": \"\", \"trace\": \"\"}}, \"*\")"
      ],
      "text/plain": [
       "<IPython.core.display.Javascript object>"
      ]
     },
     "metadata": {},
     "output_type": "display_data"
    },
    {
     "data": {
      "text/markdown": [
       "<span style=\"color:#33cc33\">Correct</span>"
      ],
      "text/plain": [
       "Correct"
      ]
     },
     "metadata": {},
     "output_type": "display_data"
    }
   ],
   "source": [
    "# YOUR CODE HERE\n",
    "# One-hot encode BldgType. Use `prefix=\"Bldg\"` in `get_dummies`\n",
    "X_2 = pd.get_dummies(df.BldgType, prefix=\"Bldg\")\n",
    "X_2 = X_2.mul(df.GrLivArea, axis=0)\n",
    "\n",
    "\n",
    "# Check your answer\n",
    "q_2.check()"
   ]
  },
  {
   "cell_type": "code",
   "execution_count": 5,
   "id": "028003a1",
   "metadata": {
    "execution": {
     "iopub.execute_input": "2022-08-31T06:30:24.450908Z",
     "iopub.status.busy": "2022-08-31T06:30:24.450490Z",
     "iopub.status.idle": "2022-08-31T06:30:24.455073Z",
     "shell.execute_reply": "2022-08-31T06:30:24.453850Z"
    },
    "lines_to_next_cell": 0,
    "papermill": {
     "duration": 0.014456,
     "end_time": "2022-08-31T06:30:24.457241",
     "exception": false,
     "start_time": "2022-08-31T06:30:24.442785",
     "status": "completed"
    },
    "tags": []
   },
   "outputs": [],
   "source": [
    "# Lines below will give you a hint or solution code\n",
    "#q_2.hint()\n",
    "#q_2.solution()"
   ]
  },
  {
   "cell_type": "markdown",
   "id": "94fea04d",
   "metadata": {
    "lines_to_next_cell": 0,
    "papermill": {
     "duration": 0.005833,
     "end_time": "2022-08-31T06:30:24.469062",
     "exception": false,
     "start_time": "2022-08-31T06:30:24.463229",
     "status": "completed"
    },
    "tags": []
   },
   "source": [
    "# 3) Count Feature\n",
    "\n",
    "Let's try creating a feature that describes how many kinds of outdoor areas a dwelling has. Create a feature `PorchTypes` that counts how many of the following are greater than 0.0:\n",
    "\n",
    "```\n",
    "WoodDeckSF\n",
    "OpenPorchSF\n",
    "EnclosedPorch\n",
    "Threeseasonporch\n",
    "ScreenPorch\n",
    "```"
   ]
  },
  {
   "cell_type": "code",
   "execution_count": 6,
   "id": "36563016",
   "metadata": {
    "execution": {
     "iopub.execute_input": "2022-08-31T06:30:24.483468Z",
     "iopub.status.busy": "2022-08-31T06:30:24.482297Z",
     "iopub.status.idle": "2022-08-31T06:30:24.501505Z",
     "shell.execute_reply": "2022-08-31T06:30:24.500341Z"
    },
    "lines_to_next_cell": 0,
    "papermill": {
     "duration": 0.028791,
     "end_time": "2022-08-31T06:30:24.503866",
     "exception": false,
     "start_time": "2022-08-31T06:30:24.475075",
     "status": "completed"
    },
    "tags": []
   },
   "outputs": [
    {
     "data": {
      "application/javascript": [
       "parent.postMessage({\"jupyterEvent\": \"custom.exercise_interaction\", \"data\": {\"outcomeType\": 1, \"valueTowardsCompletion\": 0.2, \"interactionType\": 1, \"questionType\": 2, \"questionId\": \"3_Q3\", \"learnToolsVersion\": \"0.3.4\", \"failureMessage\": \"\", \"exceptionClass\": \"\", \"trace\": \"\"}}, \"*\")"
      ],
      "text/plain": [
       "<IPython.core.display.Javascript object>"
      ]
     },
     "metadata": {},
     "output_type": "display_data"
    },
    {
     "data": {
      "text/markdown": [
       "<span style=\"color:#33cc33\">Correct</span>"
      ],
      "text/plain": [
       "Correct"
      ]
     },
     "metadata": {},
     "output_type": "display_data"
    }
   ],
   "source": [
    "X_3 = pd.DataFrame()\n",
    "\n",
    "# YOUR CODE HERE\n",
    "X_3 = pd.DataFrame()\n",
    "\n",
    "X_3[\"PorchTypes\"] = df[[\n",
    "    \"WoodDeckSF\",\n",
    "    \"OpenPorchSF\",\n",
    "    \"EnclosedPorch\",\n",
    "    \"Threeseasonporch\",\n",
    "    \"ScreenPorch\",\n",
    "]].gt(0.0).sum(axis=1)\n",
    "\n",
    "\n",
    "# Check your answer\n",
    "q_3.check()"
   ]
  },
  {
   "cell_type": "code",
   "execution_count": 7,
   "id": "c8540958",
   "metadata": {
    "execution": {
     "iopub.execute_input": "2022-08-31T06:30:24.518632Z",
     "iopub.status.busy": "2022-08-31T06:30:24.517731Z",
     "iopub.status.idle": "2022-08-31T06:30:24.521784Z",
     "shell.execute_reply": "2022-08-31T06:30:24.521037Z"
    },
    "lines_to_next_cell": 0,
    "papermill": {
     "duration": 0.013759,
     "end_time": "2022-08-31T06:30:24.523890",
     "exception": false,
     "start_time": "2022-08-31T06:30:24.510131",
     "status": "completed"
    },
    "tags": []
   },
   "outputs": [],
   "source": [
    "# Lines below will give you a hint or solution code\n",
    "#q_3.hint()\n",
    "#q_3.solution()"
   ]
  },
  {
   "cell_type": "markdown",
   "id": "e3ae2828",
   "metadata": {
    "papermill": {
     "duration": 0.0064,
     "end_time": "2022-08-31T06:30:24.536548",
     "exception": false,
     "start_time": "2022-08-31T06:30:24.530148",
     "status": "completed"
    },
    "tags": []
   },
   "source": [
    "# 4) Break Down a Categorical Feature\n",
    "\n",
    "`MSSubClass` describes the type of a dwelling:"
   ]
  },
  {
   "cell_type": "code",
   "execution_count": 8,
   "id": "7b45844a",
   "metadata": {
    "execution": {
     "iopub.execute_input": "2022-08-31T06:30:24.551574Z",
     "iopub.status.busy": "2022-08-31T06:30:24.550993Z",
     "iopub.status.idle": "2022-08-31T06:30:24.557782Z",
     "shell.execute_reply": "2022-08-31T06:30:24.556726Z"
    },
    "papermill": {
     "duration": 0.017067,
     "end_time": "2022-08-31T06:30:24.559973",
     "exception": false,
     "start_time": "2022-08-31T06:30:24.542906",
     "status": "completed"
    },
    "tags": []
   },
   "outputs": [
    {
     "data": {
      "text/plain": [
       "array(['One_Story_1946_and_Newer_All_Styles', 'Two_Story_1946_and_Newer',\n",
       "       'One_Story_PUD_1946_and_Newer',\n",
       "       'One_and_Half_Story_Finished_All_Ages', 'Split_Foyer',\n",
       "       'Two_Story_PUD_1946_and_Newer', 'Split_or_Multilevel',\n",
       "       'One_Story_1945_and_Older', 'Duplex_All_Styles_and_Ages',\n",
       "       'Two_Family_conversion_All_Styles_and_Ages',\n",
       "       'One_and_Half_Story_Unfinished_All_Ages',\n",
       "       'Two_Story_1945_and_Older', 'Two_and_Half_Story_All_Ages',\n",
       "       'One_Story_with_Finished_Attic_All_Ages',\n",
       "       'PUD_Multilevel_Split_Level_Foyer',\n",
       "       'One_and_Half_Story_PUD_All_Ages'], dtype=object)"
      ]
     },
     "execution_count": 8,
     "metadata": {},
     "output_type": "execute_result"
    }
   ],
   "source": [
    "df.MSSubClass.unique()"
   ]
  },
  {
   "cell_type": "markdown",
   "id": "28e106c9",
   "metadata": {
    "papermill": {
     "duration": 0.00641,
     "end_time": "2022-08-31T06:30:24.573637",
     "exception": false,
     "start_time": "2022-08-31T06:30:24.567227",
     "status": "completed"
    },
    "tags": []
   },
   "source": [
    "You can see that there is a more general categorization described (roughly) by the first word of each category. Create a feature containing only these first words by splitting `MSSubClass` at the first underscore `_`. (Hint: In the `split` method use an argument `n=1`.)"
   ]
  },
  {
   "cell_type": "code",
   "execution_count": 9,
   "id": "c2aaa446",
   "metadata": {
    "execution": {
     "iopub.execute_input": "2022-08-31T06:30:24.588815Z",
     "iopub.status.busy": "2022-08-31T06:30:24.588159Z",
     "iopub.status.idle": "2022-08-31T06:30:24.611380Z",
     "shell.execute_reply": "2022-08-31T06:30:24.610306Z"
    },
    "lines_to_next_cell": 0,
    "papermill": {
     "duration": 0.033339,
     "end_time": "2022-08-31T06:30:24.613557",
     "exception": false,
     "start_time": "2022-08-31T06:30:24.580218",
     "status": "completed"
    },
    "tags": []
   },
   "outputs": [
    {
     "data": {
      "application/javascript": [
       "parent.postMessage({\"jupyterEvent\": \"custom.exercise_interaction\", \"data\": {\"outcomeType\": 1, \"valueTowardsCompletion\": 0.2, \"interactionType\": 1, \"questionType\": 2, \"questionId\": \"4_Q4\", \"learnToolsVersion\": \"0.3.4\", \"failureMessage\": \"\", \"exceptionClass\": \"\", \"trace\": \"\"}}, \"*\")"
      ],
      "text/plain": [
       "<IPython.core.display.Javascript object>"
      ]
     },
     "metadata": {},
     "output_type": "display_data"
    },
    {
     "data": {
      "text/markdown": [
       "<span style=\"color:#33cc33\">Correct</span>"
      ],
      "text/plain": [
       "Correct"
      ]
     },
     "metadata": {},
     "output_type": "display_data"
    }
   ],
   "source": [
    "X_4 = pd.DataFrame()\n",
    "\n",
    "# YOUR CODE HERE\n",
    "\n",
    "X_4[\"MSClass\"] = df.MSSubClass.str.split(\"_\", n=1, expand=True)[0]\n",
    "\n",
    "# Check your answer\n",
    "q_4.check()"
   ]
  },
  {
   "cell_type": "code",
   "execution_count": 10,
   "id": "5f28c770",
   "metadata": {
    "execution": {
     "iopub.execute_input": "2022-08-31T06:30:24.628960Z",
     "iopub.status.busy": "2022-08-31T06:30:24.628321Z",
     "iopub.status.idle": "2022-08-31T06:30:24.632116Z",
     "shell.execute_reply": "2022-08-31T06:30:24.631181Z"
    },
    "lines_to_next_cell": 0,
    "papermill": {
     "duration": 0.014045,
     "end_time": "2022-08-31T06:30:24.634215",
     "exception": false,
     "start_time": "2022-08-31T06:30:24.620170",
     "status": "completed"
    },
    "tags": []
   },
   "outputs": [],
   "source": [
    "# Lines below will give you a hint or solution code\n",
    "#q_4.hint()\n",
    "#q_4.solution()"
   ]
  },
  {
   "cell_type": "markdown",
   "id": "e965bc02",
   "metadata": {
    "papermill": {
     "duration": 0.00639,
     "end_time": "2022-08-31T06:30:24.647146",
     "exception": false,
     "start_time": "2022-08-31T06:30:24.640756",
     "status": "completed"
    },
    "tags": []
   },
   "source": [
    "# 5) Use a Grouped Transform\n",
    "\n",
    "The value of a home often depends on how it compares to typical homes in its neighborhood. Create a feature `MedNhbdArea` that describes the *median* of `GrLivArea` grouped on `Neighborhood`."
   ]
  },
  {
   "cell_type": "code",
   "execution_count": 11,
   "id": "b5b1eddd",
   "metadata": {
    "execution": {
     "iopub.execute_input": "2022-08-31T06:30:24.662378Z",
     "iopub.status.busy": "2022-08-31T06:30:24.661969Z",
     "iopub.status.idle": "2022-08-31T06:30:24.680755Z",
     "shell.execute_reply": "2022-08-31T06:30:24.679567Z"
    },
    "lines_to_next_cell": 0,
    "papermill": {
     "duration": 0.029265,
     "end_time": "2022-08-31T06:30:24.683292",
     "exception": false,
     "start_time": "2022-08-31T06:30:24.654027",
     "status": "completed"
    },
    "tags": []
   },
   "outputs": [
    {
     "data": {
      "application/javascript": [
       "parent.postMessage({\"jupyterEvent\": \"custom.exercise_interaction\", \"data\": {\"outcomeType\": 1, \"valueTowardsCompletion\": 0.2, \"interactionType\": 1, \"questionType\": 2, \"questionId\": \"5_Q5\", \"learnToolsVersion\": \"0.3.4\", \"failureMessage\": \"\", \"exceptionClass\": \"\", \"trace\": \"\"}}, \"*\")"
      ],
      "text/plain": [
       "<IPython.core.display.Javascript object>"
      ]
     },
     "metadata": {},
     "output_type": "display_data"
    },
    {
     "data": {
      "text/markdown": [
       "<span style=\"color:#33cc33\">Correct</span>"
      ],
      "text/plain": [
       "Correct"
      ]
     },
     "metadata": {},
     "output_type": "display_data"
    }
   ],
   "source": [
    "X_5 = pd.DataFrame()\n",
    "\n",
    "# YOUR CODE HERE\n",
    "X_5[\"MedNhbdArea\"] = df.groupby(\"Neighborhood\")[\"GrLivArea\"].transform(\"median\")\n",
    "# Check your answer\n",
    "q_5.check()"
   ]
  },
  {
   "cell_type": "code",
   "execution_count": 12,
   "id": "5585575f",
   "metadata": {
    "execution": {
     "iopub.execute_input": "2022-08-31T06:30:24.699058Z",
     "iopub.status.busy": "2022-08-31T06:30:24.698183Z",
     "iopub.status.idle": "2022-08-31T06:30:24.702577Z",
     "shell.execute_reply": "2022-08-31T06:30:24.701783Z"
    },
    "lines_to_next_cell": 0,
    "papermill": {
     "duration": 0.014413,
     "end_time": "2022-08-31T06:30:24.704580",
     "exception": false,
     "start_time": "2022-08-31T06:30:24.690167",
     "status": "completed"
    },
    "tags": []
   },
   "outputs": [],
   "source": [
    "# Lines below will give you a hint or solution code\n",
    "#q_5.hint()\n",
    "#q_5.solution()"
   ]
  },
  {
   "cell_type": "markdown",
   "id": "692b07d4",
   "metadata": {
    "papermill": {
     "duration": 0.0066,
     "end_time": "2022-08-31T06:30:24.718035",
     "exception": false,
     "start_time": "2022-08-31T06:30:24.711435",
     "status": "completed"
    },
    "tags": []
   },
   "source": [
    "Now you've made your first new feature set! If you like, you can run the cell below to score the model with all of your new features added:"
   ]
  },
  {
   "cell_type": "code",
   "execution_count": 13,
   "id": "f4b2869b",
   "metadata": {
    "execution": {
     "iopub.execute_input": "2022-08-31T06:30:24.733538Z",
     "iopub.status.busy": "2022-08-31T06:30:24.732862Z",
     "iopub.status.idle": "2022-08-31T06:30:29.550625Z",
     "shell.execute_reply": "2022-08-31T06:30:29.549677Z"
    },
    "papermill": {
     "duration": 4.828638,
     "end_time": "2022-08-31T06:30:29.553396",
     "exception": false,
     "start_time": "2022-08-31T06:30:24.724758",
     "status": "completed"
    },
    "tags": []
   },
   "outputs": [
    {
     "data": {
      "text/plain": [
       "0.13847331710099203"
      ]
     },
     "execution_count": 13,
     "metadata": {},
     "output_type": "execute_result"
    }
   ],
   "source": [
    "X_new = X.join([X_1, X_2, X_3, X_4, X_5])\n",
    "score_dataset(X_new, y)"
   ]
  },
  {
   "cell_type": "markdown",
   "id": "9131f2ae",
   "metadata": {
    "papermill": {
     "duration": 0.006806,
     "end_time": "2022-08-31T06:30:29.568444",
     "exception": false,
     "start_time": "2022-08-31T06:30:29.561638",
     "status": "completed"
    },
    "tags": []
   },
   "source": [
    "# Keep Going #\n",
    "\n",
    "[**Untangle spatial relationships**](https://www.kaggle.com/ryanholbrook/clustering-with-k-means) by adding cluster labels to your dataset."
   ]
  },
  {
   "cell_type": "markdown",
   "id": "4fde1035",
   "metadata": {
    "papermill": {
     "duration": 0.006574,
     "end_time": "2022-08-31T06:30:29.581855",
     "exception": false,
     "start_time": "2022-08-31T06:30:29.575281",
     "status": "completed"
    },
    "tags": []
   },
   "source": [
    "---\n",
    "\n",
    "\n",
    "\n",
    "\n",
    "*Have questions or comments? Visit the [course discussion forum](https://www.kaggle.com/learn/feature-engineering/discussion) to chat with other learners.*"
   ]
  }
 ],
 "metadata": {
  "kernelspec": {
   "display_name": "Python 3",
   "language": "python",
   "name": "python3"
  },
  "language_info": {
   "codemirror_mode": {
    "name": "ipython",
    "version": 3
   },
   "file_extension": ".py",
   "mimetype": "text/x-python",
   "name": "python",
   "nbconvert_exporter": "python",
   "pygments_lexer": "ipython3",
   "version": "3.7.12"
  },
  "papermill": {
   "default_parameters": {},
   "duration": 17.145717,
   "end_time": "2022-08-31T06:30:30.311932",
   "environment_variables": {},
   "exception": null,
   "input_path": "__notebook__.ipynb",
   "output_path": "__notebook__.ipynb",
   "parameters": {},
   "start_time": "2022-08-31T06:30:13.166215",
   "version": "2.3.4"
  }
 },
 "nbformat": 4,
 "nbformat_minor": 5
}
