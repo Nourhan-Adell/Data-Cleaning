{
 "cells": [
  {
   "cell_type": "markdown",
   "id": "d2cbbcb6",
   "metadata": {
    "papermill": {
     "duration": 0.003619,
     "end_time": "2022-08-29T06:07:02.650592",
     "exception": false,
     "start_time": "2022-08-29T06:07:02.646973",
     "status": "completed"
    },
    "tags": []
   },
   "source": [
    "**This notebook is an exercise in the [Introduction to Machine Learning](https://www.kaggle.com/learn/intro-to-machine-learning) course.  You can reference the tutorial at [this link](https://www.kaggle.com/dansbecker/underfitting-and-overfitting).**\n",
    "\n",
    "---\n"
   ]
  },
  {
   "cell_type": "markdown",
   "id": "d266a87b",
   "metadata": {
    "papermill": {
     "duration": 0.002445,
     "end_time": "2022-08-29T06:07:02.655873",
     "exception": false,
     "start_time": "2022-08-29T06:07:02.653428",
     "status": "completed"
    },
    "tags": []
   },
   "source": [
    "## Recap\n",
    "You've built your first model, and now it's time to optimize the size of the tree to make better predictions. Run this cell to set up your coding environment where the previous step left off."
   ]
  },
  {
   "cell_type": "code",
   "execution_count": 1,
   "id": "c5a6a287",
   "metadata": {
    "execution": {
     "iopub.execute_input": "2022-08-29T06:07:02.663113Z",
     "iopub.status.busy": "2022-08-29T06:07:02.662389Z",
     "iopub.status.idle": "2022-08-29T06:07:04.071704Z",
     "shell.execute_reply": "2022-08-29T06:07:04.070264Z"
    },
    "papermill": {
     "duration": 1.415566,
     "end_time": "2022-08-29T06:07:04.074063",
     "exception": false,
     "start_time": "2022-08-29T06:07:02.658497",
     "status": "completed"
    },
    "tags": []
   },
   "outputs": [
    {
     "name": "stdout",
     "output_type": "stream",
     "text": [
      "Validation MAE: 29,653\n",
      "\n",
      "Setup complete\n"
     ]
    }
   ],
   "source": [
    "# Code you have previously used to load data\n",
    "import pandas as pd\n",
    "from sklearn.metrics import mean_absolute_error\n",
    "from sklearn.model_selection import train_test_split\n",
    "from sklearn.tree import DecisionTreeRegressor\n",
    "\n",
    "\n",
    "# Path of the file to read\n",
    "iowa_file_path = '../input/home-data-for-ml-course/train.csv'\n",
    "\n",
    "home_data = pd.read_csv(iowa_file_path)\n",
    "# Create target object and call it y\n",
    "y = home_data.SalePrice\n",
    "# Create X\n",
    "features = ['LotArea', 'YearBuilt', '1stFlrSF', '2ndFlrSF', 'FullBath', 'BedroomAbvGr', 'TotRmsAbvGrd']\n",
    "X = home_data[features]\n",
    "\n",
    "# Split into validation and training data\n",
    "train_X, val_X, train_y, val_y = train_test_split(X, y, random_state=1)\n",
    "\n",
    "# Specify Model\n",
    "iowa_model = DecisionTreeRegressor(random_state=1)\n",
    "# Fit Model\n",
    "iowa_model.fit(train_X, train_y)\n",
    "\n",
    "# Make validation predictions and calculate mean absolute error\n",
    "val_predictions = iowa_model.predict(val_X)\n",
    "val_mae = mean_absolute_error(val_predictions, val_y)\n",
    "print(\"Validation MAE: {:,.0f}\".format(val_mae))\n",
    "\n",
    "# Set up code checking\n",
    "from learntools.core import binder\n",
    "binder.bind(globals())\n",
    "from learntools.machine_learning.ex5 import *\n",
    "print(\"\\nSetup complete\")"
   ]
  },
  {
   "cell_type": "markdown",
   "id": "c03f4205",
   "metadata": {
    "papermill": {
     "duration": 0.002683,
     "end_time": "2022-08-29T06:07:04.080010",
     "exception": false,
     "start_time": "2022-08-29T06:07:04.077327",
     "status": "completed"
    },
    "tags": []
   },
   "source": [
    "# Exercises\n",
    "You could write the function `get_mae` yourself. For now, we'll supply it. This is the same function you read about in the previous lesson. Just run the cell below."
   ]
  },
  {
   "cell_type": "code",
   "execution_count": 2,
   "id": "0a0b8e82",
   "metadata": {
    "execution": {
     "iopub.execute_input": "2022-08-29T06:07:04.088147Z",
     "iopub.status.busy": "2022-08-29T06:07:04.087360Z",
     "iopub.status.idle": "2022-08-29T06:07:04.092346Z",
     "shell.execute_reply": "2022-08-29T06:07:04.091462Z"
    },
    "papermill": {
     "duration": 0.010964,
     "end_time": "2022-08-29T06:07:04.094078",
     "exception": false,
     "start_time": "2022-08-29T06:07:04.083114",
     "status": "completed"
    },
    "tags": []
   },
   "outputs": [],
   "source": [
    "def get_mae(max_leaf_nodes, train_X, val_X, train_y, val_y):\n",
    "    model = DecisionTreeRegressor(max_leaf_nodes=max_leaf_nodes, random_state=0)\n",
    "    model.fit(train_X, train_y)\n",
    "    preds_val = model.predict(val_X)\n",
    "    mae = mean_absolute_error(val_y, preds_val)\n",
    "    return(mae)"
   ]
  },
  {
   "cell_type": "markdown",
   "id": "014d523a",
   "metadata": {
    "papermill": {
     "duration": 0.002744,
     "end_time": "2022-08-29T06:07:04.099919",
     "exception": false,
     "start_time": "2022-08-29T06:07:04.097175",
     "status": "completed"
    },
    "tags": []
   },
   "source": [
    "## Step 1: Compare Different Tree Sizes\n",
    "Write a loop that tries the following values for *max_leaf_nodes* from a set of possible values.\n",
    "\n",
    "Call the *get_mae* function on each value of max_leaf_nodes. Store the output in some way that allows you to select the value of `max_leaf_nodes` that gives the most accurate model on your data."
   ]
  },
  {
   "cell_type": "code",
   "execution_count": 3,
   "id": "652fa511",
   "metadata": {
    "execution": {
     "iopub.execute_input": "2022-08-29T06:07:04.107616Z",
     "iopub.status.busy": "2022-08-29T06:07:04.107057Z",
     "iopub.status.idle": "2022-08-29T06:07:04.148514Z",
     "shell.execute_reply": "2022-08-29T06:07:04.147574Z"
    },
    "papermill": {
     "duration": 0.047751,
     "end_time": "2022-08-29T06:07:04.150659",
     "exception": false,
     "start_time": "2022-08-29T06:07:04.102908",
     "status": "completed"
    },
    "tags": []
   },
   "outputs": [
    {
     "data": {
      "application/javascript": [
       "parent.postMessage({\"jupyterEvent\": \"custom.exercise_interaction\", \"data\": {\"outcomeType\": 1, \"valueTowardsCompletion\": 0.5, \"interactionType\": 1, \"questionType\": 1, \"questionId\": \"1_BestTreeSize\", \"learnToolsVersion\": \"0.3.4\", \"failureMessage\": \"\", \"exceptionClass\": \"\", \"trace\": \"\"}}, \"*\")"
      ],
      "text/plain": [
       "<IPython.core.display.Javascript object>"
      ]
     },
     "metadata": {},
     "output_type": "display_data"
    },
    {
     "data": {
      "text/markdown": [
       "<span style=\"color:#33cc33\">Correct</span>"
      ],
      "text/plain": [
       "Correct"
      ]
     },
     "metadata": {},
     "output_type": "display_data"
    }
   ],
   "source": [
    "candidate_max_leaf_nodes = [5, 25, 50, 100, 250, 500]\n",
    "# Write loop to find the ideal tree size from candidate_max_leaf_nodes\n",
    "\n",
    "# Store the best value of max_leaf_nodes (it will be either 5, 25, 50, 100, 250 or 500)\n",
    "scores = {leaf_size: get_mae(leaf_size, train_X, val_X, train_y, val_y) for leaf_size in candidate_max_leaf_nodes}\n",
    "best_tree_size = min(scores, key=scores.get)\n",
    "\n",
    "# Check your answer\n",
    "step_1.check()"
   ]
  },
  {
   "cell_type": "code",
   "execution_count": 4,
   "id": "f90fa72c",
   "metadata": {
    "execution": {
     "iopub.execute_input": "2022-08-29T06:07:04.159030Z",
     "iopub.status.busy": "2022-08-29T06:07:04.158190Z",
     "iopub.status.idle": "2022-08-29T06:07:04.162799Z",
     "shell.execute_reply": "2022-08-29T06:07:04.161536Z"
    },
    "papermill": {
     "duration": 0.010879,
     "end_time": "2022-08-29T06:07:04.164892",
     "exception": false,
     "start_time": "2022-08-29T06:07:04.154013",
     "status": "completed"
    },
    "tags": []
   },
   "outputs": [],
   "source": [
    "# The lines below will show you a hint or the solution.\n",
    "# step_1.hint() \n",
    "#step_1.solution()"
   ]
  },
  {
   "cell_type": "markdown",
   "id": "e9dc63b8",
   "metadata": {
    "papermill": {
     "duration": 0.002972,
     "end_time": "2022-08-29T06:07:04.171259",
     "exception": false,
     "start_time": "2022-08-29T06:07:04.168287",
     "status": "completed"
    },
    "tags": []
   },
   "source": [
    "## Step 2: Fit Model Using All Data\n",
    "You know the best tree size. If you were going to deploy this model in practice, you would make it even more accurate by using all of the data and keeping that tree size.  That is, you don't need to hold out the validation data now that you've made all your modeling decisions."
   ]
  },
  {
   "cell_type": "code",
   "execution_count": 5,
   "id": "e1b5f79d",
   "metadata": {
    "execution": {
     "iopub.execute_input": "2022-08-29T06:07:04.179103Z",
     "iopub.status.busy": "2022-08-29T06:07:04.178197Z",
     "iopub.status.idle": "2022-08-29T06:07:04.193595Z",
     "shell.execute_reply": "2022-08-29T06:07:04.192550Z"
    },
    "papermill": {
     "duration": 0.021052,
     "end_time": "2022-08-29T06:07:04.195276",
     "exception": false,
     "start_time": "2022-08-29T06:07:04.174224",
     "status": "completed"
    },
    "tags": []
   },
   "outputs": [
    {
     "data": {
      "application/javascript": [
       "parent.postMessage({\"jupyterEvent\": \"custom.exercise_interaction\", \"data\": {\"outcomeType\": 1, \"valueTowardsCompletion\": 0.5, \"interactionType\": 1, \"questionType\": 2, \"questionId\": \"2_FitModelWithAllData\", \"learnToolsVersion\": \"0.3.4\", \"failureMessage\": \"\", \"exceptionClass\": \"\", \"trace\": \"\"}}, \"*\")"
      ],
      "text/plain": [
       "<IPython.core.display.Javascript object>"
      ]
     },
     "metadata": {},
     "output_type": "display_data"
    },
    {
     "data": {
      "text/markdown": [
       "<span style=\"color:#33cc33\">Correct</span>"
      ],
      "text/plain": [
       "Correct"
      ]
     },
     "metadata": {},
     "output_type": "display_data"
    }
   ],
   "source": [
    "# Fill in argument to make optimal size and uncomment\n",
    "final_model = DecisionTreeRegressor(max_leaf_nodes=best_tree_size, random_state=1)\n",
    "\n",
    "# fit the final model and uncomment the next two lines\n",
    "final_model.fit(X, y)\n",
    "\n",
    "# Check your answer\n",
    "step_2.check()"
   ]
  },
  {
   "cell_type": "code",
   "execution_count": 6,
   "id": "cd48ebb0",
   "metadata": {
    "execution": {
     "iopub.execute_input": "2022-08-29T06:07:04.209226Z",
     "iopub.status.busy": "2022-08-29T06:07:04.208920Z",
     "iopub.status.idle": "2022-08-29T06:07:04.212231Z",
     "shell.execute_reply": "2022-08-29T06:07:04.211496Z"
    },
    "papermill": {
     "duration": 0.015193,
     "end_time": "2022-08-29T06:07:04.213868",
     "exception": false,
     "start_time": "2022-08-29T06:07:04.198675",
     "status": "completed"
    },
    "tags": []
   },
   "outputs": [],
   "source": [
    "# step_2.hint()\n",
    "#step_2.solution()"
   ]
  },
  {
   "cell_type": "markdown",
   "id": "796a068d",
   "metadata": {
    "papermill": {
     "duration": 0.003055,
     "end_time": "2022-08-29T06:07:04.220475",
     "exception": false,
     "start_time": "2022-08-29T06:07:04.217420",
     "status": "completed"
    },
    "tags": []
   },
   "source": [
    "You've tuned this model and improved your results. But we are still using Decision Tree models, which are not very sophisticated by modern machine learning standards. In the next step you will learn to use Random Forests to improve your models even more.\n",
    "\n",
    "# Keep Going\n",
    "\n",
    "You are ready for **[Random Forests](https://www.kaggle.com/dansbecker/random-forests).**\n"
   ]
  },
  {
   "cell_type": "markdown",
   "id": "42597ec6",
   "metadata": {
    "papermill": {
     "duration": 0.00299,
     "end_time": "2022-08-29T06:07:04.226819",
     "exception": false,
     "start_time": "2022-08-29T06:07:04.223829",
     "status": "completed"
    },
    "tags": []
   },
   "source": [
    "---\n",
    "\n",
    "\n",
    "\n",
    "\n",
    "*Have questions or comments? Visit the [course discussion forum](https://www.kaggle.com/learn/intro-to-machine-learning/discussion) to chat with other learners.*"
   ]
  }
 ],
 "metadata": {
  "kernelspec": {
   "display_name": "Python 3",
   "language": "python",
   "name": "python3"
  },
  "language_info": {
   "codemirror_mode": {
    "name": "ipython",
    "version": 3
   },
   "file_extension": ".py",
   "mimetype": "text/x-python",
   "name": "python",
   "nbconvert_exporter": "python",
   "pygments_lexer": "ipython3",
   "version": "3.7.12"
  },
  "papermill": {
   "default_parameters": {},
   "duration": 9.669898,
   "end_time": "2022-08-29T06:07:04.849989",
   "environment_variables": {},
   "exception": null,
   "input_path": "__notebook__.ipynb",
   "output_path": "__notebook__.ipynb",
   "parameters": {},
   "start_time": "2022-08-29T06:06:55.180091",
   "version": "2.3.4"
  }
 },
 "nbformat": 4,
 "nbformat_minor": 5
}
