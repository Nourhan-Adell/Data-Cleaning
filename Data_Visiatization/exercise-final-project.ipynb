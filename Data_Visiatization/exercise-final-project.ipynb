{
 "cells": [
  {
   "cell_type": "markdown",
   "id": "70bac610",
   "metadata": {
    "papermill": {
     "duration": 0.006348,
     "end_time": "2022-08-27T10:50:45.605524",
     "exception": false,
     "start_time": "2022-08-27T10:50:45.599176",
     "status": "completed"
    },
    "tags": []
   },
   "source": [
    "**This notebook is an exercise in the [Data Visualization](https://www.kaggle.com/learn/data-visualization) course.  You can reference the tutorial at [this link](https://www.kaggle.com/alexisbcook/final-project).**\n",
    "\n",
    "---\n"
   ]
  },
  {
   "cell_type": "markdown",
   "id": "c53d49cc",
   "metadata": {
    "papermill": {
     "duration": 0.004362,
     "end_time": "2022-08-27T10:50:45.615264",
     "exception": false,
     "start_time": "2022-08-27T10:50:45.610902",
     "status": "completed"
    },
    "tags": []
   },
   "source": [
    "Now it's time for you to demonstrate your new skills with a project of your own!\n",
    "\n",
    "In this exercise, you will work with a dataset of your choosing.  Once you've selected a dataset, you'll design and create your own plot to tell interesting stories behind the data!\n",
    "\n",
    "## Setup\n",
    "\n",
    "Run the next cell to import and configure the Python libraries that you need to complete the exercise."
   ]
  },
  {
   "cell_type": "code",
   "execution_count": 1,
   "id": "22d2a63e",
   "metadata": {
    "execution": {
     "iopub.execute_input": "2022-08-27T10:50:45.626522Z",
     "iopub.status.busy": "2022-08-27T10:50:45.626019Z",
     "iopub.status.idle": "2022-08-27T10:50:46.560966Z",
     "shell.execute_reply": "2022-08-27T10:50:46.559931Z"
    },
    "papermill": {
     "duration": 0.944225,
     "end_time": "2022-08-27T10:50:46.564114",
     "exception": false,
     "start_time": "2022-08-27T10:50:45.619889",
     "status": "completed"
    },
    "tags": []
   },
   "outputs": [
    {
     "name": "stdout",
     "output_type": "stream",
     "text": [
      "Setup Complete\n"
     ]
    }
   ],
   "source": [
    "import pandas as pd\n",
    "pd.plotting.register_matplotlib_converters()\n",
    "import matplotlib.pyplot as plt\n",
    "%matplotlib inline\n",
    "import seaborn as sns\n",
    "print(\"Setup Complete\")"
   ]
  },
  {
   "cell_type": "markdown",
   "id": "c97fb610",
   "metadata": {
    "papermill": {
     "duration": 0.003254,
     "end_time": "2022-08-27T10:50:46.571028",
     "exception": false,
     "start_time": "2022-08-27T10:50:46.567774",
     "status": "completed"
    },
    "tags": []
   },
   "source": [
    "The questions below will give you feedback on your work. Run the following cell to set up the feedback system."
   ]
  },
  {
   "cell_type": "code",
   "execution_count": 2,
   "id": "8815478c",
   "metadata": {
    "execution": {
     "iopub.execute_input": "2022-08-27T10:50:46.579175Z",
     "iopub.status.busy": "2022-08-27T10:50:46.578819Z",
     "iopub.status.idle": "2022-08-27T10:50:46.602309Z",
     "shell.execute_reply": "2022-08-27T10:50:46.601139Z"
    },
    "papermill": {
     "duration": 0.029784,
     "end_time": "2022-08-27T10:50:46.604367",
     "exception": false,
     "start_time": "2022-08-27T10:50:46.574583",
     "status": "completed"
    },
    "tags": []
   },
   "outputs": [
    {
     "name": "stdout",
     "output_type": "stream",
     "text": [
      "Setup Complete\n"
     ]
    }
   ],
   "source": [
    "# Set up code checking\n",
    "from learntools.core import binder\n",
    "binder.bind(globals())\n",
    "from learntools.data_viz_to_coder.ex7 import *\n",
    "print(\"Setup Complete\")"
   ]
  },
  {
   "cell_type": "markdown",
   "id": "b559e71a",
   "metadata": {
    "papermill": {
     "duration": 0.003291,
     "end_time": "2022-08-27T10:50:46.611115",
     "exception": false,
     "start_time": "2022-08-27T10:50:46.607824",
     "status": "completed"
    },
    "tags": []
   },
   "source": [
    "## Step 1: Attach a dataset to the notebook\n",
    "\n",
    "Begin by selecting a CSV dataset from [Kaggle Datasets](https://www.kaggle.com/datasets).  If you're unsure how to do this, please revisit the instructions in the previous tutorial.\n",
    "\n",
    "Once you have selected a dataset, click on the **[+ Add data]** option in the top right corner.  This will generate a pop-up window that you can use to search for your chosen dataset.  \n",
    "\n",
    "![ex6_search_dataset](https://i.imgur.com/cIIWPUS.png)\n",
    "\n",
    "Once you have found the dataset, click on the **[Add]** button to attach it to the notebook.  You can check that it was successful by looking at the **Data** dropdown menu to the right of the notebook -- look for an **input** folder containing a subfolder that matches the name of the dataset.\n",
    "\n",
    "<center>\n",
    "<img src=\"https://i.imgur.com/nMYc1Nu.png\" width=30%><br/>\n",
    "</center>\n",
    "\n",
    "You can click on the carat to the left of the name of the dataset to double-check that it contains a CSV file.  For instance, the image below shows that the example dataset contains two CSV files: (1) **dc-wikia-data.csv**, and (2) **marvel-wikia-data.csv**.\n",
    "\n",
    "<center>\n",
    "<img src=\"https://i.imgur.com/B4sJkVA.png\" width=30%><br/>\n",
    "</center>\n",
    "\n",
    "Once you've uploaded a dataset with a CSV file, run the code cell below **without changes** to receive credit for your work!"
   ]
  },
  {
   "cell_type": "code",
   "execution_count": null,
   "id": "72829d1f",
   "metadata": {
    "papermill": {
     "duration": 0.003243,
     "end_time": "2022-08-27T10:50:46.617734",
     "exception": false,
     "start_time": "2022-08-27T10:50:46.614491",
     "status": "completed"
    },
    "tags": []
   },
   "outputs": [],
   "source": []
  },
  {
   "cell_type": "code",
   "execution_count": 3,
   "id": "3afe3145",
   "metadata": {
    "execution": {
     "iopub.execute_input": "2022-08-27T10:50:46.625939Z",
     "iopub.status.busy": "2022-08-27T10:50:46.625671Z",
     "iopub.status.idle": "2022-08-27T10:50:46.644714Z",
     "shell.execute_reply": "2022-08-27T10:50:46.643755Z"
    },
    "papermill": {
     "duration": 0.02538,
     "end_time": "2022-08-27T10:50:46.646819",
     "exception": false,
     "start_time": "2022-08-27T10:50:46.621439",
     "status": "completed"
    },
    "tags": []
   },
   "outputs": [
    {
     "data": {
      "application/javascript": [
       "parent.postMessage({\"jupyterEvent\": \"custom.exercise_interaction\", \"data\": {\"outcomeType\": 1, \"valueTowardsCompletion\": 0.25, \"interactionType\": 1, \"questionType\": 2, \"questionId\": \"1_AttachData\", \"learnToolsVersion\": \"0.3.4\", \"failureMessage\": \"\", \"exceptionClass\": \"\", \"trace\": \"\"}}, \"*\")"
      ],
      "text/plain": [
       "<IPython.core.display.Javascript object>"
      ]
     },
     "metadata": {},
     "output_type": "display_data"
    },
    {
     "data": {
      "text/markdown": [
       "<span style=\"color:#33cc33\">Correct:</span> \n",
       "\n"
      ],
      "text/plain": [
       "Correct: \n"
      ]
     },
     "metadata": {},
     "output_type": "display_data"
    }
   ],
   "source": [
    "# Check for a dataset with a CSV file\n",
    "step_1.check()"
   ]
  },
  {
   "cell_type": "markdown",
   "id": "492e2729",
   "metadata": {
    "papermill": {
     "duration": 0.003466,
     "end_time": "2022-08-27T10:50:46.653891",
     "exception": false,
     "start_time": "2022-08-27T10:50:46.650425",
     "status": "completed"
    },
    "tags": []
   },
   "source": [
    "## Step 2: Specify the filepath\n",
    "\n",
    "Now that the dataset is attached to the notebook, you can find its filepath.  To do this, begin by clicking on the CSV file you'd like to use.  This will open the CSV file in a tab below the notebook.  You can find the filepath towards the top of this new tab.  \n",
    "\n",
    "![ex6_filepath](https://i.imgur.com/fgXQV47.png)\n",
    "\n",
    "After you find the filepath corresponding to your dataset, fill it in as the value for `my_filepath` in the code cell below, and run the code cell to check that you've provided a valid filepath.  For instance, in the case of this example dataset, we would set\n",
    "```\n",
    "my_filepath = \"../input/fivethirtyeight-comic-characters-dataset/dc-wikia-data.csv\"\n",
    "```  \n",
    "Note that **you must enclose the filepath in quotation marks**; otherwise, the code will return an error.\n",
    "\n",
    "Once you've entered the filepath, you can close the tab below the notebook by clicking on the **[X]** at the top of the tab."
   ]
  },
  {
   "cell_type": "code",
   "execution_count": 4,
   "id": "365b9fe0",
   "metadata": {
    "execution": {
     "iopub.execute_input": "2022-08-27T10:50:46.662456Z",
     "iopub.status.busy": "2022-08-27T10:50:46.662205Z",
     "iopub.status.idle": "2022-08-27T10:50:46.670895Z",
     "shell.execute_reply": "2022-08-27T10:50:46.669952Z"
    },
    "papermill": {
     "duration": 0.015304,
     "end_time": "2022-08-27T10:50:46.672840",
     "exception": false,
     "start_time": "2022-08-27T10:50:46.657536",
     "status": "completed"
    },
    "tags": []
   },
   "outputs": [
    {
     "data": {
      "application/javascript": [
       "parent.postMessage({\"jupyterEvent\": \"custom.exercise_interaction\", \"data\": {\"outcomeType\": 1, \"valueTowardsCompletion\": 0.25, \"interactionType\": 1, \"questionType\": 2, \"questionId\": \"2_Filepath\", \"learnToolsVersion\": \"0.3.4\", \"failureMessage\": \"\", \"exceptionClass\": \"\", \"trace\": \"\"}}, \"*\")"
      ],
      "text/plain": [
       "<IPython.core.display.Javascript object>"
      ]
     },
     "metadata": {},
     "output_type": "display_data"
    },
    {
     "data": {
      "text/markdown": [
       "<span style=\"color:#33cc33\">Correct:</span> \n",
       "\n"
      ],
      "text/plain": [
       "Correct: \n"
      ]
     },
     "metadata": {},
     "output_type": "display_data"
    }
   ],
   "source": [
    "# Fill in the line below: Specify the path of the CSV file to read\n",
    "my_filepath = '../input/d/sveta151/tiktok-popular-songs-2019/TikTok_songs_2019.csv'\n",
    "\n",
    "# Check for a valid filepath to a CSV file in a dataset\n",
    "step_2.check()"
   ]
  },
  {
   "cell_type": "markdown",
   "id": "18b3d442",
   "metadata": {
    "papermill": {
     "duration": 0.003939,
     "end_time": "2022-08-27T10:50:46.680638",
     "exception": false,
     "start_time": "2022-08-27T10:50:46.676699",
     "status": "completed"
    },
    "tags": []
   },
   "source": [
    "## Step 3: Load the data\n",
    "\n",
    "Use the next code cell to load your data file into `my_data`.  Use the filepath that you specified in the previous step."
   ]
  },
  {
   "cell_type": "code",
   "execution_count": 5,
   "id": "82dee218",
   "metadata": {
    "execution": {
     "iopub.execute_input": "2022-08-27T10:50:46.690158Z",
     "iopub.status.busy": "2022-08-27T10:50:46.689415Z",
     "iopub.status.idle": "2022-08-27T10:50:46.710059Z",
     "shell.execute_reply": "2022-08-27T10:50:46.709126Z"
    },
    "papermill": {
     "duration": 0.027497,
     "end_time": "2022-08-27T10:50:46.712025",
     "exception": false,
     "start_time": "2022-08-27T10:50:46.684528",
     "status": "completed"
    },
    "tags": []
   },
   "outputs": [
    {
     "data": {
      "application/javascript": [
       "parent.postMessage({\"jupyterEvent\": \"custom.exercise_interaction\", \"data\": {\"outcomeType\": 1, \"valueTowardsCompletion\": 0.25, \"interactionType\": 1, \"questionType\": 2, \"questionId\": \"3_LoadData\", \"learnToolsVersion\": \"0.3.4\", \"failureMessage\": \"\", \"exceptionClass\": \"\", \"trace\": \"\"}}, \"*\")"
      ],
      "text/plain": [
       "<IPython.core.display.Javascript object>"
      ]
     },
     "metadata": {},
     "output_type": "display_data"
    },
    {
     "data": {
      "text/markdown": [
       "<span style=\"color:#33cc33\">Correct:</span> \n",
       "\n"
      ],
      "text/plain": [
       "Correct: \n"
      ]
     },
     "metadata": {},
     "output_type": "display_data"
    }
   ],
   "source": [
    "# Fill in the line below: Read the file into a variable my_data\n",
    "my_data = pd.read_csv(my_filepath)\n",
    "\n",
    "# Check that a dataset has been uploaded into my_data\n",
    "step_3.check()"
   ]
  },
  {
   "cell_type": "markdown",
   "id": "063f22ee",
   "metadata": {
    "papermill": {
     "duration": 0.004181,
     "end_time": "2022-08-27T10:50:46.720359",
     "exception": false,
     "start_time": "2022-08-27T10:50:46.716178",
     "status": "completed"
    },
    "tags": []
   },
   "source": [
    "**_After the code cell above is marked correct_**, run the code cell below without changes to view the first five rows of the data."
   ]
  },
  {
   "cell_type": "code",
   "execution_count": 6,
   "id": "5e676543",
   "metadata": {
    "execution": {
     "iopub.execute_input": "2022-08-27T10:50:46.729854Z",
     "iopub.status.busy": "2022-08-27T10:50:46.729600Z",
     "iopub.status.idle": "2022-08-27T10:50:46.751829Z",
     "shell.execute_reply": "2022-08-27T10:50:46.750902Z"
    },
    "papermill": {
     "duration": 0.029558,
     "end_time": "2022-08-27T10:50:46.753968",
     "exception": false,
     "start_time": "2022-08-27T10:50:46.724410",
     "status": "completed"
    },
    "tags": []
   },
   "outputs": [
    {
     "data": {
      "text/html": [
       "<div>\n",
       "<style scoped>\n",
       "    .dataframe tbody tr th:only-of-type {\n",
       "        vertical-align: middle;\n",
       "    }\n",
       "\n",
       "    .dataframe tbody tr th {\n",
       "        vertical-align: top;\n",
       "    }\n",
       "\n",
       "    .dataframe thead th {\n",
       "        text-align: right;\n",
       "    }\n",
       "</style>\n",
       "<table border=\"1\" class=\"dataframe\">\n",
       "  <thead>\n",
       "    <tr style=\"text-align: right;\">\n",
       "      <th></th>\n",
       "      <th>track_name</th>\n",
       "      <th>artist_name</th>\n",
       "      <th>artist_pop</th>\n",
       "      <th>album</th>\n",
       "      <th>track_pop</th>\n",
       "      <th>danceability</th>\n",
       "      <th>energy</th>\n",
       "      <th>loudness</th>\n",
       "      <th>mode</th>\n",
       "      <th>key</th>\n",
       "      <th>speechiness</th>\n",
       "      <th>acousticness</th>\n",
       "      <th>instrumentalness</th>\n",
       "      <th>liveness</th>\n",
       "      <th>valence</th>\n",
       "      <th>tempo</th>\n",
       "      <th>time_signature</th>\n",
       "      <th>duration_ms</th>\n",
       "    </tr>\n",
       "  </thead>\n",
       "  <tbody>\n",
       "    <tr>\n",
       "      <th>0</th>\n",
       "      <td>Shake It</td>\n",
       "      <td>Metro Station</td>\n",
       "      <td>53</td>\n",
       "      <td>Metro Station</td>\n",
       "      <td>68</td>\n",
       "      <td>0.618</td>\n",
       "      <td>0.955</td>\n",
       "      <td>-3.836</td>\n",
       "      <td>1</td>\n",
       "      <td>4</td>\n",
       "      <td>0.0798</td>\n",
       "      <td>0.00221</td>\n",
       "      <td>0.000003</td>\n",
       "      <td>0.486</td>\n",
       "      <td>0.790</td>\n",
       "      <td>150.034</td>\n",
       "      <td>4</td>\n",
       "      <td>179947</td>\n",
       "    </tr>\n",
       "    <tr>\n",
       "      <th>1</th>\n",
       "      <td>Chinese New Year</td>\n",
       "      <td>SALES</td>\n",
       "      <td>61</td>\n",
       "      <td>SALES - EP</td>\n",
       "      <td>53</td>\n",
       "      <td>0.744</td>\n",
       "      <td>0.845</td>\n",
       "      <td>-7.422</td>\n",
       "      <td>0</td>\n",
       "      <td>4</td>\n",
       "      <td>0.2530</td>\n",
       "      <td>0.75900</td>\n",
       "      <td>0.232000</td>\n",
       "      <td>0.100</td>\n",
       "      <td>0.749</td>\n",
       "      <td>75.221</td>\n",
       "      <td>4</td>\n",
       "      <td>160000</td>\n",
       "    </tr>\n",
       "    <tr>\n",
       "      <th>2</th>\n",
       "      <td>Baby I'm Yours</td>\n",
       "      <td>Breakbot</td>\n",
       "      <td>57</td>\n",
       "      <td>By Your Side</td>\n",
       "      <td>69</td>\n",
       "      <td>0.829</td>\n",
       "      <td>0.792</td>\n",
       "      <td>-3.755</td>\n",
       "      <td>0</td>\n",
       "      <td>2</td>\n",
       "      <td>0.0668</td>\n",
       "      <td>0.72600</td>\n",
       "      <td>0.000006</td>\n",
       "      <td>0.122</td>\n",
       "      <td>0.758</td>\n",
       "      <td>118.050</td>\n",
       "      <td>4</td>\n",
       "      <td>215507</td>\n",
       "    </tr>\n",
       "    <tr>\n",
       "      <th>3</th>\n",
       "      <td>The Git Up</td>\n",
       "      <td>Blanco Brown</td>\n",
       "      <td>60</td>\n",
       "      <td>The Git Up</td>\n",
       "      <td>2</td>\n",
       "      <td>0.847</td>\n",
       "      <td>0.678</td>\n",
       "      <td>-8.635</td>\n",
       "      <td>1</td>\n",
       "      <td>9</td>\n",
       "      <td>0.1090</td>\n",
       "      <td>0.06690</td>\n",
       "      <td>0.000000</td>\n",
       "      <td>0.274</td>\n",
       "      <td>0.811</td>\n",
       "      <td>97.984</td>\n",
       "      <td>4</td>\n",
       "      <td>200594</td>\n",
       "    </tr>\n",
       "    <tr>\n",
       "      <th>4</th>\n",
       "      <td>Say Hey (I Love You)</td>\n",
       "      <td>Michael Franti &amp; Spearhead</td>\n",
       "      <td>58</td>\n",
       "      <td>All Rebel Rockers</td>\n",
       "      <td>0</td>\n",
       "      <td>0.738</td>\n",
       "      <td>0.983</td>\n",
       "      <td>-4.374</td>\n",
       "      <td>0</td>\n",
       "      <td>5</td>\n",
       "      <td>0.0855</td>\n",
       "      <td>0.03800</td>\n",
       "      <td>0.000006</td>\n",
       "      <td>0.183</td>\n",
       "      <td>0.957</td>\n",
       "      <td>92.998</td>\n",
       "      <td>4</td>\n",
       "      <td>235760</td>\n",
       "    </tr>\n",
       "  </tbody>\n",
       "</table>\n",
       "</div>"
      ],
      "text/plain": [
       "             track_name                 artist_name  artist_pop  \\\n",
       "0              Shake It               Metro Station          53   \n",
       "1      Chinese New Year                       SALES          61   \n",
       "2        Baby I'm Yours                    Breakbot          57   \n",
       "3            The Git Up                Blanco Brown          60   \n",
       "4  Say Hey (I Love You)  Michael Franti & Spearhead          58   \n",
       "\n",
       "               album  track_pop  danceability  energy  loudness  mode  key  \\\n",
       "0      Metro Station         68         0.618   0.955    -3.836     1    4   \n",
       "1         SALES - EP         53         0.744   0.845    -7.422     0    4   \n",
       "2       By Your Side         69         0.829   0.792    -3.755     0    2   \n",
       "3         The Git Up          2         0.847   0.678    -8.635     1    9   \n",
       "4  All Rebel Rockers          0         0.738   0.983    -4.374     0    5   \n",
       "\n",
       "   speechiness  acousticness  instrumentalness  liveness  valence    tempo  \\\n",
       "0       0.0798       0.00221          0.000003     0.486    0.790  150.034   \n",
       "1       0.2530       0.75900          0.232000     0.100    0.749   75.221   \n",
       "2       0.0668       0.72600          0.000006     0.122    0.758  118.050   \n",
       "3       0.1090       0.06690          0.000000     0.274    0.811   97.984   \n",
       "4       0.0855       0.03800          0.000006     0.183    0.957   92.998   \n",
       "\n",
       "   time_signature  duration_ms  \n",
       "0               4       179947  \n",
       "1               4       160000  \n",
       "2               4       215507  \n",
       "3               4       200594  \n",
       "4               4       235760  "
      ]
     },
     "execution_count": 6,
     "metadata": {},
     "output_type": "execute_result"
    }
   ],
   "source": [
    "# Print the first five rows of the data\n",
    "my_data.head()"
   ]
  },
  {
   "cell_type": "markdown",
   "id": "070abeef",
   "metadata": {
    "papermill": {
     "duration": 0.004416,
     "end_time": "2022-08-27T10:50:46.762931",
     "exception": false,
     "start_time": "2022-08-27T10:50:46.758515",
     "status": "completed"
    },
    "tags": []
   },
   "source": [
    "## Step 4: Visualize the data\n",
    "\n",
    "Use the next code cell to create a figure that tells a story behind your dataset.  You can use any chart type (_line chart, bar chart, heatmap, etc_) of your choosing!"
   ]
  },
  {
   "cell_type": "code",
   "execution_count": 7,
   "id": "83dffdf8",
   "metadata": {
    "execution": {
     "iopub.execute_input": "2022-08-27T10:50:46.773044Z",
     "iopub.status.busy": "2022-08-27T10:50:46.772299Z",
     "iopub.status.idle": "2022-08-27T10:50:47.051912Z",
     "shell.execute_reply": "2022-08-27T10:50:47.050971Z"
    },
    "papermill": {
     "duration": 0.286727,
     "end_time": "2022-08-27T10:50:47.053990",
     "exception": false,
     "start_time": "2022-08-27T10:50:46.767263",
     "status": "completed"
    },
    "tags": []
   },
   "outputs": [
    {
     "data": {
      "application/javascript": [
       "parent.postMessage({\"jupyterEvent\": \"custom.exercise_interaction\", \"data\": {\"outcomeType\": 1, \"valueTowardsCompletion\": 0.25, \"interactionType\": 1, \"questionType\": 2, \"questionId\": \"4_CreatePlot\", \"learnToolsVersion\": \"0.3.4\", \"failureMessage\": \"\", \"exceptionClass\": \"\", \"trace\": \"\"}}, \"*\")"
      ],
      "text/plain": [
       "<IPython.core.display.Javascript object>"
      ]
     },
     "metadata": {},
     "output_type": "display_data"
    },
    {
     "data": {
      "text/markdown": [
       "<span style=\"color:#33cc33\">Correct:</span> \n",
       "\n"
      ],
      "text/plain": [
       "Correct: \n"
      ]
     },
     "metadata": {},
     "output_type": "display_data"
    },
    {
     "data": {
      "image/png": "[encoded data removed]",
      "text/plain": [
       "<Figure size 720x720 with 1 Axes>"
      ]
     },
     "metadata": {
      "needs_background": "light"
     },
     "output_type": "display_data"
    }
   ],
   "source": [
    "# Create a plot\n",
    "plt.figure(figsize=(10,10))\n",
    "sns.scatterplot(x=my_data['track_pop'], y= my_data['loudness']) # Your code here\n",
    "\n",
    "# Check that a figure appears below\n",
    "step_4.check()"
   ]
  },
  {
   "cell_type": "markdown",
   "id": "462c9bac",
   "metadata": {
    "papermill": {
     "duration": 0.004821,
     "end_time": "2022-08-27T10:50:47.063983",
     "exception": false,
     "start_time": "2022-08-27T10:50:47.059162",
     "status": "completed"
    },
    "tags": []
   },
   "source": [
    "## Keep going\n",
    "\n",
    "Learn how to use your skills after completing the micro-course to create data visualizations in a **[final tutorial](https://www.kaggle.com/alexisbcook/creating-your-own-notebooks)**."
   ]
  },
  {
   "cell_type": "markdown",
   "id": "5d738ce2",
   "metadata": {
    "papermill": {
     "duration": 0.004799,
     "end_time": "2022-08-27T10:50:47.073542",
     "exception": false,
     "start_time": "2022-08-27T10:50:47.068743",
     "status": "completed"
    },
    "tags": []
   },
   "source": [
    "---\n",
    "\n",
    "\n",
    "\n",
    "\n",
    "*Have questions or comments? Visit the [course discussion forum](https://www.kaggle.com/learn/data-visualization/discussion) to chat with other learners.*"
   ]
  }
 ],
 "metadata": {
  "kernelspec": {
   "display_name": "Python 3",
   "language": "python",
   "name": "python3"
  },
  "language_info": {
   "codemirror_mode": {
    "name": "ipython",
    "version": 3
   },
   "file_extension": ".py",
   "mimetype": "text/x-python",
   "name": "python",
   "nbconvert_exporter": "python",
   "pygments_lexer": "ipython3",
   "version": "3.7.12"
  },
  "papermill": {
   "default_parameters": {},
   "duration": 10.137744,
   "end_time": "2022-08-27T10:50:47.698884",
   "environment_variables": {},
   "exception": null,
   "input_path": "__notebook__.ipynb",
   "output_path": "__notebook__.ipynb",
   "parameters": {},
   "start_time": "2022-08-27T10:50:37.561140",
   "version": "2.3.4"
  }
 },
 "nbformat": 4,
 "nbformat_minor": 5
}
