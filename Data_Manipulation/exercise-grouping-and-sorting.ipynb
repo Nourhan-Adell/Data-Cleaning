{
 "cells": [
  {
   "cell_type": "markdown",
   "id": "9060725e",
   "metadata": {
    "papermill": {
     "duration": 0.007264,
     "end_time": "2022-08-27T16:20:34.335687",
     "exception": false,
     "start_time": "2022-08-27T16:20:34.328423",
     "status": "completed"
    },
    "tags": []
   },
   "source": [
    "**This notebook is an exercise in the [Pandas](https://www.kaggle.com/learn/pandas) course.  You can reference the tutorial at [this link](https://www.kaggle.com/residentmario/grouping-and-sorting).**\n",
    "\n",
    "---\n"
   ]
  },
  {
   "cell_type": "markdown",
   "id": "89d760a8",
   "metadata": {
    "papermill": {
     "duration": 0.005719,
     "end_time": "2022-08-27T16:20:34.347689",
     "exception": false,
     "start_time": "2022-08-27T16:20:34.341970",
     "status": "completed"
    },
    "tags": []
   },
   "source": [
    "# Introduction\n",
    "\n",
    "In these exercises we'll apply groupwise analysis to our dataset.\n",
    "\n",
    "Run the code cell below to load the data before running the exercises."
   ]
  },
  {
   "cell_type": "code",
   "execution_count": 1,
   "id": "d614bc7f",
   "metadata": {
    "execution": {
     "iopub.execute_input": "2022-08-27T16:20:34.363193Z",
     "iopub.status.busy": "2022-08-27T16:20:34.361884Z",
     "iopub.status.idle": "2022-08-27T16:20:37.309408Z",
     "shell.execute_reply": "2022-08-27T16:20:37.308201Z"
    },
    "papermill": {
     "duration": 2.95824,
     "end_time": "2022-08-27T16:20:37.312280",
     "exception": false,
     "start_time": "2022-08-27T16:20:34.354040",
     "status": "completed"
    },
    "tags": []
   },
   "outputs": [
    {
     "name": "stdout",
     "output_type": "stream",
     "text": [
      "Setup complete.\n"
     ]
    }
   ],
   "source": [
    "import pandas as pd\n",
    "\n",
    "reviews = pd.read_csv(\"../input/wine-reviews/winemag-data-130k-v2.csv\", index_col=0)\n",
    "#pd.set_option(\"display.max_rows\", 5)\n",
    "\n",
    "from learntools.core import binder; binder.bind(globals())\n",
    "from learntools.pandas.grouping_and_sorting import *\n",
    "print(\"Setup complete.\")"
   ]
  },
  {
   "cell_type": "markdown",
   "id": "5e09d7b5",
   "metadata": {
    "papermill": {
     "duration": 0.00602,
     "end_time": "2022-08-27T16:20:37.324911",
     "exception": false,
     "start_time": "2022-08-27T16:20:37.318891",
     "status": "completed"
    },
    "tags": []
   },
   "source": [
    "# Exercises"
   ]
  },
  {
   "cell_type": "markdown",
   "id": "4ed4b553",
   "metadata": {
    "papermill": {
     "duration": 0.005971,
     "end_time": "2022-08-27T16:20:37.337770",
     "exception": false,
     "start_time": "2022-08-27T16:20:37.331799",
     "status": "completed"
    },
    "tags": []
   },
   "source": [
    "## 1.\n",
    "Who are the most common wine reviewers in the dataset? Create a `Series` whose index is the `taster_twitter_handle` category from the dataset, and whose values count how many reviews each person wrote."
   ]
  },
  {
   "cell_type": "code",
   "execution_count": 2,
   "id": "2feb8b43",
   "metadata": {
    "execution": {
     "iopub.execute_input": "2022-08-27T16:20:37.352370Z",
     "iopub.status.busy": "2022-08-27T16:20:37.351961Z",
     "iopub.status.idle": "2022-08-27T16:20:37.382605Z",
     "shell.execute_reply": "2022-08-27T16:20:37.381543Z"
    },
    "papermill": {
     "duration": 0.040957,
     "end_time": "2022-08-27T16:20:37.385258",
     "exception": false,
     "start_time": "2022-08-27T16:20:37.344301",
     "status": "completed"
    },
    "tags": []
   },
   "outputs": [
    {
     "data": {
      "application/javascript": [
       "parent.postMessage({\"jupyterEvent\": \"custom.exercise_interaction\", \"data\": {\"outcomeType\": 1, \"valueTowardsCompletion\": 0.16666666666666666, \"interactionType\": 1, \"questionType\": 1, \"questionId\": \"1_ReviewsWritten\", \"learnToolsVersion\": \"0.3.4\", \"failureMessage\": \"\", \"exceptionClass\": \"\", \"trace\": \"\"}}, \"*\")"
      ],
      "text/plain": [
       "<IPython.core.display.Javascript object>"
      ]
     },
     "metadata": {},
     "output_type": "display_data"
    },
    {
     "data": {
      "text/markdown": [
       "<span style=\"color:#33cc33\">Correct:</span> \n",
       "\n",
       "\n",
       "```python\n",
       "reviews_written = reviews.groupby('taster_twitter_handle').size()\n",
       "```\n",
       "or\n",
       "```python\n",
       "reviews_written = reviews.groupby('taster_twitter_handle').taster_twitter_handle.count()\n",
       "```\n"
      ],
      "text/plain": [
       "Correct: \n",
       "\n",
       "\n",
       "```python\n",
       "reviews_written = reviews.groupby('taster_twitter_handle').size()\n",
       "```\n",
       "or\n",
       "```python\n",
       "reviews_written = reviews.groupby('taster_twitter_handle').taster_twitter_handle.count()\n",
       "```"
      ]
     },
     "metadata": {},
     "output_type": "display_data"
    }
   ],
   "source": [
    "# Your code here\n",
    "reviews_written = reviews.groupby('taster_twitter_handle').taster_twitter_handle.count()\n",
    "\n",
    "# Check your answer\n",
    "q1.check()"
   ]
  },
  {
   "cell_type": "code",
   "execution_count": 3,
   "id": "fee21279",
   "metadata": {
    "execution": {
     "iopub.execute_input": "2022-08-27T16:20:37.400781Z",
     "iopub.status.busy": "2022-08-27T16:20:37.399884Z",
     "iopub.status.idle": "2022-08-27T16:20:37.404862Z",
     "shell.execute_reply": "2022-08-27T16:20:37.403994Z"
    },
    "papermill": {
     "duration": 0.01533,
     "end_time": "2022-08-27T16:20:37.407229",
     "exception": false,
     "start_time": "2022-08-27T16:20:37.391899",
     "status": "completed"
    },
    "tags": []
   },
   "outputs": [],
   "source": [
    "#q1.hint()\n",
    "#q1.solution()"
   ]
  },
  {
   "cell_type": "markdown",
   "id": "62e9ae0e",
   "metadata": {
    "papermill": {
     "duration": 0.006408,
     "end_time": "2022-08-27T16:20:37.420059",
     "exception": false,
     "start_time": "2022-08-27T16:20:37.413651",
     "status": "completed"
    },
    "tags": []
   },
   "source": [
    "## 2.\n",
    "What is the best wine I can buy for a given amount of money? Create a `Series` whose index is wine prices and whose values is the maximum number of points a wine costing that much was given in a review. Sort the values by price, ascending (so that `4.0` dollars is at the top and `3300.0` dollars is at the bottom)."
   ]
  },
  {
   "cell_type": "code",
   "execution_count": 4,
   "id": "013f4027",
   "metadata": {
    "execution": {
     "iopub.execute_input": "2022-08-27T16:20:37.435397Z",
     "iopub.status.busy": "2022-08-27T16:20:37.434622Z",
     "iopub.status.idle": "2022-08-27T16:20:37.449985Z",
     "shell.execute_reply": "2022-08-27T16:20:37.448787Z"
    },
    "papermill": {
     "duration": 0.025729,
     "end_time": "2022-08-27T16:20:37.452340",
     "exception": false,
     "start_time": "2022-08-27T16:20:37.426611",
     "status": "completed"
    },
    "tags": []
   },
   "outputs": [
    {
     "data": {
      "application/javascript": [
       "parent.postMessage({\"jupyterEvent\": \"custom.exercise_interaction\", \"data\": {\"outcomeType\": 1, \"valueTowardsCompletion\": 0.16666666666666666, \"interactionType\": 1, \"questionType\": 1, \"questionId\": \"2_BestRatingPerPrice\", \"learnToolsVersion\": \"0.3.4\", \"failureMessage\": \"\", \"exceptionClass\": \"\", \"trace\": \"\"}}, \"*\")"
      ],
      "text/plain": [
       "<IPython.core.display.Javascript object>"
      ]
     },
     "metadata": {},
     "output_type": "display_data"
    },
    {
     "data": {
      "text/markdown": [
       "<span style=\"color:#33cc33\">Correct</span>"
      ],
      "text/plain": [
       "Correct"
      ]
     },
     "metadata": {},
     "output_type": "display_data"
    }
   ],
   "source": [
    "best_rating_per_price = reviews.groupby('price')['points'].max().sort_index()\n",
    "# Check your answer\n",
    "q2.check()"
   ]
  },
  {
   "cell_type": "code",
   "execution_count": 5,
   "id": "3964192b",
   "metadata": {
    "execution": {
     "iopub.execute_input": "2022-08-27T16:20:37.468100Z",
     "iopub.status.busy": "2022-08-27T16:20:37.467407Z",
     "iopub.status.idle": "2022-08-27T16:20:37.476645Z",
     "shell.execute_reply": "2022-08-27T16:20:37.475692Z"
    },
    "papermill": {
     "duration": 0.019742,
     "end_time": "2022-08-27T16:20:37.478900",
     "exception": false,
     "start_time": "2022-08-27T16:20:37.459158",
     "status": "completed"
    },
    "tags": []
   },
   "outputs": [
    {
     "data": {
      "application/javascript": [
       "parent.postMessage({\"jupyterEvent\": \"custom.exercise_interaction\", \"data\": {\"interactionType\": 3, \"questionType\": 1, \"questionId\": \"2_BestRatingPerPrice\", \"learnToolsVersion\": \"0.3.4\", \"valueTowardsCompletion\": 0.0, \"failureMessage\": \"\", \"exceptionClass\": \"\", \"trace\": \"\", \"outcomeType\": 4}}, \"*\")"
      ],
      "text/plain": [
       "<IPython.core.display.Javascript object>"
      ]
     },
     "metadata": {},
     "output_type": "display_data"
    },
    {
     "data": {
      "text/markdown": [
       "<span style=\"color:#33cc99\">Solution:</span> \n",
       "```python\n",
       "best_rating_per_price = reviews.groupby('price')['points'].max().sort_index()\n",
       "```"
      ],
      "text/plain": [
       "Solution: \n",
       "```python\n",
       "best_rating_per_price = reviews.groupby('price')['points'].max().sort_index()\n",
       "```"
      ]
     },
     "metadata": {},
     "output_type": "display_data"
    }
   ],
   "source": [
    "#q2.hint()\n",
    "q2.solution()"
   ]
  },
  {
   "cell_type": "code",
   "execution_count": 6,
   "id": "1da1158e",
   "metadata": {
    "execution": {
     "iopub.execute_input": "2022-08-27T16:20:37.494908Z",
     "iopub.status.busy": "2022-08-27T16:20:37.494231Z",
     "iopub.status.idle": "2022-08-27T16:20:37.517802Z",
     "shell.execute_reply": "2022-08-27T16:20:37.516897Z"
    },
    "papermill": {
     "duration": 0.034265,
     "end_time": "2022-08-27T16:20:37.520024",
     "exception": false,
     "start_time": "2022-08-27T16:20:37.485759",
     "status": "completed"
    },
    "tags": []
   },
   "outputs": [
    {
     "data": {
      "text/html": [
       "<div>\n",
       "<style scoped>\n",
       "    .dataframe tbody tr th:only-of-type {\n",
       "        vertical-align: middle;\n",
       "    }\n",
       "\n",
       "    .dataframe tbody tr th {\n",
       "        vertical-align: top;\n",
       "    }\n",
       "\n",
       "    .dataframe thead th {\n",
       "        text-align: right;\n",
       "    }\n",
       "</style>\n",
       "<table border=\"1\" class=\"dataframe\">\n",
       "  <thead>\n",
       "    <tr style=\"text-align: right;\">\n",
       "      <th></th>\n",
       "      <th>country</th>\n",
       "      <th>description</th>\n",
       "      <th>designation</th>\n",
       "      <th>points</th>\n",
       "      <th>price</th>\n",
       "      <th>province</th>\n",
       "      <th>region_1</th>\n",
       "      <th>region_2</th>\n",
       "      <th>taster_name</th>\n",
       "      <th>taster_twitter_handle</th>\n",
       "      <th>title</th>\n",
       "      <th>variety</th>\n",
       "      <th>winery</th>\n",
       "    </tr>\n",
       "  </thead>\n",
       "  <tbody>\n",
       "    <tr>\n",
       "      <th>0</th>\n",
       "      <td>Italy</td>\n",
       "      <td>Aromas include tropical fruit, broom, brimston...</td>\n",
       "      <td>Vulkà Bianco</td>\n",
       "      <td>87</td>\n",
       "      <td>NaN</td>\n",
       "      <td>Sicily &amp; Sardinia</td>\n",
       "      <td>Etna</td>\n",
       "      <td>NaN</td>\n",
       "      <td>Kerin O’Keefe</td>\n",
       "      <td>@kerinokeefe</td>\n",
       "      <td>Nicosia 2013 Vulkà Bianco  (Etna)</td>\n",
       "      <td>White Blend</td>\n",
       "      <td>Nicosia</td>\n",
       "    </tr>\n",
       "    <tr>\n",
       "      <th>1</th>\n",
       "      <td>Portugal</td>\n",
       "      <td>This is ripe and fruity, a wine that is smooth...</td>\n",
       "      <td>Avidagos</td>\n",
       "      <td>87</td>\n",
       "      <td>15.0</td>\n",
       "      <td>Douro</td>\n",
       "      <td>NaN</td>\n",
       "      <td>NaN</td>\n",
       "      <td>Roger Voss</td>\n",
       "      <td>@vossroger</td>\n",
       "      <td>Quinta dos Avidagos 2011 Avidagos Red (Douro)</td>\n",
       "      <td>Portuguese Red</td>\n",
       "      <td>Quinta dos Avidagos</td>\n",
       "    </tr>\n",
       "    <tr>\n",
       "      <th>2</th>\n",
       "      <td>US</td>\n",
       "      <td>Tart and snappy, the flavors of lime flesh and...</td>\n",
       "      <td>NaN</td>\n",
       "      <td>87</td>\n",
       "      <td>14.0</td>\n",
       "      <td>Oregon</td>\n",
       "      <td>Willamette Valley</td>\n",
       "      <td>Willamette Valley</td>\n",
       "      <td>Paul Gregutt</td>\n",
       "      <td>@paulgwine</td>\n",
       "      <td>Rainstorm 2013 Pinot Gris (Willamette Valley)</td>\n",
       "      <td>Pinot Gris</td>\n",
       "      <td>Rainstorm</td>\n",
       "    </tr>\n",
       "    <tr>\n",
       "      <th>3</th>\n",
       "      <td>US</td>\n",
       "      <td>Pineapple rind, lemon pith and orange blossom ...</td>\n",
       "      <td>Reserve Late Harvest</td>\n",
       "      <td>87</td>\n",
       "      <td>13.0</td>\n",
       "      <td>Michigan</td>\n",
       "      <td>Lake Michigan Shore</td>\n",
       "      <td>NaN</td>\n",
       "      <td>Alexander Peartree</td>\n",
       "      <td>NaN</td>\n",
       "      <td>St. Julian 2013 Reserve Late Harvest Riesling ...</td>\n",
       "      <td>Riesling</td>\n",
       "      <td>St. Julian</td>\n",
       "    </tr>\n",
       "    <tr>\n",
       "      <th>4</th>\n",
       "      <td>US</td>\n",
       "      <td>Much like the regular bottling from 2012, this...</td>\n",
       "      <td>Vintner's Reserve Wild Child Block</td>\n",
       "      <td>87</td>\n",
       "      <td>65.0</td>\n",
       "      <td>Oregon</td>\n",
       "      <td>Willamette Valley</td>\n",
       "      <td>Willamette Valley</td>\n",
       "      <td>Paul Gregutt</td>\n",
       "      <td>@paulgwine</td>\n",
       "      <td>Sweet Cheeks 2012 Vintner's Reserve Wild Child...</td>\n",
       "      <td>Pinot Noir</td>\n",
       "      <td>Sweet Cheeks</td>\n",
       "    </tr>\n",
       "  </tbody>\n",
       "</table>\n",
       "</div>"
      ],
      "text/plain": [
       "    country                                        description  \\\n",
       "0     Italy  Aromas include tropical fruit, broom, brimston...   \n",
       "1  Portugal  This is ripe and fruity, a wine that is smooth...   \n",
       "2        US  Tart and snappy, the flavors of lime flesh and...   \n",
       "3        US  Pineapple rind, lemon pith and orange blossom ...   \n",
       "4        US  Much like the regular bottling from 2012, this...   \n",
       "\n",
       "                          designation  points  price           province  \\\n",
       "0                        Vulkà Bianco      87    NaN  Sicily & Sardinia   \n",
       "1                            Avidagos      87   15.0              Douro   \n",
       "2                                 NaN      87   14.0             Oregon   \n",
       "3                Reserve Late Harvest      87   13.0           Michigan   \n",
       "4  Vintner's Reserve Wild Child Block      87   65.0             Oregon   \n",
       "\n",
       "              region_1           region_2         taster_name  \\\n",
       "0                 Etna                NaN       Kerin O’Keefe   \n",
       "1                  NaN                NaN          Roger Voss   \n",
       "2    Willamette Valley  Willamette Valley        Paul Gregutt   \n",
       "3  Lake Michigan Shore                NaN  Alexander Peartree   \n",
       "4    Willamette Valley  Willamette Valley        Paul Gregutt   \n",
       "\n",
       "  taster_twitter_handle                                              title  \\\n",
       "0          @kerinokeefe                  Nicosia 2013 Vulkà Bianco  (Etna)   \n",
       "1            @vossroger      Quinta dos Avidagos 2011 Avidagos Red (Douro)   \n",
       "2           @paulgwine       Rainstorm 2013 Pinot Gris (Willamette Valley)   \n",
       "3                   NaN  St. Julian 2013 Reserve Late Harvest Riesling ...   \n",
       "4           @paulgwine   Sweet Cheeks 2012 Vintner's Reserve Wild Child...   \n",
       "\n",
       "          variety               winery  \n",
       "0     White Blend              Nicosia  \n",
       "1  Portuguese Red  Quinta dos Avidagos  \n",
       "2      Pinot Gris            Rainstorm  \n",
       "3        Riesling           St. Julian  \n",
       "4      Pinot Noir         Sweet Cheeks  "
      ]
     },
     "execution_count": 6,
     "metadata": {},
     "output_type": "execute_result"
    }
   ],
   "source": [
    "reviews.head()"
   ]
  },
  {
   "cell_type": "markdown",
   "id": "fa53565b",
   "metadata": {
    "papermill": {
     "duration": 0.006976,
     "end_time": "2022-08-27T16:20:37.534397",
     "exception": false,
     "start_time": "2022-08-27T16:20:37.527421",
     "status": "completed"
    },
    "tags": []
   },
   "source": [
    "## 3.\n",
    "What are the minimum and maximum prices for each `variety` of wine? Create a `DataFrame` whose index is the `variety` category from the dataset and whose values are the `min` and `max` values thereof."
   ]
  },
  {
   "cell_type": "code",
   "execution_count": 7,
   "id": "871454ed",
   "metadata": {
    "execution": {
     "iopub.execute_input": "2022-08-27T16:20:37.550987Z",
     "iopub.status.busy": "2022-08-27T16:20:37.549930Z",
     "iopub.status.idle": "2022-08-27T16:20:37.574684Z",
     "shell.execute_reply": "2022-08-27T16:20:37.573599Z"
    },
    "papermill": {
     "duration": 0.035793,
     "end_time": "2022-08-27T16:20:37.577309",
     "exception": false,
     "start_time": "2022-08-27T16:20:37.541516",
     "status": "completed"
    },
    "tags": []
   },
   "outputs": [
    {
     "data": {
      "application/javascript": [
       "parent.postMessage({\"jupyterEvent\": \"custom.exercise_interaction\", \"data\": {\"outcomeType\": 1, \"valueTowardsCompletion\": 0.16666666666666666, \"interactionType\": 1, \"questionType\": 1, \"questionId\": \"3_PriceExtremes\", \"learnToolsVersion\": \"0.3.4\", \"failureMessage\": \"\", \"exceptionClass\": \"\", \"trace\": \"\"}}, \"*\")"
      ],
      "text/plain": [
       "<IPython.core.display.Javascript object>"
      ]
     },
     "metadata": {},
     "output_type": "display_data"
    },
    {
     "data": {
      "text/markdown": [
       "<span style=\"color:#33cc33\">Correct</span>"
      ],
      "text/plain": [
       "Correct"
      ]
     },
     "metadata": {},
     "output_type": "display_data"
    }
   ],
   "source": [
    "price_extremes = reviews.groupby('variety').price.agg([min,max])\n",
    "\n",
    "# Check your answer\n",
    "q3.check()"
   ]
  },
  {
   "cell_type": "code",
   "execution_count": 8,
   "id": "184cc504",
   "metadata": {
    "execution": {
     "iopub.execute_input": "2022-08-27T16:20:37.595349Z",
     "iopub.status.busy": "2022-08-27T16:20:37.594896Z",
     "iopub.status.idle": "2022-08-27T16:20:37.599306Z",
     "shell.execute_reply": "2022-08-27T16:20:37.598325Z"
    },
    "papermill": {
     "duration": 0.015496,
     "end_time": "2022-08-27T16:20:37.601620",
     "exception": false,
     "start_time": "2022-08-27T16:20:37.586124",
     "status": "completed"
    },
    "tags": []
   },
   "outputs": [],
   "source": [
    "#q3.hint()\n",
    "#q3.solution()"
   ]
  },
  {
   "cell_type": "markdown",
   "id": "a77a873f",
   "metadata": {
    "papermill": {
     "duration": 0.007268,
     "end_time": "2022-08-27T16:20:37.616610",
     "exception": false,
     "start_time": "2022-08-27T16:20:37.609342",
     "status": "completed"
    },
    "tags": []
   },
   "source": [
    "## 4.\n",
    "What are the most expensive wine varieties? Create a variable `sorted_varieties` containing a copy of the dataframe from the previous question where varieties are sorted in descending order based on minimum price, then on maximum price (to break ties)."
   ]
  },
  {
   "cell_type": "code",
   "execution_count": 9,
   "id": "50143e68",
   "metadata": {
    "execution": {
     "iopub.execute_input": "2022-08-27T16:20:37.634356Z",
     "iopub.status.busy": "2022-08-27T16:20:37.633437Z",
     "iopub.status.idle": "2022-08-27T16:20:37.646398Z",
     "shell.execute_reply": "2022-08-27T16:20:37.645216Z"
    },
    "papermill": {
     "duration": 0.024172,
     "end_time": "2022-08-27T16:20:37.648762",
     "exception": false,
     "start_time": "2022-08-27T16:20:37.624590",
     "status": "completed"
    },
    "tags": []
   },
   "outputs": [
    {
     "data": {
      "application/javascript": [
       "parent.postMessage({\"jupyterEvent\": \"custom.exercise_interaction\", \"data\": {\"outcomeType\": 1, \"valueTowardsCompletion\": 0.16666666666666666, \"interactionType\": 1, \"questionType\": 1, \"questionId\": \"4_SortedVarieties\", \"learnToolsVersion\": \"0.3.4\", \"failureMessage\": \"\", \"exceptionClass\": \"\", \"trace\": \"\"}}, \"*\")"
      ],
      "text/plain": [
       "<IPython.core.display.Javascript object>"
      ]
     },
     "metadata": {},
     "output_type": "display_data"
    },
    {
     "data": {
      "text/markdown": [
       "<span style=\"color:#33cc33\">Correct</span>"
      ],
      "text/plain": [
       "Correct"
      ]
     },
     "metadata": {},
     "output_type": "display_data"
    }
   ],
   "source": [
    "sorted_varieties = price_extremes.sort_values(by=['min', 'max'], ascending= False)\n",
    "\n",
    "# Check your answer\n",
    "q4.check()"
   ]
  },
  {
   "cell_type": "code",
   "execution_count": 10,
   "id": "4b600767",
   "metadata": {
    "execution": {
     "iopub.execute_input": "2022-08-27T16:20:37.666613Z",
     "iopub.status.busy": "2022-08-27T16:20:37.666197Z",
     "iopub.status.idle": "2022-08-27T16:20:37.670361Z",
     "shell.execute_reply": "2022-08-27T16:20:37.669431Z"
    },
    "papermill": {
     "duration": 0.015864,
     "end_time": "2022-08-27T16:20:37.672518",
     "exception": false,
     "start_time": "2022-08-27T16:20:37.656654",
     "status": "completed"
    },
    "tags": []
   },
   "outputs": [],
   "source": [
    "#q4.hint()\n",
    "#q4.solution()"
   ]
  },
  {
   "cell_type": "markdown",
   "id": "75519140",
   "metadata": {
    "papermill": {
     "duration": 0.007444,
     "end_time": "2022-08-27T16:20:37.687861",
     "exception": false,
     "start_time": "2022-08-27T16:20:37.680417",
     "status": "completed"
    },
    "tags": []
   },
   "source": [
    "## 5.\n",
    "Create a `Series` whose index is reviewers and whose values is the average review score given out by that reviewer. Hint: you will need the `taster_name` and `points` columns."
   ]
  },
  {
   "cell_type": "code",
   "execution_count": 11,
   "id": "b1908a8e",
   "metadata": {
    "execution": {
     "iopub.execute_input": "2022-08-27T16:20:37.705269Z",
     "iopub.status.busy": "2022-08-27T16:20:37.704819Z",
     "iopub.status.idle": "2022-08-27T16:20:37.725003Z",
     "shell.execute_reply": "2022-08-27T16:20:37.724199Z"
    },
    "papermill": {
     "duration": 0.03147,
     "end_time": "2022-08-27T16:20:37.727159",
     "exception": false,
     "start_time": "2022-08-27T16:20:37.695689",
     "status": "completed"
    },
    "tags": []
   },
   "outputs": [
    {
     "data": {
      "application/javascript": [
       "parent.postMessage({\"jupyterEvent\": \"custom.exercise_interaction\", \"data\": {\"outcomeType\": 1, \"valueTowardsCompletion\": 0.16666666666666666, \"interactionType\": 1, \"questionType\": 1, \"questionId\": \"5_ReviewerMeanRatings\", \"learnToolsVersion\": \"0.3.4\", \"failureMessage\": \"\", \"exceptionClass\": \"\", \"trace\": \"\"}}, \"*\")"
      ],
      "text/plain": [
       "<IPython.core.display.Javascript object>"
      ]
     },
     "metadata": {},
     "output_type": "display_data"
    },
    {
     "data": {
      "text/markdown": [
       "<span style=\"color:#33cc33\">Correct</span>"
      ],
      "text/plain": [
       "Correct"
      ]
     },
     "metadata": {},
     "output_type": "display_data"
    }
   ],
   "source": [
    "reviewer_mean_ratings = reviews.groupby('taster_name').points.mean()\n",
    "\n",
    "# Check your answer\n",
    "q5.check()"
   ]
  },
  {
   "cell_type": "code",
   "execution_count": 12,
   "id": "3a065d62",
   "metadata": {
    "execution": {
     "iopub.execute_input": "2022-08-27T16:20:37.745145Z",
     "iopub.status.busy": "2022-08-27T16:20:37.744730Z",
     "iopub.status.idle": "2022-08-27T16:20:37.749125Z",
     "shell.execute_reply": "2022-08-27T16:20:37.747971Z"
    },
    "papermill": {
     "duration": 0.016119,
     "end_time": "2022-08-27T16:20:37.751408",
     "exception": false,
     "start_time": "2022-08-27T16:20:37.735289",
     "status": "completed"
    },
    "tags": []
   },
   "outputs": [],
   "source": [
    "#q5.hint()\n",
    "#q5.solution()"
   ]
  },
  {
   "cell_type": "markdown",
   "id": "a7202635",
   "metadata": {
    "papermill": {
     "duration": 0.007582,
     "end_time": "2022-08-27T16:20:37.766844",
     "exception": false,
     "start_time": "2022-08-27T16:20:37.759262",
     "status": "completed"
    },
    "tags": []
   },
   "source": [
    "Are there significant differences in the average scores assigned by the various reviewers? Run the cell below to use the `describe()` method to see a summary of the range of values."
   ]
  },
  {
   "cell_type": "code",
   "execution_count": 13,
   "id": "0f3f2444",
   "metadata": {
    "execution": {
     "iopub.execute_input": "2022-08-27T16:20:37.785078Z",
     "iopub.status.busy": "2022-08-27T16:20:37.784677Z",
     "iopub.status.idle": "2022-08-27T16:20:37.796257Z",
     "shell.execute_reply": "2022-08-27T16:20:37.795300Z"
    },
    "papermill": {
     "duration": 0.023382,
     "end_time": "2022-08-27T16:20:37.798605",
     "exception": false,
     "start_time": "2022-08-27T16:20:37.775223",
     "status": "completed"
    },
    "tags": []
   },
   "outputs": [
    {
     "data": {
      "text/plain": [
       "count    19.000000\n",
       "mean     88.233026\n",
       "std       1.243610\n",
       "min      85.855422\n",
       "25%      87.323501\n",
       "50%      88.536235\n",
       "75%      88.975256\n",
       "max      90.562551\n",
       "Name: points, dtype: float64"
      ]
     },
     "execution_count": 13,
     "metadata": {},
     "output_type": "execute_result"
    }
   ],
   "source": [
    "reviewer_mean_ratings.describe()"
   ]
  },
  {
   "cell_type": "markdown",
   "id": "c824f210",
   "metadata": {
    "papermill": {
     "duration": 0.007881,
     "end_time": "2022-08-27T16:20:37.814523",
     "exception": false,
     "start_time": "2022-08-27T16:20:37.806642",
     "status": "completed"
    },
    "tags": []
   },
   "source": [
    "## 6.\n",
    "What combination of countries and varieties are most common? Create a `Series` whose index is a `MultiIndex`of `{country, variety}` pairs. For example, a pinot noir produced in the US should map to `{\"US\", \"Pinot Noir\"}`. Sort the values in the `Series` in descending order based on wine count."
   ]
  },
  {
   "cell_type": "code",
   "execution_count": 14,
   "id": "347d2a1a",
   "metadata": {
    "execution": {
     "iopub.execute_input": "2022-08-27T16:20:37.833051Z",
     "iopub.status.busy": "2022-08-27T16:20:37.832228Z",
     "iopub.status.idle": "2022-08-27T16:20:37.867607Z",
     "shell.execute_reply": "2022-08-27T16:20:37.866367Z"
    },
    "papermill": {
     "duration": 0.047371,
     "end_time": "2022-08-27T16:20:37.869985",
     "exception": false,
     "start_time": "2022-08-27T16:20:37.822614",
     "status": "completed"
    },
    "tags": []
   },
   "outputs": [
    {
     "data": {
      "application/javascript": [
       "parent.postMessage({\"jupyterEvent\": \"custom.exercise_interaction\", \"data\": {\"outcomeType\": 1, \"valueTowardsCompletion\": 0.16666666666666666, \"interactionType\": 1, \"questionType\": 1, \"questionId\": \"6_GroupbyCountryVariety\", \"learnToolsVersion\": \"0.3.4\", \"failureMessage\": \"\", \"exceptionClass\": \"\", \"trace\": \"\"}}, \"*\")"
      ],
      "text/plain": [
       "<IPython.core.display.Javascript object>"
      ]
     },
     "metadata": {},
     "output_type": "display_data"
    },
    {
     "data": {
      "text/markdown": [
       "<span style=\"color:#33cc33\">Correct</span>"
      ],
      "text/plain": [
       "Correct"
      ]
     },
     "metadata": {},
     "output_type": "display_data"
    }
   ],
   "source": [
    "country_variety_counts = reviews.groupby(['country', 'variety']).size().sort_values(ascending=False)\n",
    "\n",
    "# Check your answer\n",
    "q6.check()"
   ]
  },
  {
   "cell_type": "code",
   "execution_count": 15,
   "id": "2284a596",
   "metadata": {
    "execution": {
     "iopub.execute_input": "2022-08-27T16:20:37.889086Z",
     "iopub.status.busy": "2022-08-27T16:20:37.888263Z",
     "iopub.status.idle": "2022-08-27T16:20:37.893023Z",
     "shell.execute_reply": "2022-08-27T16:20:37.892105Z"
    },
    "papermill": {
     "duration": 0.017215,
     "end_time": "2022-08-27T16:20:37.895593",
     "exception": false,
     "start_time": "2022-08-27T16:20:37.878378",
     "status": "completed"
    },
    "tags": []
   },
   "outputs": [],
   "source": [
    "#q6.hint()\n",
    "#q6.solution()"
   ]
  },
  {
   "cell_type": "markdown",
   "id": "9a3204da",
   "metadata": {
    "papermill": {
     "duration": 0.00867,
     "end_time": "2022-08-27T16:20:37.912657",
     "exception": false,
     "start_time": "2022-08-27T16:20:37.903987",
     "status": "completed"
    },
    "tags": []
   },
   "source": [
    "# Keep going\n",
    "\n",
    "Move on to the [**data types and missing data**](https://www.kaggle.com/residentmario/data-types-and-missing-values)."
   ]
  },
  {
   "cell_type": "markdown",
   "id": "3249ae6d",
   "metadata": {
    "papermill": {
     "duration": 0.008023,
     "end_time": "2022-08-27T16:20:37.929169",
     "exception": false,
     "start_time": "2022-08-27T16:20:37.921146",
     "status": "completed"
    },
    "tags": []
   },
   "source": [
    "---\n",
    "\n",
    "\n",
    "\n",
    "\n",
    "*Have questions or comments? Visit the [course discussion forum](https://www.kaggle.com/learn/pandas/discussion) to chat with other learners.*"
   ]
  }
 ],
 "metadata": {
  "kernelspec": {
   "display_name": "Python 3",
   "language": "python",
   "name": "python3"
  },
  "language_info": {
   "codemirror_mode": {
    "name": "ipython",
    "version": 3
   },
   "file_extension": ".py",
   "mimetype": "text/x-python",
   "name": "python",
   "nbconvert_exporter": "python",
   "pygments_lexer": "ipython3",
   "version": "3.7.12"
  },
  "papermill": {
   "default_parameters": {},
   "duration": 13.699257,
   "end_time": "2022-08-27T16:20:38.659417",
   "environment_variables": {},
   "exception": null,
   "input_path": "__notebook__.ipynb",
   "output_path": "__notebook__.ipynb",
   "parameters": {},
   "start_time": "2022-08-27T16:20:24.960160",
   "version": "2.3.4"
  }
 },
 "nbformat": 4,
 "nbformat_minor": 5
}
