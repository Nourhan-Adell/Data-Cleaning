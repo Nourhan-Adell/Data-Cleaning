{
 "cells": [
  {
   "cell_type": "markdown",
   "id": "aa26aa33",
   "metadata": {
    "papermill": {
     "duration": 0.005502,
     "end_time": "2022-08-27T16:27:24.941868",
     "exception": false,
     "start_time": "2022-08-27T16:27:24.936366",
     "status": "completed"
    },
    "tags": []
   },
   "source": [
    "**This notebook is an exercise in the [Pandas](https://www.kaggle.com/learn/pandas) course.  You can reference the tutorial at [this link](https://www.kaggle.com/residentmario/data-types-and-missing-values).**\n",
    "\n",
    "---\n"
   ]
  },
  {
   "cell_type": "markdown",
   "id": "ca8ee3df",
   "metadata": {
    "papermill": {
     "duration": 0.004051,
     "end_time": "2022-08-27T16:27:24.950486",
     "exception": false,
     "start_time": "2022-08-27T16:27:24.946435",
     "status": "completed"
    },
    "tags": []
   },
   "source": [
    "# Introduction\n",
    "\n",
    "Run the following cell to load your data and some utility functions."
   ]
  },
  {
   "cell_type": "code",
   "execution_count": 1,
   "id": "fcdc0996",
   "metadata": {
    "execution": {
     "iopub.execute_input": "2022-08-27T16:27:24.961677Z",
     "iopub.status.busy": "2022-08-27T16:27:24.961060Z",
     "iopub.status.idle": "2022-08-27T16:27:27.894737Z",
     "shell.execute_reply": "2022-08-27T16:27:27.893450Z"
    },
    "papermill": {
     "duration": 2.942591,
     "end_time": "2022-08-27T16:27:27.897460",
     "exception": false,
     "start_time": "2022-08-27T16:27:24.954869",
     "status": "completed"
    },
    "tags": []
   },
   "outputs": [
    {
     "name": "stdout",
     "output_type": "stream",
     "text": [
      "Setup complete.\n"
     ]
    }
   ],
   "source": [
    "import pandas as pd\n",
    "\n",
    "reviews = pd.read_csv(\"../input/wine-reviews/winemag-data-130k-v2.csv\", index_col=0)\n",
    "\n",
    "from learntools.core import binder; binder.bind(globals())\n",
    "from learntools.pandas.data_types_and_missing_data import *\n",
    "print(\"Setup complete.\")"
   ]
  },
  {
   "cell_type": "markdown",
   "id": "f2264baa",
   "metadata": {
    "papermill": {
     "duration": 0.00419,
     "end_time": "2022-08-27T16:27:27.906678",
     "exception": false,
     "start_time": "2022-08-27T16:27:27.902488",
     "status": "completed"
    },
    "tags": []
   },
   "source": [
    "# Exercises"
   ]
  },
  {
   "cell_type": "markdown",
   "id": "712f72e6",
   "metadata": {
    "papermill": {
     "duration": 0.00413,
     "end_time": "2022-08-27T16:27:27.915400",
     "exception": false,
     "start_time": "2022-08-27T16:27:27.911270",
     "status": "completed"
    },
    "tags": []
   },
   "source": [
    "## 1. \n",
    "What is the data type of the `points` column in the dataset?"
   ]
  },
  {
   "cell_type": "code",
   "execution_count": 2,
   "id": "89568c94",
   "metadata": {
    "execution": {
     "iopub.execute_input": "2022-08-27T16:27:27.926400Z",
     "iopub.status.busy": "2022-08-27T16:27:27.925453Z",
     "iopub.status.idle": "2022-08-27T16:27:27.937476Z",
     "shell.execute_reply": "2022-08-27T16:27:27.936375Z"
    },
    "papermill": {
     "duration": 0.019944,
     "end_time": "2022-08-27T16:27:27.939924",
     "exception": false,
     "start_time": "2022-08-27T16:27:27.919980",
     "status": "completed"
    },
    "tags": []
   },
   "outputs": [
    {
     "data": {
      "application/javascript": [
       "parent.postMessage({\"jupyterEvent\": \"custom.exercise_interaction\", \"data\": {\"outcomeType\": 1, \"valueTowardsCompletion\": 0.25, \"interactionType\": 1, \"questionType\": 1, \"questionId\": \"1_PointsDtype\", \"learnToolsVersion\": \"0.3.4\", \"failureMessage\": \"\", \"exceptionClass\": \"\", \"trace\": \"\"}}, \"*\")"
      ],
      "text/plain": [
       "<IPython.core.display.Javascript object>"
      ]
     },
     "metadata": {},
     "output_type": "display_data"
    },
    {
     "data": {
      "text/markdown": [
       "<span style=\"color:#33cc33\">Correct</span>"
      ],
      "text/plain": [
       "Correct"
      ]
     },
     "metadata": {},
     "output_type": "display_data"
    }
   ],
   "source": [
    "# Your code here\n",
    "dtype = reviews.points.dtype\n",
    "\n",
    "# Check your answer\n",
    "q1.check()"
   ]
  },
  {
   "cell_type": "code",
   "execution_count": 3,
   "id": "6a63d06b",
   "metadata": {
    "execution": {
     "iopub.execute_input": "2022-08-27T16:27:27.951121Z",
     "iopub.status.busy": "2022-08-27T16:27:27.950730Z",
     "iopub.status.idle": "2022-08-27T16:27:27.955173Z",
     "shell.execute_reply": "2022-08-27T16:27:27.954109Z"
    },
    "papermill": {
     "duration": 0.012899,
     "end_time": "2022-08-27T16:27:27.957594",
     "exception": false,
     "start_time": "2022-08-27T16:27:27.944695",
     "status": "completed"
    },
    "tags": []
   },
   "outputs": [],
   "source": [
    "#q1.hint()\n",
    "#q1.solution()"
   ]
  },
  {
   "cell_type": "markdown",
   "id": "abceee27",
   "metadata": {
    "papermill": {
     "duration": 0.004362,
     "end_time": "2022-08-27T16:27:27.966661",
     "exception": false,
     "start_time": "2022-08-27T16:27:27.962299",
     "status": "completed"
    },
    "tags": []
   },
   "source": [
    "## 2. \n",
    "Create a Series from entries in the `points` column, but convert the entries to strings. Hint: strings are `str` in native Python."
   ]
  },
  {
   "cell_type": "code",
   "execution_count": 4,
   "id": "d90bda99",
   "metadata": {
    "execution": {
     "iopub.execute_input": "2022-08-27T16:27:27.977506Z",
     "iopub.status.busy": "2022-08-27T16:27:27.977106Z",
     "iopub.status.idle": "2022-08-27T16:27:28.064490Z",
     "shell.execute_reply": "2022-08-27T16:27:28.063362Z"
    },
    "papermill": {
     "duration": 0.096376,
     "end_time": "2022-08-27T16:27:28.067530",
     "exception": false,
     "start_time": "2022-08-27T16:27:27.971154",
     "status": "completed"
    },
    "tags": []
   },
   "outputs": [
    {
     "data": {
      "application/javascript": [
       "parent.postMessage({\"jupyterEvent\": \"custom.exercise_interaction\", \"data\": {\"outcomeType\": 1, \"valueTowardsCompletion\": 0.25, \"interactionType\": 1, \"questionType\": 1, \"questionId\": \"2_StrPoints\", \"learnToolsVersion\": \"0.3.4\", \"failureMessage\": \"\", \"exceptionClass\": \"\", \"trace\": \"\"}}, \"*\")"
      ],
      "text/plain": [
       "<IPython.core.display.Javascript object>"
      ]
     },
     "metadata": {},
     "output_type": "display_data"
    },
    {
     "data": {
      "text/markdown": [
       "<span style=\"color:#33cc33\">Correct</span>"
      ],
      "text/plain": [
       "Correct"
      ]
     },
     "metadata": {},
     "output_type": "display_data"
    }
   ],
   "source": [
    "point_strings = reviews.points.astype('str')\n",
    "\n",
    "# Check your answer\n",
    "q2.check()"
   ]
  },
  {
   "cell_type": "code",
   "execution_count": 5,
   "id": "392b6992",
   "metadata": {
    "execution": {
     "iopub.execute_input": "2022-08-27T16:27:28.079133Z",
     "iopub.status.busy": "2022-08-27T16:27:28.078746Z",
     "iopub.status.idle": "2022-08-27T16:27:28.083493Z",
     "shell.execute_reply": "2022-08-27T16:27:28.082218Z"
    },
    "papermill": {
     "duration": 0.013336,
     "end_time": "2022-08-27T16:27:28.085889",
     "exception": false,
     "start_time": "2022-08-27T16:27:28.072553",
     "status": "completed"
    },
    "tags": []
   },
   "outputs": [],
   "source": [
    "#q2.hint()\n",
    "#q2.solution()"
   ]
  },
  {
   "cell_type": "markdown",
   "id": "ac771751",
   "metadata": {
    "papermill": {
     "duration": 0.004963,
     "end_time": "2022-08-27T16:27:28.096203",
     "exception": false,
     "start_time": "2022-08-27T16:27:28.091240",
     "status": "completed"
    },
    "tags": []
   },
   "source": [
    "## 3.\n",
    "Sometimes the price column is null. How many reviews in the dataset are missing a price?"
   ]
  },
  {
   "cell_type": "code",
   "execution_count": 6,
   "id": "dc183c90",
   "metadata": {
    "execution": {
     "iopub.execute_input": "2022-08-27T16:27:28.108555Z",
     "iopub.status.busy": "2022-08-27T16:27:28.108138Z",
     "iopub.status.idle": "2022-08-27T16:27:28.117456Z",
     "shell.execute_reply": "2022-08-27T16:27:28.116328Z"
    },
    "papermill": {
     "duration": 0.018022,
     "end_time": "2022-08-27T16:27:28.119609",
     "exception": false,
     "start_time": "2022-08-27T16:27:28.101587",
     "status": "completed"
    },
    "tags": []
   },
   "outputs": [
    {
     "data": {
      "application/javascript": [
       "parent.postMessage({\"jupyterEvent\": \"custom.exercise_interaction\", \"data\": {\"outcomeType\": 1, \"valueTowardsCompletion\": 0.25, \"interactionType\": 1, \"questionType\": 1, \"questionId\": \"3_CountMissingPrices\", \"learnToolsVersion\": \"0.3.4\", \"failureMessage\": \"\", \"exceptionClass\": \"\", \"trace\": \"\"}}, \"*\")"
      ],
      "text/plain": [
       "<IPython.core.display.Javascript object>"
      ]
     },
     "metadata": {},
     "output_type": "display_data"
    },
    {
     "data": {
      "text/markdown": [
       "<span style=\"color:#33cc33\">Correct</span>"
      ],
      "text/plain": [
       "Correct"
      ]
     },
     "metadata": {},
     "output_type": "display_data"
    }
   ],
   "source": [
    "n_missing_prices = reviews.price.isnull().sum()\n",
    "\n",
    "# Check your answer\n",
    "q3.check()"
   ]
  },
  {
   "cell_type": "code",
   "execution_count": 7,
   "id": "8bac83a8",
   "metadata": {
    "execution": {
     "iopub.execute_input": "2022-08-27T16:27:28.131655Z",
     "iopub.status.busy": "2022-08-27T16:27:28.131199Z",
     "iopub.status.idle": "2022-08-27T16:27:28.136028Z",
     "shell.execute_reply": "2022-08-27T16:27:28.134925Z"
    },
    "papermill": {
     "duration": 0.013531,
     "end_time": "2022-08-27T16:27:28.138259",
     "exception": false,
     "start_time": "2022-08-27T16:27:28.124728",
     "status": "completed"
    },
    "tags": []
   },
   "outputs": [],
   "source": [
    "#q3.hint()\n",
    "#q3.solution()"
   ]
  },
  {
   "cell_type": "markdown",
   "id": "1dffa591",
   "metadata": {
    "papermill": {
     "duration": 0.004939,
     "end_time": "2022-08-27T16:27:28.148546",
     "exception": false,
     "start_time": "2022-08-27T16:27:28.143607",
     "status": "completed"
    },
    "tags": []
   },
   "source": [
    "## 4.\n",
    "What are the most common wine-producing regions? Create a Series counting the number of times each value occurs in the `region_1` field. This field is often missing data, so replace missing values with `Unknown`. Sort in descending order.  Your output should look something like this:\n",
    "\n",
    "```\n",
    "Unknown                    21247\n",
    "Napa Valley                 4480\n",
    "                           ...  \n",
    "Bardolino Superiore            1\n",
    "Primitivo del Tarantino        1\n",
    "Name: region_1, Length: 1230, dtype: int64\n",
    "```"
   ]
  },
  {
   "cell_type": "code",
   "execution_count": 8,
   "id": "228dffb9",
   "metadata": {
    "execution": {
     "iopub.execute_input": "2022-08-27T16:27:28.160444Z",
     "iopub.status.busy": "2022-08-27T16:27:28.160016Z",
     "iopub.status.idle": "2022-08-27T16:27:28.203819Z",
     "shell.execute_reply": "2022-08-27T16:27:28.202562Z"
    },
    "papermill": {
     "duration": 0.053097,
     "end_time": "2022-08-27T16:27:28.206746",
     "exception": false,
     "start_time": "2022-08-27T16:27:28.153649",
     "status": "completed"
    },
    "tags": []
   },
   "outputs": [
    {
     "data": {
      "application/javascript": [
       "parent.postMessage({\"jupyterEvent\": \"custom.exercise_interaction\", \"data\": {\"outcomeType\": 1, \"valueTowardsCompletion\": 0.25, \"interactionType\": 1, \"questionType\": 2, \"questionId\": \"4_ReviewsPerRegion\", \"learnToolsVersion\": \"0.3.4\", \"failureMessage\": \"\", \"exceptionClass\": \"\", \"trace\": \"\"}}, \"*\")"
      ],
      "text/plain": [
       "<IPython.core.display.Javascript object>"
      ]
     },
     "metadata": {},
     "output_type": "display_data"
    },
    {
     "data": {
      "text/markdown": [
       "<span style=\"color:#33cc33\">Correct</span>"
      ],
      "text/plain": [
       "Correct"
      ]
     },
     "metadata": {},
     "output_type": "display_data"
    }
   ],
   "source": [
    "reviews_per_region = reviews.region_1.fillna('Unknown').value_counts().sort_values(ascending=False)\n",
    "\n",
    "# Check your answer\n",
    "q4.check()"
   ]
  },
  {
   "cell_type": "code",
   "execution_count": 9,
   "id": "10582b60",
   "metadata": {
    "execution": {
     "iopub.execute_input": "2022-08-27T16:27:28.219264Z",
     "iopub.status.busy": "2022-08-27T16:27:28.218855Z",
     "iopub.status.idle": "2022-08-27T16:27:28.223876Z",
     "shell.execute_reply": "2022-08-27T16:27:28.222601Z"
    },
    "papermill": {
     "duration": 0.014245,
     "end_time": "2022-08-27T16:27:28.226352",
     "exception": false,
     "start_time": "2022-08-27T16:27:28.212107",
     "status": "completed"
    },
    "tags": []
   },
   "outputs": [],
   "source": [
    "#q4.hint()\n",
    "#q4.solution()"
   ]
  },
  {
   "cell_type": "markdown",
   "id": "ccedafb2",
   "metadata": {
    "papermill": {
     "duration": 0.005078,
     "end_time": "2022-08-27T16:27:28.236877",
     "exception": false,
     "start_time": "2022-08-27T16:27:28.231799",
     "status": "completed"
    },
    "tags": []
   },
   "source": [
    "# Keep going\n",
    "\n",
    "Move on to **[renaming and combining](https://www.kaggle.com/residentmario/renaming-and-combining)**."
   ]
  },
  {
   "cell_type": "markdown",
   "id": "ecb8fa5d",
   "metadata": {
    "papermill": {
     "duration": 0.004951,
     "end_time": "2022-08-27T16:27:28.247202",
     "exception": false,
     "start_time": "2022-08-27T16:27:28.242251",
     "status": "completed"
    },
    "tags": []
   },
   "source": [
    "---\n",
    "\n",
    "\n",
    "\n",
    "\n",
    "*Have questions or comments? Visit the [course discussion forum](https://www.kaggle.com/learn/pandas/discussion) to chat with other learners.*"
   ]
  }
 ],
 "metadata": {
  "kernelspec": {
   "display_name": "Python 3",
   "language": "python",
   "name": "python3"
  },
  "language_info": {
   "codemirror_mode": {
    "name": "ipython",
    "version": 3
   },
   "file_extension": ".py",
   "mimetype": "text/x-python",
   "name": "python",
   "nbconvert_exporter": "python",
   "pygments_lexer": "ipython3",
   "version": "3.7.12"
  },
  "papermill": {
   "default_parameters": {},
   "duration": 13.385876,
   "end_time": "2022-08-27T16:27:28.973341",
   "environment_variables": {},
   "exception": null,
   "input_path": "__notebook__.ipynb",
   "output_path": "__notebook__.ipynb",
   "parameters": {},
   "start_time": "2022-08-27T16:27:15.587465",
   "version": "2.3.4"
  }
 },
 "nbformat": 4,
 "nbformat_minor": 5
}
