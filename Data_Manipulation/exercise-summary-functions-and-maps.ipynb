{
 "cells": [
  {
   "cell_type": "markdown",
   "id": "0ba050f9",
   "metadata": {
    "papermill": {
     "duration": 0.009864,
     "end_time": "2022-08-27T12:12:53.935824",
     "exception": false,
     "start_time": "2022-08-27T12:12:53.925960",
     "status": "completed"
    },
    "tags": []
   },
   "source": [
    "**This notebook is an exercise in the [Pandas](https://www.kaggle.com/learn/pandas) course.  You can reference the tutorial at [this link](https://www.kaggle.com/residentmario/summary-functions-and-maps).**\n",
    "\n",
    "---\n"
   ]
  },
  {
   "cell_type": "markdown",
   "id": "2a9cebca",
   "metadata": {
    "papermill": {
     "duration": 0.006638,
     "end_time": "2022-08-27T12:12:53.951562",
     "exception": false,
     "start_time": "2022-08-27T12:12:53.944924",
     "status": "completed"
    },
    "tags": []
   },
   "source": [
    "# Introduction\n",
    "\n",
    "Now you are ready to get a deeper understanding of your data.\n",
    "\n",
    "Run the following cell to load your data and some utility functions (including code to check your answers)."
   ]
  },
  {
   "cell_type": "code",
   "execution_count": 1,
   "id": "0edc3773",
   "metadata": {
    "execution": {
     "iopub.execute_input": "2022-08-27T12:12:53.963118Z",
     "iopub.status.busy": "2022-08-27T12:12:53.962634Z",
     "iopub.status.idle": "2022-08-27T12:12:59.844073Z",
     "shell.execute_reply": "2022-08-27T12:12:59.842262Z"
    },
    "papermill": {
     "duration": 5.890052,
     "end_time": "2022-08-27T12:12:59.846525",
     "exception": false,
     "start_time": "2022-08-27T12:12:53.956473",
     "status": "completed"
    },
    "tags": []
   },
   "outputs": [
    {
     "name": "stdout",
     "output_type": "stream",
     "text": [
      "Setup complete.\n"
     ]
    },
    {
     "data": {
      "text/html": [
       "<div>\n",
       "<style scoped>\n",
       "    .dataframe tbody tr th:only-of-type {\n",
       "        vertical-align: middle;\n",
       "    }\n",
       "\n",
       "    .dataframe tbody tr th {\n",
       "        vertical-align: top;\n",
       "    }\n",
       "\n",
       "    .dataframe thead th {\n",
       "        text-align: right;\n",
       "    }\n",
       "</style>\n",
       "<table border=\"1\" class=\"dataframe\">\n",
       "  <thead>\n",
       "    <tr style=\"text-align: right;\">\n",
       "      <th></th>\n",
       "      <th>country</th>\n",
       "      <th>description</th>\n",
       "      <th>designation</th>\n",
       "      <th>points</th>\n",
       "      <th>price</th>\n",
       "      <th>province</th>\n",
       "      <th>region_1</th>\n",
       "      <th>region_2</th>\n",
       "      <th>taster_name</th>\n",
       "      <th>taster_twitter_handle</th>\n",
       "      <th>title</th>\n",
       "      <th>variety</th>\n",
       "      <th>winery</th>\n",
       "    </tr>\n",
       "  </thead>\n",
       "  <tbody>\n",
       "    <tr>\n",
       "      <th>0</th>\n",
       "      <td>Italy</td>\n",
       "      <td>Aromas include tropical fruit, broom, brimston...</td>\n",
       "      <td>Vulkà Bianco</td>\n",
       "      <td>87</td>\n",
       "      <td>NaN</td>\n",
       "      <td>Sicily &amp; Sardinia</td>\n",
       "      <td>Etna</td>\n",
       "      <td>NaN</td>\n",
       "      <td>Kerin O’Keefe</td>\n",
       "      <td>@kerinokeefe</td>\n",
       "      <td>Nicosia 2013 Vulkà Bianco  (Etna)</td>\n",
       "      <td>White Blend</td>\n",
       "      <td>Nicosia</td>\n",
       "    </tr>\n",
       "    <tr>\n",
       "      <th>1</th>\n",
       "      <td>Portugal</td>\n",
       "      <td>This is ripe and fruity, a wine that is smooth...</td>\n",
       "      <td>Avidagos</td>\n",
       "      <td>87</td>\n",
       "      <td>15.0</td>\n",
       "      <td>Douro</td>\n",
       "      <td>NaN</td>\n",
       "      <td>NaN</td>\n",
       "      <td>Roger Voss</td>\n",
       "      <td>@vossroger</td>\n",
       "      <td>Quinta dos Avidagos 2011 Avidagos Red (Douro)</td>\n",
       "      <td>Portuguese Red</td>\n",
       "      <td>Quinta dos Avidagos</td>\n",
       "    </tr>\n",
       "    <tr>\n",
       "      <th>2</th>\n",
       "      <td>US</td>\n",
       "      <td>Tart and snappy, the flavors of lime flesh and...</td>\n",
       "      <td>NaN</td>\n",
       "      <td>87</td>\n",
       "      <td>14.0</td>\n",
       "      <td>Oregon</td>\n",
       "      <td>Willamette Valley</td>\n",
       "      <td>Willamette Valley</td>\n",
       "      <td>Paul Gregutt</td>\n",
       "      <td>@paulgwine</td>\n",
       "      <td>Rainstorm 2013 Pinot Gris (Willamette Valley)</td>\n",
       "      <td>Pinot Gris</td>\n",
       "      <td>Rainstorm</td>\n",
       "    </tr>\n",
       "    <tr>\n",
       "      <th>3</th>\n",
       "      <td>US</td>\n",
       "      <td>Pineapple rind, lemon pith and orange blossom ...</td>\n",
       "      <td>Reserve Late Harvest</td>\n",
       "      <td>87</td>\n",
       "      <td>13.0</td>\n",
       "      <td>Michigan</td>\n",
       "      <td>Lake Michigan Shore</td>\n",
       "      <td>NaN</td>\n",
       "      <td>Alexander Peartree</td>\n",
       "      <td>NaN</td>\n",
       "      <td>St. Julian 2013 Reserve Late Harvest Riesling ...</td>\n",
       "      <td>Riesling</td>\n",
       "      <td>St. Julian</td>\n",
       "    </tr>\n",
       "    <tr>\n",
       "      <th>4</th>\n",
       "      <td>US</td>\n",
       "      <td>Much like the regular bottling from 2012, this...</td>\n",
       "      <td>Vintner's Reserve Wild Child Block</td>\n",
       "      <td>87</td>\n",
       "      <td>65.0</td>\n",
       "      <td>Oregon</td>\n",
       "      <td>Willamette Valley</td>\n",
       "      <td>Willamette Valley</td>\n",
       "      <td>Paul Gregutt</td>\n",
       "      <td>@paulgwine</td>\n",
       "      <td>Sweet Cheeks 2012 Vintner's Reserve Wild Child...</td>\n",
       "      <td>Pinot Noir</td>\n",
       "      <td>Sweet Cheeks</td>\n",
       "    </tr>\n",
       "  </tbody>\n",
       "</table>\n",
       "</div>"
      ],
      "text/plain": [
       "    country                                        description  \\\n",
       "0     Italy  Aromas include tropical fruit, broom, brimston...   \n",
       "1  Portugal  This is ripe and fruity, a wine that is smooth...   \n",
       "2        US  Tart and snappy, the flavors of lime flesh and...   \n",
       "3        US  Pineapple rind, lemon pith and orange blossom ...   \n",
       "4        US  Much like the regular bottling from 2012, this...   \n",
       "\n",
       "                          designation  points  price           province  \\\n",
       "0                        Vulkà Bianco      87    NaN  Sicily & Sardinia   \n",
       "1                            Avidagos      87   15.0              Douro   \n",
       "2                                 NaN      87   14.0             Oregon   \n",
       "3                Reserve Late Harvest      87   13.0           Michigan   \n",
       "4  Vintner's Reserve Wild Child Block      87   65.0             Oregon   \n",
       "\n",
       "              region_1           region_2         taster_name  \\\n",
       "0                 Etna                NaN       Kerin O’Keefe   \n",
       "1                  NaN                NaN          Roger Voss   \n",
       "2    Willamette Valley  Willamette Valley        Paul Gregutt   \n",
       "3  Lake Michigan Shore                NaN  Alexander Peartree   \n",
       "4    Willamette Valley  Willamette Valley        Paul Gregutt   \n",
       "\n",
       "  taster_twitter_handle                                              title  \\\n",
       "0          @kerinokeefe                  Nicosia 2013 Vulkà Bianco  (Etna)   \n",
       "1            @vossroger      Quinta dos Avidagos 2011 Avidagos Red (Douro)   \n",
       "2           @paulgwine       Rainstorm 2013 Pinot Gris (Willamette Valley)   \n",
       "3                   NaN  St. Julian 2013 Reserve Late Harvest Riesling ...   \n",
       "4           @paulgwine   Sweet Cheeks 2012 Vintner's Reserve Wild Child...   \n",
       "\n",
       "          variety               winery  \n",
       "0     White Blend              Nicosia  \n",
       "1  Portuguese Red  Quinta dos Avidagos  \n",
       "2      Pinot Gris            Rainstorm  \n",
       "3        Riesling           St. Julian  \n",
       "4      Pinot Noir         Sweet Cheeks  "
      ]
     },
     "execution_count": 1,
     "metadata": {},
     "output_type": "execute_result"
    }
   ],
   "source": [
    "import pandas as pd\n",
    "pd.set_option(\"display.max_rows\", 5)\n",
    "reviews = pd.read_csv(\"../input/wine-reviews/winemag-data-130k-v2.csv\", index_col=0)\n",
    "\n",
    "from learntools.core import binder; binder.bind(globals())\n",
    "from learntools.pandas.summary_functions_and_maps import *\n",
    "print(\"Setup complete.\")\n",
    "\n",
    "reviews.head()"
   ]
  },
  {
   "cell_type": "markdown",
   "id": "93ab0879",
   "metadata": {
    "papermill": {
     "duration": 0.005143,
     "end_time": "2022-08-27T12:12:59.857265",
     "exception": false,
     "start_time": "2022-08-27T12:12:59.852122",
     "status": "completed"
    },
    "tags": []
   },
   "source": [
    "# Exercises"
   ]
  },
  {
   "cell_type": "markdown",
   "id": "b6c0dc18",
   "metadata": {
    "papermill": {
     "duration": 0.005218,
     "end_time": "2022-08-27T12:12:59.867788",
     "exception": false,
     "start_time": "2022-08-27T12:12:59.862570",
     "status": "completed"
    },
    "tags": []
   },
   "source": [
    "## 1.\n",
    "\n",
    "What is the median of the `points` column in the `reviews` DataFrame?"
   ]
  },
  {
   "cell_type": "code",
   "execution_count": 2,
   "id": "4a138116",
   "metadata": {
    "execution": {
     "iopub.execute_input": "2022-08-27T12:12:59.880430Z",
     "iopub.status.busy": "2022-08-27T12:12:59.879607Z",
     "iopub.status.idle": "2022-08-27T12:12:59.889572Z",
     "shell.execute_reply": "2022-08-27T12:12:59.888596Z"
    },
    "papermill": {
     "duration": 0.018044,
     "end_time": "2022-08-27T12:12:59.891504",
     "exception": false,
     "start_time": "2022-08-27T12:12:59.873460",
     "status": "completed"
    },
    "tags": []
   },
   "outputs": [
    {
     "data": {
      "application/javascript": [
       "parent.postMessage({\"jupyterEvent\": \"custom.exercise_interaction\", \"data\": {\"outcomeType\": 1, \"valueTowardsCompletion\": 0.14285714285714285, \"interactionType\": 1, \"questionType\": 1, \"questionId\": \"1_MedianPoints\", \"learnToolsVersion\": \"0.3.4\", \"failureMessage\": \"\", \"exceptionClass\": \"\", \"trace\": \"\"}}, \"*\")"
      ],
      "text/plain": [
       "<IPython.core.display.Javascript object>"
      ]
     },
     "metadata": {},
     "output_type": "display_data"
    },
    {
     "data": {
      "text/markdown": [
       "<span style=\"color:#33cc33\">Correct</span>"
      ],
      "text/plain": [
       "Correct"
      ]
     },
     "metadata": {},
     "output_type": "display_data"
    }
   ],
   "source": [
    "median_points = reviews.points.median()\n",
    "\n",
    "# Check your answer\n",
    "q1.check()"
   ]
  },
  {
   "cell_type": "code",
   "execution_count": 3,
   "id": "c557770f",
   "metadata": {
    "execution": {
     "iopub.execute_input": "2022-08-27T12:12:59.903844Z",
     "iopub.status.busy": "2022-08-27T12:12:59.903255Z",
     "iopub.status.idle": "2022-08-27T12:12:59.907187Z",
     "shell.execute_reply": "2022-08-27T12:12:59.906207Z"
    },
    "papermill": {
     "duration": 0.012544,
     "end_time": "2022-08-27T12:12:59.909517",
     "exception": false,
     "start_time": "2022-08-27T12:12:59.896973",
     "status": "completed"
    },
    "tags": []
   },
   "outputs": [],
   "source": [
    "#q1.hint()\n",
    "#q1.solution()"
   ]
  },
  {
   "cell_type": "markdown",
   "id": "19d8ce43",
   "metadata": {
    "papermill": {
     "duration": 0.005206,
     "end_time": "2022-08-27T12:12:59.920141",
     "exception": false,
     "start_time": "2022-08-27T12:12:59.914935",
     "status": "completed"
    },
    "tags": []
   },
   "source": [
    "## 2. \n",
    "What countries are represented in the dataset? (Your answer should not include any duplicates.)"
   ]
  },
  {
   "cell_type": "code",
   "execution_count": 4,
   "id": "7ab488e4",
   "metadata": {
    "execution": {
     "iopub.execute_input": "2022-08-27T12:12:59.932044Z",
     "iopub.status.busy": "2022-08-27T12:12:59.931790Z",
     "iopub.status.idle": "2022-08-27T12:12:59.944936Z",
     "shell.execute_reply": "2022-08-27T12:12:59.943956Z"
    },
    "papermill": {
     "duration": 0.02133,
     "end_time": "2022-08-27T12:12:59.946940",
     "exception": false,
     "start_time": "2022-08-27T12:12:59.925610",
     "status": "completed"
    },
    "tags": []
   },
   "outputs": [
    {
     "data": {
      "application/javascript": [
       "parent.postMessage({\"jupyterEvent\": \"custom.exercise_interaction\", \"data\": {\"outcomeType\": 1, \"valueTowardsCompletion\": 0.14285714285714285, \"interactionType\": 1, \"questionType\": 2, \"questionId\": \"2_UniqueCountries\", \"learnToolsVersion\": \"0.3.4\", \"failureMessage\": \"\", \"exceptionClass\": \"\", \"trace\": \"\"}}, \"*\")"
      ],
      "text/plain": [
       "<IPython.core.display.Javascript object>"
      ]
     },
     "metadata": {},
     "output_type": "display_data"
    },
    {
     "data": {
      "text/markdown": [
       "<span style=\"color:#33cc33\">Correct</span>"
      ],
      "text/plain": [
       "Correct"
      ]
     },
     "metadata": {},
     "output_type": "display_data"
    }
   ],
   "source": [
    "countries = reviews.country.unique()\n",
    "\n",
    "# Check your answer\n",
    "q2.check()"
   ]
  },
  {
   "cell_type": "code",
   "execution_count": 5,
   "id": "622ee23f",
   "metadata": {
    "execution": {
     "iopub.execute_input": "2022-08-27T12:12:59.959558Z",
     "iopub.status.busy": "2022-08-27T12:12:59.959303Z",
     "iopub.status.idle": "2022-08-27T12:12:59.963444Z",
     "shell.execute_reply": "2022-08-27T12:12:59.962517Z"
    },
    "papermill": {
     "duration": 0.012903,
     "end_time": "2022-08-27T12:12:59.965390",
     "exception": false,
     "start_time": "2022-08-27T12:12:59.952487",
     "status": "completed"
    },
    "tags": []
   },
   "outputs": [],
   "source": [
    "#q2.hint()\n",
    "#q2.solution()"
   ]
  },
  {
   "cell_type": "markdown",
   "id": "0ec08a3d",
   "metadata": {
    "papermill": {
     "duration": 0.006269,
     "end_time": "2022-08-27T12:12:59.977266",
     "exception": false,
     "start_time": "2022-08-27T12:12:59.970997",
     "status": "completed"
    },
    "tags": []
   },
   "source": [
    "## 3.\n",
    "How often does each country appear in the dataset? Create a Series `reviews_per_country` mapping countries to the count of reviews of wines from that country."
   ]
  },
  {
   "cell_type": "code",
   "execution_count": 6,
   "id": "b445ba45",
   "metadata": {
    "execution": {
     "iopub.execute_input": "2022-08-27T12:12:59.989807Z",
     "iopub.status.busy": "2022-08-27T12:12:59.989188Z",
     "iopub.status.idle": "2022-08-27T12:13:00.004180Z",
     "shell.execute_reply": "2022-08-27T12:13:00.003198Z"
    },
    "papermill": {
     "duration": 0.023371,
     "end_time": "2022-08-27T12:13:00.006301",
     "exception": false,
     "start_time": "2022-08-27T12:12:59.982930",
     "status": "completed"
    },
    "tags": []
   },
   "outputs": [
    {
     "data": {
      "application/javascript": [
       "parent.postMessage({\"jupyterEvent\": \"custom.exercise_interaction\", \"data\": {\"outcomeType\": 1, \"valueTowardsCompletion\": 0.14285714285714285, \"interactionType\": 1, \"questionType\": 1, \"questionId\": \"3_ReviewsPerCountry\", \"learnToolsVersion\": \"0.3.4\", \"failureMessage\": \"\", \"exceptionClass\": \"\", \"trace\": \"\"}}, \"*\")"
      ],
      "text/plain": [
       "<IPython.core.display.Javascript object>"
      ]
     },
     "metadata": {},
     "output_type": "display_data"
    },
    {
     "data": {
      "text/markdown": [
       "<span style=\"color:#33cc33\">Correct</span>"
      ],
      "text/plain": [
       "Correct"
      ]
     },
     "metadata": {},
     "output_type": "display_data"
    }
   ],
   "source": [
    "reviews_per_country = reviews.country.value_counts()\n",
    "\n",
    "# Check your answer\n",
    "q3.check()"
   ]
  },
  {
   "cell_type": "code",
   "execution_count": 7,
   "id": "4bbd4258",
   "metadata": {
    "execution": {
     "iopub.execute_input": "2022-08-27T12:13:00.019820Z",
     "iopub.status.busy": "2022-08-27T12:13:00.019070Z",
     "iopub.status.idle": "2022-08-27T12:13:00.023155Z",
     "shell.execute_reply": "2022-08-27T12:13:00.022272Z"
    },
    "papermill": {
     "duration": 0.013077,
     "end_time": "2022-08-27T12:13:00.025311",
     "exception": false,
     "start_time": "2022-08-27T12:13:00.012234",
     "status": "completed"
    },
    "tags": []
   },
   "outputs": [],
   "source": [
    "#q3.hint()\n",
    "#q3.solution()"
   ]
  },
  {
   "cell_type": "markdown",
   "id": "25dec187",
   "metadata": {
    "papermill": {
     "duration": 0.005592,
     "end_time": "2022-08-27T12:13:00.036860",
     "exception": false,
     "start_time": "2022-08-27T12:13:00.031268",
     "status": "completed"
    },
    "tags": []
   },
   "source": [
    "## 4.\n",
    "Create variable `centered_price` containing a version of the `price` column with the mean price subtracted.\n",
    "\n",
    "(Note: this 'centering' transformation is a common preprocessing step before applying various machine learning algorithms.) "
   ]
  },
  {
   "cell_type": "code",
   "execution_count": 8,
   "id": "ab43e9a3",
   "metadata": {
    "execution": {
     "iopub.execute_input": "2022-08-27T12:13:00.050094Z",
     "iopub.status.busy": "2022-08-27T12:13:00.049289Z",
     "iopub.status.idle": "2022-08-27T12:13:00.058422Z",
     "shell.execute_reply": "2022-08-27T12:13:00.057472Z"
    },
    "papermill": {
     "duration": 0.017952,
     "end_time": "2022-08-27T12:13:00.060522",
     "exception": false,
     "start_time": "2022-08-27T12:13:00.042570",
     "status": "completed"
    },
    "tags": []
   },
   "outputs": [
    {
     "data": {
      "application/javascript": [
       "parent.postMessage({\"jupyterEvent\": \"custom.exercise_interaction\", \"data\": {\"outcomeType\": 1, \"valueTowardsCompletion\": 0.14285714285714285, \"interactionType\": 1, \"questionType\": 1, \"questionId\": \"4_CenteredPrice\", \"learnToolsVersion\": \"0.3.4\", \"failureMessage\": \"\", \"exceptionClass\": \"\", \"trace\": \"\"}}, \"*\")"
      ],
      "text/plain": [
       "<IPython.core.display.Javascript object>"
      ]
     },
     "metadata": {},
     "output_type": "display_data"
    },
    {
     "data": {
      "text/markdown": [
       "<span style=\"color:#33cc33\">Correct</span>"
      ],
      "text/plain": [
       "Correct"
      ]
     },
     "metadata": {},
     "output_type": "display_data"
    }
   ],
   "source": [
    "centered_price = reviews.price - reviews.price.mean()\n",
    "\n",
    "# Check your answer\n",
    "q4.check()"
   ]
  },
  {
   "cell_type": "code",
   "execution_count": 9,
   "id": "f71ea8b6",
   "metadata": {
    "execution": {
     "iopub.execute_input": "2022-08-27T12:13:00.074101Z",
     "iopub.status.busy": "2022-08-27T12:13:00.073356Z",
     "iopub.status.idle": "2022-08-27T12:13:00.077357Z",
     "shell.execute_reply": "2022-08-27T12:13:00.076519Z"
    },
    "papermill": {
     "duration": 0.012868,
     "end_time": "2022-08-27T12:13:00.079310",
     "exception": false,
     "start_time": "2022-08-27T12:13:00.066442",
     "status": "completed"
    },
    "tags": []
   },
   "outputs": [],
   "source": [
    "#q4.hint()\n",
    "#q4.solution()"
   ]
  },
  {
   "cell_type": "markdown",
   "id": "6a27234a",
   "metadata": {
    "papermill": {
     "duration": 0.006072,
     "end_time": "2022-08-27T12:13:00.091333",
     "exception": false,
     "start_time": "2022-08-27T12:13:00.085261",
     "status": "completed"
    },
    "tags": []
   },
   "source": [
    "## 5.\n",
    "I'm an economical wine buyer. Which wine is the \"best bargain\"? Create a variable `bargain_wine` with the title of the wine with the highest points-to-price ratio in the dataset."
   ]
  },
  {
   "cell_type": "code",
   "execution_count": 10,
   "id": "580b20b2",
   "metadata": {
    "execution": {
     "iopub.execute_input": "2022-08-27T12:13:00.105102Z",
     "iopub.status.busy": "2022-08-27T12:13:00.104496Z",
     "iopub.status.idle": "2022-08-27T12:13:00.117210Z",
     "shell.execute_reply": "2022-08-27T12:13:00.115476Z"
    },
    "papermill": {
     "duration": 0.021932,
     "end_time": "2022-08-27T12:13:00.119202",
     "exception": false,
     "start_time": "2022-08-27T12:13:00.097270",
     "status": "completed"
    },
    "tags": []
   },
   "outputs": [
    {
     "name": "stdout",
     "output_type": "stream",
     "text": [
      "         country                                        description  \\\n",
      "0          Italy  Aromas include tropical fruit, broom, brimston...   \n",
      "1       Portugal  This is ripe and fruity, a wine that is smooth...   \n",
      "...          ...                                                ...   \n",
      "129969    France  A dry style of Pinot Gris, this is crisp with ...   \n",
      "129970    France  Big, rich and off-dry, this is powered by inte...   \n",
      "\n",
      "                          designation  points  price           province  \\\n",
      "0                        Vulkà Bianco      87    NaN  Sicily & Sardinia   \n",
      "1                            Avidagos      87   15.0              Douro   \n",
      "...                               ...     ...    ...                ...   \n",
      "129969                            NaN      90   32.0             Alsace   \n",
      "129970  Lieu-dit Harth Cuvée Caroline      90   21.0             Alsace   \n",
      "\n",
      "       region_1 region_2    taster_name taster_twitter_handle  \\\n",
      "0          Etna      NaN  Kerin O’Keefe          @kerinokeefe   \n",
      "1           NaN      NaN     Roger Voss            @vossroger   \n",
      "...         ...      ...            ...                   ...   \n",
      "129969   Alsace      NaN     Roger Voss            @vossroger   \n",
      "129970   Alsace      NaN     Roger Voss            @vossroger   \n",
      "\n",
      "                                                    title         variety  \\\n",
      "0                       Nicosia 2013 Vulkà Bianco  (Etna)     White Blend   \n",
      "1           Quinta dos Avidagos 2011 Avidagos Red (Douro)  Portuguese Red   \n",
      "...                                                   ...             ...   \n",
      "129969      Domaine Marcel Deiss 2012 Pinot Gris (Alsace)      Pinot Gris   \n",
      "129970  Domaine Schoffit 2012 Lieu-dit Harth Cuvée Car...  Gewürztraminer   \n",
      "\n",
      "                      winery  \n",
      "0                    Nicosia  \n",
      "1        Quinta dos Avidagos  \n",
      "...                      ...  \n",
      "129969  Domaine Marcel Deiss  \n",
      "129970      Domaine Schoffit  \n",
      "\n",
      "[129971 rows x 13 columns]\n"
     ]
    }
   ],
   "source": [
    "print(reviews)"
   ]
  },
  {
   "cell_type": "code",
   "execution_count": 11,
   "id": "5e1c9698",
   "metadata": {
    "execution": {
     "iopub.execute_input": "2022-08-27T12:13:00.132933Z",
     "iopub.status.busy": "2022-08-27T12:13:00.132309Z",
     "iopub.status.idle": "2022-08-27T12:13:00.144201Z",
     "shell.execute_reply": "2022-08-27T12:13:00.143265Z"
    },
    "papermill": {
     "duration": 0.020891,
     "end_time": "2022-08-27T12:13:00.146139",
     "exception": false,
     "start_time": "2022-08-27T12:13:00.125248",
     "status": "completed"
    },
    "tags": []
   },
   "outputs": [
    {
     "data": {
      "application/javascript": [
       "parent.postMessage({\"jupyterEvent\": \"custom.exercise_interaction\", \"data\": {\"outcomeType\": 1, \"valueTowardsCompletion\": 0.14285714285714285, \"interactionType\": 1, \"questionType\": 2, \"questionId\": \"5_BargainWine\", \"learnToolsVersion\": \"0.3.4\", \"failureMessage\": \"\", \"exceptionClass\": \"\", \"trace\": \"\"}}, \"*\")"
      ],
      "text/plain": [
       "<IPython.core.display.Javascript object>"
      ]
     },
     "metadata": {},
     "output_type": "display_data"
    },
    {
     "data": {
      "text/markdown": [
       "<span style=\"color:#33cc33\">Correct</span>"
      ],
      "text/plain": [
       "Correct"
      ]
     },
     "metadata": {},
     "output_type": "display_data"
    }
   ],
   "source": [
    "bargain_idx = (reviews.points / reviews.price).idxmax()\n",
    "bargain_wine = reviews.loc[bargain_idx, 'title']\n",
    "\n",
    "# Check your answer\n",
    "q5.check()"
   ]
  },
  {
   "cell_type": "code",
   "execution_count": 12,
   "id": "2c917514",
   "metadata": {
    "execution": {
     "iopub.execute_input": "2022-08-27T12:13:00.159886Z",
     "iopub.status.busy": "2022-08-27T12:13:00.159285Z",
     "iopub.status.idle": "2022-08-27T12:13:00.171210Z",
     "shell.execute_reply": "2022-08-27T12:13:00.170359Z"
    },
    "papermill": {
     "duration": 0.020976,
     "end_time": "2022-08-27T12:13:00.173299",
     "exception": false,
     "start_time": "2022-08-27T12:13:00.152323",
     "status": "completed"
    },
    "tags": []
   },
   "outputs": [
    {
     "data": {
      "application/javascript": [
       "parent.postMessage({\"jupyterEvent\": \"custom.exercise_interaction\", \"data\": {\"interactionType\": 2, \"questionType\": 2, \"questionId\": \"5_BargainWine\", \"learnToolsVersion\": \"0.3.4\", \"valueTowardsCompletion\": 0.0, \"failureMessage\": \"\", \"exceptionClass\": \"\", \"trace\": \"\", \"outcomeType\": 4}}, \"*\")"
      ],
      "text/plain": [
       "<IPython.core.display.Javascript object>"
      ]
     },
     "metadata": {},
     "output_type": "display_data"
    },
    {
     "data": {
      "text/markdown": [
       "<span style=\"color:#3366cc\">Hint:</span> The `idxmax` method may be useful here."
      ],
      "text/plain": [
       "Hint: The `idxmax` method may be useful here."
      ]
     },
     "metadata": {},
     "output_type": "display_data"
    },
    {
     "data": {
      "application/javascript": [
       "parent.postMessage({\"jupyterEvent\": \"custom.exercise_interaction\", \"data\": {\"interactionType\": 3, \"questionType\": 2, \"questionId\": \"5_BargainWine\", \"learnToolsVersion\": \"0.3.4\", \"valueTowardsCompletion\": 0.0, \"failureMessage\": \"\", \"exceptionClass\": \"\", \"trace\": \"\", \"outcomeType\": 4}}, \"*\")"
      ],
      "text/plain": [
       "<IPython.core.display.Javascript object>"
      ]
     },
     "metadata": {},
     "output_type": "display_data"
    },
    {
     "data": {
      "text/markdown": [
       "<span style=\"color:#33cc99\">Solution:</span> \n",
       "```python\n",
       "bargain_idx = (reviews.points / reviews.price).idxmax()\n",
       "bargain_wine = reviews.loc[bargain_idx, 'title']\n",
       "```"
      ],
      "text/plain": [
       "Solution: \n",
       "```python\n",
       "bargain_idx = (reviews.points / reviews.price).idxmax()\n",
       "bargain_wine = reviews.loc[bargain_idx, 'title']\n",
       "```"
      ]
     },
     "metadata": {},
     "output_type": "display_data"
    }
   ],
   "source": [
    "q5.hint()\n",
    "q5.solution()"
   ]
  },
  {
   "cell_type": "markdown",
   "id": "0c6144ef",
   "metadata": {
    "papermill": {
     "duration": 0.006426,
     "end_time": "2022-08-27T12:13:00.186389",
     "exception": false,
     "start_time": "2022-08-27T12:13:00.179963",
     "status": "completed"
    },
    "tags": []
   },
   "source": [
    "## 6.\n",
    "There are only so many words you can use when describing a bottle of wine. Is a wine more likely to be \"tropical\" or \"fruity\"? Create a Series `descriptor_counts` counting how many times each of these two words appears in the `description` column in the dataset."
   ]
  },
  {
   "cell_type": "code",
   "execution_count": 13,
   "id": "ed1f4f88",
   "metadata": {
    "execution": {
     "iopub.execute_input": "2022-08-27T12:13:00.200948Z",
     "iopub.status.busy": "2022-08-27T12:13:00.200640Z",
     "iopub.status.idle": "2022-08-27T12:13:00.325208Z",
     "shell.execute_reply": "2022-08-27T12:13:00.323827Z"
    },
    "papermill": {
     "duration": 0.13437,
     "end_time": "2022-08-27T12:13:00.327395",
     "exception": false,
     "start_time": "2022-08-27T12:13:00.193025",
     "status": "completed"
    },
    "tags": []
   },
   "outputs": [
    {
     "name": "stdout",
     "output_type": "stream",
     "text": [
      "tropical    3607\n",
      "fruity      9090\n",
      "dtype: int64\n"
     ]
    },
    {
     "data": {
      "application/javascript": [
       "parent.postMessage({\"jupyterEvent\": \"custom.exercise_interaction\", \"data\": {\"outcomeType\": 1, \"valueTowardsCompletion\": 0.14285714285714285, \"interactionType\": 1, \"questionType\": 1, \"questionId\": \"6_DescriptorCounts\", \"learnToolsVersion\": \"0.3.4\", \"failureMessage\": \"\", \"exceptionClass\": \"\", \"trace\": \"\"}}, \"*\")"
      ],
      "text/plain": [
       "<IPython.core.display.Javascript object>"
      ]
     },
     "metadata": {},
     "output_type": "display_data"
    },
    {
     "data": {
      "text/markdown": [
       "<span style=\"color:#33cc33\">Correct</span>"
      ],
      "text/plain": [
       "Correct"
      ]
     },
     "metadata": {},
     "output_type": "display_data"
    }
   ],
   "source": [
    "num_trop = reviews.description.map(lambda d: \"tropical\" in d).sum()\n",
    "num_fruity = reviews.description.map(lambda d: \"fruity\" in d).sum()\n",
    "\n",
    "descriptor_counts = pd.Series([num_trop, num_fruity], index = ['tropical', 'fruity'])\n",
    "print(descriptor_counts)\n",
    "# Check your answer\n",
    "q6.check()"
   ]
  },
  {
   "cell_type": "code",
   "execution_count": 14,
   "id": "f45471c9",
   "metadata": {
    "execution": {
     "iopub.execute_input": "2022-08-27T12:13:00.343160Z",
     "iopub.status.busy": "2022-08-27T12:13:00.342852Z",
     "iopub.status.idle": "2022-08-27T12:13:00.356656Z",
     "shell.execute_reply": "2022-08-27T12:13:00.355684Z"
    },
    "papermill": {
     "duration": 0.024152,
     "end_time": "2022-08-27T12:13:00.358742",
     "exception": false,
     "start_time": "2022-08-27T12:13:00.334590",
     "status": "completed"
    },
    "tags": []
   },
   "outputs": [
    {
     "data": {
      "application/javascript": [
       "parent.postMessage({\"jupyterEvent\": \"custom.exercise_interaction\", \"data\": {\"interactionType\": 2, \"questionType\": 1, \"questionId\": \"6_DescriptorCounts\", \"learnToolsVersion\": \"0.3.4\", \"valueTowardsCompletion\": 0.0, \"failureMessage\": \"\", \"exceptionClass\": \"\", \"trace\": \"\", \"outcomeType\": 4}}, \"*\")"
      ],
      "text/plain": [
       "<IPython.core.display.Javascript object>"
      ]
     },
     "metadata": {},
     "output_type": "display_data"
    },
    {
     "data": {
      "text/markdown": [
       "<span style=\"color:#3366cc\">Hint:</span> Use a map to check each description for the string `tropical`, then count up the number of times this is `True`. Repeat this for `fruity`. Finally, create a `Series` combining the two values."
      ],
      "text/plain": [
       "Hint: Use a map to check each description for the string `tropical`, then count up the number of times this is `True`. Repeat this for `fruity`. Finally, create a `Series` combining the two values."
      ]
     },
     "metadata": {},
     "output_type": "display_data"
    },
    {
     "data": {
      "application/javascript": [
       "parent.postMessage({\"jupyterEvent\": \"custom.exercise_interaction\", \"data\": {\"interactionType\": 3, \"questionType\": 1, \"questionId\": \"6_DescriptorCounts\", \"learnToolsVersion\": \"0.3.4\", \"valueTowardsCompletion\": 0.0, \"failureMessage\": \"\", \"exceptionClass\": \"\", \"trace\": \"\", \"outcomeType\": 4}}, \"*\")"
      ],
      "text/plain": [
       "<IPython.core.display.Javascript object>"
      ]
     },
     "metadata": {},
     "output_type": "display_data"
    },
    {
     "data": {
      "text/markdown": [
       "<span style=\"color:#33cc99\">Solution:</span> \n",
       "```python\n",
       "n_trop = reviews.description.map(lambda desc: \"tropical\" in desc).sum()\n",
       "n_fruity = reviews.description.map(lambda desc: \"fruity\" in desc).sum()\n",
       "descriptor_counts = pd.Series([n_trop, n_fruity], index=['tropical', 'fruity'])\n",
       "```"
      ],
      "text/plain": [
       "Solution: \n",
       "```python\n",
       "n_trop = reviews.description.map(lambda desc: \"tropical\" in desc).sum()\n",
       "n_fruity = reviews.description.map(lambda desc: \"fruity\" in desc).sum()\n",
       "descriptor_counts = pd.Series([n_trop, n_fruity], index=['tropical', 'fruity'])\n",
       "```"
      ]
     },
     "metadata": {},
     "output_type": "display_data"
    }
   ],
   "source": [
    "q6.hint()\n",
    "q6.solution()"
   ]
  },
  {
   "cell_type": "markdown",
   "id": "a4976258",
   "metadata": {
    "papermill": {
     "duration": 0.007019,
     "end_time": "2022-08-27T12:13:00.373091",
     "exception": false,
     "start_time": "2022-08-27T12:13:00.366072",
     "status": "completed"
    },
    "tags": []
   },
   "source": [
    "## 7.\n",
    "We'd like to host these wine reviews on our website, but a rating system ranging from 80 to 100 points is too hard to understand - we'd like to translate them into simple star ratings. A score of 95 or higher counts as 3 stars, a score of at least 85 but less than 95 is 2 stars. Any other score is 1 star.\n",
    "\n",
    "Also, the Canadian Vintners Association bought a lot of ads on the site, so any wines from Canada should automatically get 3 stars, regardless of points.\n",
    "\n",
    "Create a series `star_ratings` with the number of stars corresponding to each review in the dataset."
   ]
  },
  {
   "cell_type": "code",
   "execution_count": 15,
   "id": "0f8a64c4",
   "metadata": {
    "execution": {
     "iopub.execute_input": "2022-08-27T12:13:00.388830Z",
     "iopub.status.busy": "2022-08-27T12:13:00.388550Z",
     "iopub.status.idle": "2022-08-27T12:13:04.116166Z",
     "shell.execute_reply": "2022-08-27T12:13:04.115346Z"
    },
    "papermill": {
     "duration": 3.738408,
     "end_time": "2022-08-27T12:13:04.118704",
     "exception": false,
     "start_time": "2022-08-27T12:13:00.380296",
     "status": "completed"
    },
    "tags": []
   },
   "outputs": [
    {
     "data": {
      "application/javascript": [
       "parent.postMessage({\"jupyterEvent\": \"custom.exercise_interaction\", \"data\": {\"outcomeType\": 1, \"valueTowardsCompletion\": 0.14285714285714285, \"interactionType\": 1, \"questionType\": 1, \"questionId\": \"7_StarRatings\", \"learnToolsVersion\": \"0.3.4\", \"failureMessage\": \"\", \"exceptionClass\": \"\", \"trace\": \"\"}}, \"*\")"
      ],
      "text/plain": [
       "<IPython.core.display.Javascript object>"
      ]
     },
     "metadata": {},
     "output_type": "display_data"
    },
    {
     "data": {
      "text/markdown": [
       "<span style=\"color:#33cc33\">Correct</span>"
      ],
      "text/plain": [
       "Correct"
      ]
     },
     "metadata": {},
     "output_type": "display_data"
    }
   ],
   "source": [
    "def stars(row):\n",
    "    if row.country == 'Canada':\n",
    "        return 3\n",
    "    elif row.points >= 95:\n",
    "        return 3\n",
    "    elif row.points >= 85:\n",
    "        return 2\n",
    "    else:\n",
    "        return 1\n",
    "\n",
    "star_ratings = reviews.apply(stars, axis='columns')\n",
    "\n",
    "\n",
    "# Check your answer\n",
    "q7.check()"
   ]
  },
  {
   "cell_type": "code",
   "execution_count": 16,
   "id": "3b0dd702",
   "metadata": {
    "execution": {
     "iopub.execute_input": "2022-08-27T12:13:04.143832Z",
     "iopub.status.busy": "2022-08-27T12:13:04.143387Z",
     "iopub.status.idle": "2022-08-27T12:13:04.147637Z",
     "shell.execute_reply": "2022-08-27T12:13:04.146817Z"
    },
    "papermill": {
     "duration": 0.0205,
     "end_time": "2022-08-27T12:13:04.151367",
     "exception": false,
     "start_time": "2022-08-27T12:13:04.130867",
     "status": "completed"
    },
    "tags": []
   },
   "outputs": [],
   "source": [
    "#q7.hint()\n",
    "#q7.solution()"
   ]
  },
  {
   "cell_type": "markdown",
   "id": "a49cdb5f",
   "metadata": {
    "papermill": {
     "duration": 0.011837,
     "end_time": "2022-08-27T12:13:04.175319",
     "exception": false,
     "start_time": "2022-08-27T12:13:04.163482",
     "status": "completed"
    },
    "tags": []
   },
   "source": [
    "# Keep going\n",
    "Continue to **[grouping and sorting](https://www.kaggle.com/residentmario/grouping-and-sorting)**."
   ]
  },
  {
   "cell_type": "markdown",
   "id": "44fc851d",
   "metadata": {
    "papermill": {
     "duration": 0.011072,
     "end_time": "2022-08-27T12:13:04.197903",
     "exception": false,
     "start_time": "2022-08-27T12:13:04.186831",
     "status": "completed"
    },
    "tags": []
   },
   "source": [
    "---\n",
    "\n",
    "\n",
    "\n",
    "\n",
    "*Have questions or comments? Visit the [Learn Discussion forum](https://www.kaggle.com/learn-forum/161299) to chat with other Learners.*"
   ]
  }
 ],
 "metadata": {
  "kernelspec": {
   "display_name": "Python 3",
   "language": "python",
   "name": "python3"
  },
  "language_info": {
   "codemirror_mode": {
    "name": "ipython",
    "version": 3
   },
   "file_extension": ".py",
   "mimetype": "text/x-python",
   "name": "python",
   "nbconvert_exporter": "python",
   "pygments_lexer": "ipython3",
   "version": "3.7.12"
  },
  "papermill": {
   "default_parameters": {},
   "duration": 18.418347,
   "end_time": "2022-08-27T12:13:04.730064",
   "environment_variables": {},
   "exception": null,
   "input_path": "__notebook__.ipynb",
   "output_path": "__notebook__.ipynb",
   "parameters": {},
   "start_time": "2022-08-27T12:12:46.311717",
   "version": "2.3.4"
  }
 },
 "nbformat": 4,
 "nbformat_minor": 5
}
