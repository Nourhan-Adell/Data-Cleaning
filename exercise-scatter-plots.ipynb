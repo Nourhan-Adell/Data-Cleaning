{
 "cells": [
  {
   "cell_type": "markdown",
   "id": "5005b40c",
   "metadata": {
    "papermill": {
     "duration": 0.010651,
     "end_time": "2022-08-27T09:56:38.797050",
     "exception": false,
     "start_time": "2022-08-27T09:56:38.786399",
     "status": "completed"
    },
    "tags": []
   },
   "source": [
    "**This notebook is an exercise in the [Data Visualization](https://www.kaggle.com/learn/data-visualization) course.  You can reference the tutorial at [this link](https://www.kaggle.com/alexisbcook/scatter-plots).**\n",
    "\n",
    "---\n"
   ]
  },
  {
   "cell_type": "markdown",
   "id": "7921db0d",
   "metadata": {
    "papermill": {
     "duration": 0.008742,
     "end_time": "2022-08-27T09:56:38.814874",
     "exception": false,
     "start_time": "2022-08-27T09:56:38.806132",
     "status": "completed"
    },
    "tags": []
   },
   "source": [
    "In this exercise, you will use your new knowledge to propose a solution to a real-world scenario.  To succeed, you will need to import data into Python, answer questions using the data, and generate **scatter plots** to understand patterns in the data.\n",
    "\n",
    "## Scenario\n",
    "\n",
    "You work for a major candy producer, and your goal is to write a report that your company can use to guide the design of its next product.  Soon after starting your research, you stumble across this [very interesting dataset](https://fivethirtyeight.com/features/the-ultimate-halloween-candy-power-ranking/) containing results from a fun survey to crowdsource favorite candies.\n",
    "\n",
    "## Setup\n",
    "\n",
    "Run the next cell to import and configure the Python libraries that you need to complete the exercise."
   ]
  },
  {
   "cell_type": "code",
   "execution_count": 1,
   "id": "c887445f",
   "metadata": {
    "execution": {
     "iopub.execute_input": "2022-08-27T09:56:38.834830Z",
     "iopub.status.busy": "2022-08-27T09:56:38.834219Z",
     "iopub.status.idle": "2022-08-27T09:56:40.100732Z",
     "shell.execute_reply": "2022-08-27T09:56:40.099485Z"
    },
    "papermill": {
     "duration": 1.279771,
     "end_time": "2022-08-27T09:56:40.103396",
     "exception": false,
     "start_time": "2022-08-27T09:56:38.823625",
     "status": "completed"
    },
    "tags": []
   },
   "outputs": [
    {
     "name": "stdout",
     "output_type": "stream",
     "text": [
      "Setup Complete\n"
     ]
    }
   ],
   "source": [
    "import pandas as pd\n",
    "pd.plotting.register_matplotlib_converters()\n",
    "import matplotlib.pyplot as plt\n",
    "%matplotlib inline\n",
    "import seaborn as sns\n",
    "print(\"Setup Complete\")"
   ]
  },
  {
   "cell_type": "markdown",
   "id": "6003740b",
   "metadata": {
    "papermill": {
     "duration": 0.009771,
     "end_time": "2022-08-27T09:56:40.122359",
     "exception": false,
     "start_time": "2022-08-27T09:56:40.112588",
     "status": "completed"
    },
    "tags": []
   },
   "source": [
    "The questions below will give you feedback on your work. Run the following cell to set up our feedback system."
   ]
  },
  {
   "cell_type": "code",
   "execution_count": 2,
   "id": "230fc5e2",
   "metadata": {
    "execution": {
     "iopub.execute_input": "2022-08-27T09:56:40.142853Z",
     "iopub.status.busy": "2022-08-27T09:56:40.142407Z",
     "iopub.status.idle": "2022-08-27T09:56:40.219175Z",
     "shell.execute_reply": "2022-08-27T09:56:40.217801Z"
    },
    "papermill": {
     "duration": 0.090268,
     "end_time": "2022-08-27T09:56:40.222263",
     "exception": false,
     "start_time": "2022-08-27T09:56:40.131995",
     "status": "completed"
    },
    "tags": []
   },
   "outputs": [
    {
     "name": "stdout",
     "output_type": "stream",
     "text": [
      "Setup Complete\n"
     ]
    }
   ],
   "source": [
    "# Set up code checking\n",
    "import os\n",
    "if not os.path.exists(\"../input/candy.csv\"):\n",
    "    os.symlink(\"../input/data-for-datavis/candy.csv\", \"../input/candy.csv\") \n",
    "from learntools.core import binder\n",
    "binder.bind(globals())\n",
    "from learntools.data_viz_to_coder.ex4 import *\n",
    "print(\"Setup Complete\")"
   ]
  },
  {
   "cell_type": "markdown",
   "id": "65495ca2",
   "metadata": {
    "papermill": {
     "duration": 0.008658,
     "end_time": "2022-08-27T09:56:40.240052",
     "exception": false,
     "start_time": "2022-08-27T09:56:40.231394",
     "status": "completed"
    },
    "tags": []
   },
   "source": [
    "## Step 1: Load the Data\n",
    "\n",
    "Read the candy data file into `candy_data`.  Use the `\"id\"` column to label the rows."
   ]
  },
  {
   "cell_type": "code",
   "execution_count": 3,
   "id": "363dd349",
   "metadata": {
    "execution": {
     "iopub.execute_input": "2022-08-27T09:56:40.259944Z",
     "iopub.status.busy": "2022-08-27T09:56:40.259532Z",
     "iopub.status.idle": "2022-08-27T09:56:40.273590Z",
     "shell.execute_reply": "2022-08-27T09:56:40.272767Z"
    },
    "papermill": {
     "duration": 0.026675,
     "end_time": "2022-08-27T09:56:40.275766",
     "exception": false,
     "start_time": "2022-08-27T09:56:40.249091",
     "status": "completed"
    },
    "tags": []
   },
   "outputs": [
    {
     "data": {
      "application/javascript": [
       "parent.postMessage({\"jupyterEvent\": \"custom.exercise_interaction\", \"data\": {\"outcomeType\": 1, \"valueTowardsCompletion\": 0.3333333333333333, \"interactionType\": 1, \"questionType\": 1, \"questionId\": \"1_LoadData\", \"learnToolsVersion\": \"0.3.4\", \"failureMessage\": \"\", \"exceptionClass\": \"\", \"trace\": \"\"}}, \"*\")"
      ],
      "text/plain": [
       "<IPython.core.display.Javascript object>"
      ]
     },
     "metadata": {},
     "output_type": "display_data"
    },
    {
     "data": {
      "text/markdown": [
       "<span style=\"color:#33cc33\">Correct</span>"
      ],
      "text/plain": [
       "Correct"
      ]
     },
     "metadata": {},
     "output_type": "display_data"
    }
   ],
   "source": [
    "# Path of the file to read\n",
    "candy_filepath = \"../input/candy.csv\"\n",
    "\n",
    "# Fill in the line below to read the file into a variable candy_data\n",
    "candy_data = pd.read_csv(candy_filepath, index_col='id')\n",
    "\n",
    "# Run the line below with no changes to check that you've loaded the data correctly\n",
    "step_1.check()"
   ]
  },
  {
   "cell_type": "code",
   "execution_count": 4,
   "id": "768525cd",
   "metadata": {
    "execution": {
     "iopub.execute_input": "2022-08-27T09:56:40.297578Z",
     "iopub.status.busy": "2022-08-27T09:56:40.296620Z",
     "iopub.status.idle": "2022-08-27T09:56:40.301032Z",
     "shell.execute_reply": "2022-08-27T09:56:40.300045Z"
    },
    "papermill": {
     "duration": 0.017099,
     "end_time": "2022-08-27T09:56:40.303253",
     "exception": false,
     "start_time": "2022-08-27T09:56:40.286154",
     "status": "completed"
    },
    "tags": []
   },
   "outputs": [],
   "source": [
    "# Lines below will give you a hint or solution code\n",
    "#step_1.hint()\n",
    "#step_1.solution()"
   ]
  },
  {
   "cell_type": "markdown",
   "id": "66463a50",
   "metadata": {
    "papermill": {
     "duration": 0.008854,
     "end_time": "2022-08-27T09:56:40.321394",
     "exception": false,
     "start_time": "2022-08-27T09:56:40.312540",
     "status": "completed"
    },
    "tags": []
   },
   "source": [
    "## Step 2: Review the data\n",
    "\n",
    "Use a Python command to print the first five rows of the data."
   ]
  },
  {
   "cell_type": "code",
   "execution_count": 5,
   "id": "281a1e16",
   "metadata": {
    "execution": {
     "iopub.execute_input": "2022-08-27T09:56:40.342203Z",
     "iopub.status.busy": "2022-08-27T09:56:40.341348Z",
     "iopub.status.idle": "2022-08-27T09:56:40.364785Z",
     "shell.execute_reply": "2022-08-27T09:56:40.363630Z"
    },
    "papermill": {
     "duration": 0.036554,
     "end_time": "2022-08-27T09:56:40.367258",
     "exception": false,
     "start_time": "2022-08-27T09:56:40.330704",
     "status": "completed"
    },
    "tags": []
   },
   "outputs": [
    {
     "data": {
      "text/html": [
       "<div>\n",
       "<style scoped>\n",
       "    .dataframe tbody tr th:only-of-type {\n",
       "        vertical-align: middle;\n",
       "    }\n",
       "\n",
       "    .dataframe tbody tr th {\n",
       "        vertical-align: top;\n",
       "    }\n",
       "\n",
       "    .dataframe thead th {\n",
       "        text-align: right;\n",
       "    }\n",
       "</style>\n",
       "<table border=\"1\" class=\"dataframe\">\n",
       "  <thead>\n",
       "    <tr style=\"text-align: right;\">\n",
       "      <th></th>\n",
       "      <th>competitorname</th>\n",
       "      <th>chocolate</th>\n",
       "      <th>fruity</th>\n",
       "      <th>caramel</th>\n",
       "      <th>peanutyalmondy</th>\n",
       "      <th>nougat</th>\n",
       "      <th>crispedricewafer</th>\n",
       "      <th>hard</th>\n",
       "      <th>bar</th>\n",
       "      <th>pluribus</th>\n",
       "      <th>sugarpercent</th>\n",
       "      <th>pricepercent</th>\n",
       "      <th>winpercent</th>\n",
       "    </tr>\n",
       "    <tr>\n",
       "      <th>id</th>\n",
       "      <th></th>\n",
       "      <th></th>\n",
       "      <th></th>\n",
       "      <th></th>\n",
       "      <th></th>\n",
       "      <th></th>\n",
       "      <th></th>\n",
       "      <th></th>\n",
       "      <th></th>\n",
       "      <th></th>\n",
       "      <th></th>\n",
       "      <th></th>\n",
       "      <th></th>\n",
       "    </tr>\n",
       "  </thead>\n",
       "  <tbody>\n",
       "    <tr>\n",
       "      <th>0</th>\n",
       "      <td>100 Grand</td>\n",
       "      <td>Yes</td>\n",
       "      <td>No</td>\n",
       "      <td>Yes</td>\n",
       "      <td>No</td>\n",
       "      <td>No</td>\n",
       "      <td>Yes</td>\n",
       "      <td>No</td>\n",
       "      <td>Yes</td>\n",
       "      <td>No</td>\n",
       "      <td>0.732</td>\n",
       "      <td>0.860</td>\n",
       "      <td>66.971725</td>\n",
       "    </tr>\n",
       "    <tr>\n",
       "      <th>1</th>\n",
       "      <td>3 Musketeers</td>\n",
       "      <td>Yes</td>\n",
       "      <td>No</td>\n",
       "      <td>No</td>\n",
       "      <td>No</td>\n",
       "      <td>Yes</td>\n",
       "      <td>No</td>\n",
       "      <td>No</td>\n",
       "      <td>Yes</td>\n",
       "      <td>No</td>\n",
       "      <td>0.604</td>\n",
       "      <td>0.511</td>\n",
       "      <td>67.602936</td>\n",
       "    </tr>\n",
       "    <tr>\n",
       "      <th>2</th>\n",
       "      <td>Air Heads</td>\n",
       "      <td>No</td>\n",
       "      <td>Yes</td>\n",
       "      <td>No</td>\n",
       "      <td>No</td>\n",
       "      <td>No</td>\n",
       "      <td>No</td>\n",
       "      <td>No</td>\n",
       "      <td>No</td>\n",
       "      <td>No</td>\n",
       "      <td>0.906</td>\n",
       "      <td>0.511</td>\n",
       "      <td>52.341465</td>\n",
       "    </tr>\n",
       "    <tr>\n",
       "      <th>3</th>\n",
       "      <td>Almond Joy</td>\n",
       "      <td>Yes</td>\n",
       "      <td>No</td>\n",
       "      <td>No</td>\n",
       "      <td>Yes</td>\n",
       "      <td>No</td>\n",
       "      <td>No</td>\n",
       "      <td>No</td>\n",
       "      <td>Yes</td>\n",
       "      <td>No</td>\n",
       "      <td>0.465</td>\n",
       "      <td>0.767</td>\n",
       "      <td>50.347546</td>\n",
       "    </tr>\n",
       "    <tr>\n",
       "      <th>4</th>\n",
       "      <td>Baby Ruth</td>\n",
       "      <td>Yes</td>\n",
       "      <td>No</td>\n",
       "      <td>Yes</td>\n",
       "      <td>Yes</td>\n",
       "      <td>Yes</td>\n",
       "      <td>No</td>\n",
       "      <td>No</td>\n",
       "      <td>Yes</td>\n",
       "      <td>No</td>\n",
       "      <td>0.604</td>\n",
       "      <td>0.767</td>\n",
       "      <td>56.914547</td>\n",
       "    </tr>\n",
       "  </tbody>\n",
       "</table>\n",
       "</div>"
      ],
      "text/plain": [
       "   competitorname chocolate fruity caramel peanutyalmondy nougat  \\\n",
       "id                                                                 \n",
       "0       100 Grand       Yes     No     Yes             No     No   \n",
       "1    3 Musketeers       Yes     No      No             No    Yes   \n",
       "2       Air Heads        No    Yes      No             No     No   \n",
       "3      Almond Joy       Yes     No      No            Yes     No   \n",
       "4       Baby Ruth       Yes     No     Yes            Yes    Yes   \n",
       "\n",
       "   crispedricewafer hard  bar pluribus  sugarpercent  pricepercent  winpercent  \n",
       "id                                                                              \n",
       "0               Yes   No  Yes       No         0.732         0.860   66.971725  \n",
       "1                No   No  Yes       No         0.604         0.511   67.602936  \n",
       "2                No   No   No       No         0.906         0.511   52.341465  \n",
       "3                No   No  Yes       No         0.465         0.767   50.347546  \n",
       "4                No   No  Yes       No         0.604         0.767   56.914547  "
      ]
     },
     "execution_count": 5,
     "metadata": {},
     "output_type": "execute_result"
    }
   ],
   "source": [
    "# Print the first five rows of the data\n",
    "candy_data.head() # Your code here"
   ]
  },
  {
   "cell_type": "markdown",
   "id": "353454a3",
   "metadata": {
    "papermill": {
     "duration": 0.0092,
     "end_time": "2022-08-27T09:56:40.386115",
     "exception": false,
     "start_time": "2022-08-27T09:56:40.376915",
     "status": "completed"
    },
    "tags": []
   },
   "source": [
    "The dataset contains 83 rows, where each corresponds to a different candy bar.  There are 13 columns:\n",
    "- `'competitorname'` contains the name of the candy bar. \n",
    "- the next **9** columns (from `'chocolate'` to `'pluribus'`) describe the candy.  For instance, rows with chocolate candies have `\"Yes\"` in the `'chocolate'` column (and candies without chocolate have `\"No\"` in the same column).\n",
    "- `'sugarpercent'` provides some indication of the amount of sugar, where higher values signify higher sugar content.\n",
    "- `'pricepercent'` shows the price per unit, relative to the other candies in the dataset.\n",
    "- `'winpercent'` is calculated from the survey results; higher values indicate that the candy was more popular with survey respondents.\n",
    "\n",
    "Use the first five rows of the data to answer the questions below."
   ]
  },
  {
   "cell_type": "code",
   "execution_count": 6,
   "id": "31f0cc1b",
   "metadata": {
    "execution": {
     "iopub.execute_input": "2022-08-27T09:56:40.406793Z",
     "iopub.status.busy": "2022-08-27T09:56:40.406349Z",
     "iopub.status.idle": "2022-08-27T09:56:40.415584Z",
     "shell.execute_reply": "2022-08-27T09:56:40.414130Z"
    },
    "papermill": {
     "duration": 0.02243,
     "end_time": "2022-08-27T09:56:40.418065",
     "exception": false,
     "start_time": "2022-08-27T09:56:40.395635",
     "status": "completed"
    },
    "tags": []
   },
   "outputs": [
    {
     "data": {
      "application/javascript": [
       "parent.postMessage({\"jupyterEvent\": \"custom.exercise_interaction\", \"data\": {\"outcomeType\": 1, \"valueTowardsCompletion\": 0.3333333333333333, \"interactionType\": 1, \"questionType\": 1, \"questionId\": \"2_ReviewData\", \"learnToolsVersion\": \"0.3.4\", \"failureMessage\": \"\", \"exceptionClass\": \"\", \"trace\": \"\"}}, \"*\")"
      ],
      "text/plain": [
       "<IPython.core.display.Javascript object>"
      ]
     },
     "metadata": {},
     "output_type": "display_data"
    },
    {
     "data": {
      "text/markdown": [
       "<span style=\"color:#33cc33\">Correct</span>"
      ],
      "text/plain": [
       "Correct"
      ]
     },
     "metadata": {},
     "output_type": "display_data"
    }
   ],
   "source": [
    "# Fill in the line below: Which candy was more popular with survey respondents:\n",
    "# '3 Musketeers' or 'Almond Joy'?  (Please enclose your answer in single quotes.)\n",
    "more_popular = '3 Musketeers'\n",
    "\n",
    "# Fill in the line below: Which candy has higher sugar content: 'Air Heads'\n",
    "# or 'Baby Ruth'? (Please enclose your answer in single quotes.)\n",
    "more_sugar = 'Air Heads'\n",
    "\n",
    "# Check your answers\n",
    "step_2.check()"
   ]
  },
  {
   "cell_type": "code",
   "execution_count": 7,
   "id": "a87286b0",
   "metadata": {
    "execution": {
     "iopub.execute_input": "2022-08-27T09:56:40.440168Z",
     "iopub.status.busy": "2022-08-27T09:56:40.439272Z",
     "iopub.status.idle": "2022-08-27T09:56:40.444593Z",
     "shell.execute_reply": "2022-08-27T09:56:40.443452Z"
    },
    "papermill": {
     "duration": 0.018747,
     "end_time": "2022-08-27T09:56:40.446967",
     "exception": false,
     "start_time": "2022-08-27T09:56:40.428220",
     "status": "completed"
    },
    "tags": []
   },
   "outputs": [],
   "source": [
    "# Lines below will give you a hint or solution code\n",
    "#step_2.hint()\n",
    "#step_2.solution()"
   ]
  },
  {
   "cell_type": "markdown",
   "id": "1f9257eb",
   "metadata": {
    "papermill": {
     "duration": 0.009384,
     "end_time": "2022-08-27T09:56:40.466346",
     "exception": false,
     "start_time": "2022-08-27T09:56:40.456962",
     "status": "completed"
    },
    "tags": []
   },
   "source": [
    "## Step 3: The role of sugar\n",
    "\n",
    "Do people tend to prefer candies with higher sugar content?  \n",
    "\n",
    "#### Part A\n",
    "\n",
    "Create a scatter plot that shows the relationship between `'sugarpercent'` (on the horizontal x-axis) and `'winpercent'` (on the vertical y-axis).  _Don't add a regression line just yet -- you'll do that in the next step!_"
   ]
  },
  {
   "cell_type": "code",
   "execution_count": 8,
   "id": "4b622e79",
   "metadata": {
    "execution": {
     "iopub.execute_input": "2022-08-27T09:56:40.488370Z",
     "iopub.status.busy": "2022-08-27T09:56:40.487194Z",
     "iopub.status.idle": "2022-08-27T09:56:40.770225Z",
     "shell.execute_reply": "2022-08-27T09:56:40.769247Z"
    },
    "papermill": {
     "duration": 0.29704,
     "end_time": "2022-08-27T09:56:40.773214",
     "exception": false,
     "start_time": "2022-08-27T09:56:40.476174",
     "status": "completed"
    },
    "tags": []
   },
   "outputs": [
    {
     "data": {
      "application/javascript": [
       "parent.postMessage({\"jupyterEvent\": \"custom.exercise_interaction\", \"data\": {\"outcomeType\": 1, \"valueTowardsCompletion\": 0.3333333333333333, \"interactionType\": 1, \"questionType\": 2, \"questionId\": \"3.1_PlotBlueScatter\", \"learnToolsVersion\": \"0.3.4\", \"failureMessage\": \"\", \"exceptionClass\": \"\", \"trace\": \"\"}}, \"*\")"
      ],
      "text/plain": [
       "<IPython.core.display.Javascript object>"
      ]
     },
     "metadata": {},
     "output_type": "display_data"
    },
    {
     "data": {
      "text/markdown": [
       "<span style=\"color:#33cc33\">Correct</span>"
      ],
      "text/plain": [
       "Correct"
      ]
     },
     "metadata": {},
     "output_type": "display_data"
    },
    {
     "data": {
      "image/png": "[encoded data removed]",
      "text/plain": [
       "<Figure size 432x288 with 1 Axes>"
      ]
     },
     "metadata": {
      "needs_background": "light"
     },
     "output_type": "display_data"
    }
   ],
   "source": [
    "# Scatter plot showing the relationship between 'sugarpercent' and 'winpercent'\n",
    "sns.scatterplot(x= candy_data['sugarpercent'], y= candy_data['winpercent']) # Your code here\n",
    "\n",
    "# Check your answer\n",
    "step_3.a.check()"
   ]
  },
  {
   "cell_type": "code",
   "execution_count": 9,
   "id": "add81797",
   "metadata": {
    "execution": {
     "iopub.execute_input": "2022-08-27T09:56:40.795485Z",
     "iopub.status.busy": "2022-08-27T09:56:40.795024Z",
     "iopub.status.idle": "2022-08-27T09:56:40.799562Z",
     "shell.execute_reply": "2022-08-27T09:56:40.798401Z"
    },
    "papermill": {
     "duration": 0.018249,
     "end_time": "2022-08-27T09:56:40.801822",
     "exception": false,
     "start_time": "2022-08-27T09:56:40.783573",
     "status": "completed"
    },
    "tags": []
   },
   "outputs": [],
   "source": [
    "# Lines below will give you a hint or solution code\n",
    "#step_3.a.hint()\n",
    "#step_3.a.solution_plot()"
   ]
  },
  {
   "cell_type": "markdown",
   "id": "2f2aa788",
   "metadata": {
    "papermill": {
     "duration": 0.009992,
     "end_time": "2022-08-27T09:56:40.822190",
     "exception": false,
     "start_time": "2022-08-27T09:56:40.812198",
     "status": "completed"
    },
    "tags": []
   },
   "source": [
    "#### Part B\n",
    "\n",
    "Does the scatter plot show a **strong** correlation between the two variables?  If so, are candies with more sugar relatively more or less popular with the survey respondents?"
   ]
  },
  {
   "cell_type": "code",
   "execution_count": 10,
   "id": "c74091ed",
   "metadata": {
    "execution": {
     "iopub.execute_input": "2022-08-27T09:56:40.844970Z",
     "iopub.status.busy": "2022-08-27T09:56:40.844237Z",
     "iopub.status.idle": "2022-08-27T09:56:40.852964Z",
     "shell.execute_reply": "2022-08-27T09:56:40.851782Z"
    },
    "papermill": {
     "duration": 0.022983,
     "end_time": "2022-08-27T09:56:40.855460",
     "exception": false,
     "start_time": "2022-08-27T09:56:40.832477",
     "status": "completed"
    },
    "tags": []
   },
   "outputs": [
    {
     "data": {
      "application/javascript": [
       "parent.postMessage({\"jupyterEvent\": \"custom.exercise_interaction\", \"data\": {\"interactionType\": 2, \"questionType\": 4, \"questionId\": \"3.2_ThinkBlueScatter\", \"learnToolsVersion\": \"0.3.4\", \"valueTowardsCompletion\": 0.0, \"failureMessage\": \"\", \"exceptionClass\": \"\", \"trace\": \"\", \"outcomeType\": 4}}, \"*\")"
      ],
      "text/plain": [
       "<IPython.core.display.Javascript object>"
      ]
     },
     "metadata": {},
     "output_type": "display_data"
    },
    {
     "data": {
      "text/markdown": [
       "<span style=\"color:#3366cc\">Hint:</span> Compare candies with higher sugar content (on the right side of the chart) to candies with lower sugar content (on the left side of the chart). Is one group clearly more popular than the other?"
      ],
      "text/plain": [
       "Hint: Compare candies with higher sugar content (on the right side of the chart) to candies with lower sugar content (on the left side of the chart). Is one group clearly more popular than the other?"
      ]
     },
     "metadata": {},
     "output_type": "display_data"
    }
   ],
   "source": [
    "step_3.b.hint()"
   ]
  },
  {
   "cell_type": "code",
   "execution_count": 11,
   "id": "984b3c88",
   "metadata": {
    "execution": {
     "iopub.execute_input": "2022-08-27T09:56:40.879045Z",
     "iopub.status.busy": "2022-08-27T09:56:40.877844Z",
     "iopub.status.idle": "2022-08-27T09:56:40.887266Z",
     "shell.execute_reply": "2022-08-27T09:56:40.886458Z"
    },
    "papermill": {
     "duration": 0.023225,
     "end_time": "2022-08-27T09:56:40.889460",
     "exception": false,
     "start_time": "2022-08-27T09:56:40.866235",
     "status": "completed"
    },
    "tags": []
   },
   "outputs": [
    {
     "data": {
      "application/javascript": [
       "parent.postMessage({\"jupyterEvent\": \"custom.exercise_interaction\", \"data\": {\"interactionType\": 3, \"questionType\": 4, \"questionId\": \"3.2_ThinkBlueScatter\", \"learnToolsVersion\": \"0.3.4\", \"valueTowardsCompletion\": 0.0, \"failureMessage\": \"\", \"exceptionClass\": \"\", \"trace\": \"\", \"outcomeType\": 4}}, \"*\")"
      ],
      "text/plain": [
       "<IPython.core.display.Javascript object>"
      ]
     },
     "metadata": {},
     "output_type": "display_data"
    },
    {
     "data": {
      "text/markdown": [
       "<span style=\"color:#33cc99\">Solution:</span> The scatter plot does not show a strong correlation between the two variables. Since there is no clear relationship between the two variables, this tells us that sugar content does not play a strong role in candy popularity."
      ],
      "text/plain": [
       "Solution: The scatter plot does not show a strong correlation between the two variables. Since there is no clear relationship between the two variables, this tells us that sugar content does not play a strong role in candy popularity."
      ]
     },
     "metadata": {},
     "output_type": "display_data"
    }
   ],
   "source": [
    "# Check your answer (Run this code cell to receive credit!)\n",
    "step_3.b.solution()"
   ]
  },
  {
   "cell_type": "markdown",
   "id": "cc7e1eef",
   "metadata": {
    "papermill": {
     "duration": 0.010561,
     "end_time": "2022-08-27T09:56:40.910662",
     "exception": false,
     "start_time": "2022-08-27T09:56:40.900101",
     "status": "completed"
    },
    "tags": []
   },
   "source": [
    "## Step 4: Take a closer look\n",
    "\n",
    "#### Part A\n",
    "\n",
    "Create the same scatter plot you created in **Step 3**, but now with a regression line!"
   ]
  },
  {
   "cell_type": "code",
   "execution_count": 12,
   "id": "45e2e230",
   "metadata": {
    "execution": {
     "iopub.execute_input": "2022-08-27T09:56:40.934696Z",
     "iopub.status.busy": "2022-08-27T09:56:40.933496Z",
     "iopub.status.idle": "2022-08-27T09:56:41.296773Z",
     "shell.execute_reply": "2022-08-27T09:56:41.295678Z"
    },
    "papermill": {
     "duration": 0.377987,
     "end_time": "2022-08-27T09:56:41.299261",
     "exception": false,
     "start_time": "2022-08-27T09:56:40.921274",
     "status": "completed"
    },
    "tags": []
   },
   "outputs": [
    {
     "data": {
      "application/javascript": [
       "parent.postMessage({\"jupyterEvent\": \"custom.exercise_interaction\", \"data\": {\"outcomeType\": 1, \"valueTowardsCompletion\": 0.3333333333333333, \"interactionType\": 1, \"questionType\": 2, \"questionId\": \"4.1_PlotBlueReg\", \"learnToolsVersion\": \"0.3.4\", \"failureMessage\": \"\", \"exceptionClass\": \"\", \"trace\": \"\"}}, \"*\")"
      ],
      "text/plain": [
       "<IPython.core.display.Javascript object>"
      ]
     },
     "metadata": {},
     "output_type": "display_data"
    },
    {
     "data": {
      "text/markdown": [
       "<span style=\"color:#33cc33\">Correct</span>"
      ],
      "text/plain": [
       "Correct"
      ]
     },
     "metadata": {},
     "output_type": "display_data"
    },
    {
     "data": {
      "image/png": "[encoded data removed]",
      "text/plain": [
       "<Figure size 432x288 with 1 Axes>"
      ]
     },
     "metadata": {
      "needs_background": "light"
     },
     "output_type": "display_data"
    }
   ],
   "source": [
    "# Scatter plot w/ regression line showing the relationship between 'sugarpercent' and 'winpercent'\n",
    "sns.regplot(x= candy_data['sugarpercent'], y= candy_data['winpercent'], ) # Your code here\n",
    "\n",
    "# Check your answer\n",
    "step_4.a.check()"
   ]
  },
  {
   "cell_type": "code",
   "execution_count": 13,
   "id": "bf4259b7",
   "metadata": {
    "execution": {
     "iopub.execute_input": "2022-08-27T09:56:41.326652Z",
     "iopub.status.busy": "2022-08-27T09:56:41.325860Z",
     "iopub.status.idle": "2022-08-27T09:56:41.330823Z",
     "shell.execute_reply": "2022-08-27T09:56:41.329589Z"
    },
    "papermill": {
     "duration": 0.021459,
     "end_time": "2022-08-27T09:56:41.333458",
     "exception": false,
     "start_time": "2022-08-27T09:56:41.311999",
     "status": "completed"
    },
    "tags": []
   },
   "outputs": [],
   "source": [
    "# Lines below will give you a hint or solution code\n",
    "#step_4.a.hint()\n",
    "#step_4.a.solution_plot()"
   ]
  },
  {
   "cell_type": "markdown",
   "id": "47870ba9",
   "metadata": {
    "papermill": {
     "duration": 0.010975,
     "end_time": "2022-08-27T09:56:41.355984",
     "exception": false,
     "start_time": "2022-08-27T09:56:41.345009",
     "status": "completed"
    },
    "tags": []
   },
   "source": [
    "#### Part B\n",
    "\n",
    "According to the plot above, is there a **slight** correlation between `'winpercent'` and `'sugarpercent'`?  What does this tell you about the candy that people tend to prefer?"
   ]
  },
  {
   "cell_type": "code",
   "execution_count": 14,
   "id": "dab39ba1",
   "metadata": {
    "execution": {
     "iopub.execute_input": "2022-08-27T09:56:41.380065Z",
     "iopub.status.busy": "2022-08-27T09:56:41.379635Z",
     "iopub.status.idle": "2022-08-27T09:56:41.385062Z",
     "shell.execute_reply": "2022-08-27T09:56:41.383767Z"
    },
    "papermill": {
     "duration": 0.020437,
     "end_time": "2022-08-27T09:56:41.387637",
     "exception": false,
     "start_time": "2022-08-27T09:56:41.367200",
     "status": "completed"
    },
    "tags": []
   },
   "outputs": [],
   "source": [
    "#step_4.b.hint()"
   ]
  },
  {
   "cell_type": "code",
   "execution_count": 15,
   "id": "4a5424ee",
   "metadata": {
    "execution": {
     "iopub.execute_input": "2022-08-27T09:56:41.412322Z",
     "iopub.status.busy": "2022-08-27T09:56:41.411599Z",
     "iopub.status.idle": "2022-08-27T09:56:41.421105Z",
     "shell.execute_reply": "2022-08-27T09:56:41.419943Z"
    },
    "papermill": {
     "duration": 0.024267,
     "end_time": "2022-08-27T09:56:41.423328",
     "exception": false,
     "start_time": "2022-08-27T09:56:41.399061",
     "status": "completed"
    },
    "tags": []
   },
   "outputs": [
    {
     "data": {
      "application/javascript": [
       "parent.postMessage({\"jupyterEvent\": \"custom.exercise_interaction\", \"data\": {\"interactionType\": 3, \"questionType\": 4, \"questionId\": \"4.2_ThinkBlueReg\", \"learnToolsVersion\": \"0.3.4\", \"valueTowardsCompletion\": 0.0, \"failureMessage\": \"\", \"exceptionClass\": \"\", \"trace\": \"\", \"outcomeType\": 4}}, \"*\")"
      ],
      "text/plain": [
       "<IPython.core.display.Javascript object>"
      ]
     },
     "metadata": {},
     "output_type": "display_data"
    },
    {
     "data": {
      "text/markdown": [
       "<span style=\"color:#33cc99\">Solution:</span> Since the regression line has a slightly positive slope, this tells us that there is a slightly positive correlation between `'winpercent'` and `'sugarpercent'`. Thus, people have a slight preference for candies containing relatively more sugar."
      ],
      "text/plain": [
       "Solution: Since the regression line has a slightly positive slope, this tells us that there is a slightly positive correlation between `'winpercent'` and `'sugarpercent'`. Thus, people have a slight preference for candies containing relatively more sugar."
      ]
     },
     "metadata": {},
     "output_type": "display_data"
    }
   ],
   "source": [
    "# Check your answer (Run this code cell to receive credit!)\n",
    "step_4.b.solution()"
   ]
  },
  {
   "cell_type": "markdown",
   "id": "3a95820d",
   "metadata": {
    "papermill": {
     "duration": 0.011392,
     "end_time": "2022-08-27T09:56:41.446404",
     "exception": false,
     "start_time": "2022-08-27T09:56:41.435012",
     "status": "completed"
    },
    "tags": []
   },
   "source": [
    "## Step 5: Chocolate!\n",
    "\n",
    "In the code cell below, create a scatter plot to show the relationship between `'pricepercent'` (on the horizontal x-axis) and `'winpercent'` (on the vertical y-axis). Use the `'chocolate'` column to color-code the points.  _Don't add any regression lines just yet -- you'll do that in the next step!_"
   ]
  },
  {
   "cell_type": "code",
   "execution_count": 16,
   "id": "09637993",
   "metadata": {
    "execution": {
     "iopub.execute_input": "2022-08-27T09:56:41.471206Z",
     "iopub.status.busy": "2022-08-27T09:56:41.470828Z",
     "iopub.status.idle": "2022-08-27T09:56:41.776407Z",
     "shell.execute_reply": "2022-08-27T09:56:41.775530Z"
    },
    "papermill": {
     "duration": 0.320975,
     "end_time": "2022-08-27T09:56:41.778965",
     "exception": false,
     "start_time": "2022-08-27T09:56:41.457990",
     "status": "completed"
    },
    "tags": []
   },
   "outputs": [
    {
     "data": {
      "application/javascript": [
       "parent.postMessage({\"jupyterEvent\": \"custom.exercise_interaction\", \"data\": {\"outcomeType\": 1, \"valueTowardsCompletion\": 0.3333333333333333, \"interactionType\": 1, \"questionType\": 2, \"questionId\": \"5_ColorScatter\", \"learnToolsVersion\": \"0.3.4\", \"failureMessage\": \"\", \"exceptionClass\": \"\", \"trace\": \"\"}}, \"*\")"
      ],
      "text/plain": [
       "<IPython.core.display.Javascript object>"
      ]
     },
     "metadata": {},
     "output_type": "display_data"
    },
    {
     "data": {
      "text/markdown": [
       "<span style=\"color:#33cc33\">Correct</span>"
      ],
      "text/plain": [
       "Correct"
      ]
     },
     "metadata": {},
     "output_type": "display_data"
    },
    {
     "data": {
      "image/png": "[encoded data removed]",
      "text/plain": [
       "<Figure size 432x288 with 1 Axes>"
      ]
     },
     "metadata": {
      "needs_background": "light"
     },
     "output_type": "display_data"
    }
   ],
   "source": [
    "# Scatter plot showing the relationship between 'pricepercent', 'winpercent', and 'chocolate'\n",
    "sns.scatterplot(x = candy_data['pricepercent'], y= candy_data['winpercent'], hue= candy_data['chocolate']) # Your code here\n",
    "\n",
    "# Check your answer\n",
    "step_5.check()"
   ]
  },
  {
   "cell_type": "code",
   "execution_count": 17,
   "id": "412a0118",
   "metadata": {
    "execution": {
     "iopub.execute_input": "2022-08-27T09:56:41.807660Z",
     "iopub.status.busy": "2022-08-27T09:56:41.805463Z",
     "iopub.status.idle": "2022-08-27T09:56:41.810854Z",
     "shell.execute_reply": "2022-08-27T09:56:41.810102Z"
    },
    "papermill": {
     "duration": 0.021913,
     "end_time": "2022-08-27T09:56:41.813229",
     "exception": false,
     "start_time": "2022-08-27T09:56:41.791316",
     "status": "completed"
    },
    "tags": []
   },
   "outputs": [],
   "source": [
    "# Lines below will give you a hint or solution code\n",
    "#step_5.hint()\n",
    "#step_5.solution_plot()"
   ]
  },
  {
   "cell_type": "markdown",
   "id": "3e20139b",
   "metadata": {
    "papermill": {
     "duration": 0.011799,
     "end_time": "2022-08-27T09:56:41.837152",
     "exception": false,
     "start_time": "2022-08-27T09:56:41.825353",
     "status": "completed"
    },
    "tags": []
   },
   "source": [
    "Can you see any interesting patterns in the scatter plot?  We'll investigate this plot further  by adding regression lines in the next step!\n",
    "\n",
    "## Step 6: Investigate chocolate\n",
    "\n",
    "#### Part A\n",
    "\n",
    "Create the same scatter plot you created in **Step 5**, but now with two regression lines, corresponding to (1) chocolate candies and (2) candies without chocolate."
   ]
  },
  {
   "cell_type": "code",
   "execution_count": 18,
   "id": "1d99825f",
   "metadata": {
    "execution": {
     "iopub.execute_input": "2022-08-27T09:56:41.863415Z",
     "iopub.status.busy": "2022-08-27T09:56:41.862703Z",
     "iopub.status.idle": "2022-08-27T09:56:42.523948Z",
     "shell.execute_reply": "2022-08-27T09:56:42.522903Z"
    },
    "papermill": {
     "duration": 0.677273,
     "end_time": "2022-08-27T09:56:42.526559",
     "exception": false,
     "start_time": "2022-08-27T09:56:41.849286",
     "status": "completed"
    },
    "tags": []
   },
   "outputs": [
    {
     "data": {
      "application/javascript": [
       "parent.postMessage({\"jupyterEvent\": \"custom.exercise_interaction\", \"data\": {\"outcomeType\": 1, \"valueTowardsCompletion\": 0.3333333333333333, \"interactionType\": 1, \"questionType\": 2, \"questionId\": \"6.1_PlotColorReg\", \"learnToolsVersion\": \"0.3.4\", \"failureMessage\": \"\", \"exceptionClass\": \"\", \"trace\": \"\"}}, \"*\")"
      ],
      "text/plain": [
       "<IPython.core.display.Javascript object>"
      ]
     },
     "metadata": {},
     "output_type": "display_data"
    },
    {
     "data": {
      "text/markdown": [
       "<span style=\"color:#33cc33\">Correct</span>"
      ],
      "text/plain": [
       "Correct"
      ]
     },
     "metadata": {},
     "output_type": "display_data"
    },
    {
     "data": {
      "image/png": "[encoded data removed]",
      "text/plain": [
       "<Figure size 416.375x360 with 1 Axes>"
      ]
     },
     "metadata": {
      "needs_background": "light"
     },
     "output_type": "display_data"
    }
   ],
   "source": [
    "# Color-coded scatter plot w/ regression lines\n",
    "sns.lmplot(x ='pricepercent', y= 'winpercent', hue= 'chocolate', data= candy_data) # Your code here\n",
    "\n",
    "# Check your answer\n",
    "step_6.a.check()"
   ]
  },
  {
   "cell_type": "code",
   "execution_count": 19,
   "id": "4cd02c06",
   "metadata": {
    "execution": {
     "iopub.execute_input": "2022-08-27T09:56:42.553917Z",
     "iopub.status.busy": "2022-08-27T09:56:42.553494Z",
     "iopub.status.idle": "2022-08-27T09:56:42.558045Z",
     "shell.execute_reply": "2022-08-27T09:56:42.556821Z"
    },
    "papermill": {
     "duration": 0.020813,
     "end_time": "2022-08-27T09:56:42.560315",
     "exception": false,
     "start_time": "2022-08-27T09:56:42.539502",
     "status": "completed"
    },
    "tags": []
   },
   "outputs": [],
   "source": [
    "# Lines below will give you a hint or solution code\n",
    "#step_6.a.hint()\n",
    "#step_6.a.solution_plot()"
   ]
  },
  {
   "cell_type": "markdown",
   "id": "e78faeb7",
   "metadata": {
    "papermill": {
     "duration": 0.012184,
     "end_time": "2022-08-27T09:56:42.585283",
     "exception": false,
     "start_time": "2022-08-27T09:56:42.573099",
     "status": "completed"
    },
    "tags": []
   },
   "source": [
    "#### Part B\n",
    "\n",
    "Using the regression lines, what conclusions can you draw about the effects of chocolate and price on candy popularity?"
   ]
  },
  {
   "cell_type": "code",
   "execution_count": 20,
   "id": "f5cd384e",
   "metadata": {
    "execution": {
     "iopub.execute_input": "2022-08-27T09:56:42.611926Z",
     "iopub.status.busy": "2022-08-27T09:56:42.611488Z",
     "iopub.status.idle": "2022-08-27T09:56:42.621179Z",
     "shell.execute_reply": "2022-08-27T09:56:42.620024Z"
    },
    "papermill": {
     "duration": 0.025565,
     "end_time": "2022-08-27T09:56:42.623269",
     "exception": false,
     "start_time": "2022-08-27T09:56:42.597704",
     "status": "completed"
    },
    "tags": []
   },
   "outputs": [
    {
     "data": {
      "application/javascript": [
       "parent.postMessage({\"jupyterEvent\": \"custom.exercise_interaction\", \"data\": {\"interactionType\": 2, \"questionType\": 4, \"questionId\": \"6.2_ThinkColorReg\", \"learnToolsVersion\": \"0.3.4\", \"valueTowardsCompletion\": 0.0, \"failureMessage\": \"\", \"exceptionClass\": \"\", \"trace\": \"\", \"outcomeType\": 4}}, \"*\")"
      ],
      "text/plain": [
       "<IPython.core.display.Javascript object>"
      ]
     },
     "metadata": {},
     "output_type": "display_data"
    },
    {
     "data": {
      "text/markdown": [
       "<span style=\"color:#3366cc\">Hint:</span> Look at each regression line - do you notice a positive or negative slope?"
      ],
      "text/plain": [
       "Hint: Look at each regression line - do you notice a positive or negative slope?"
      ]
     },
     "metadata": {},
     "output_type": "display_data"
    }
   ],
   "source": [
    "step_6.b.hint()"
   ]
  },
  {
   "cell_type": "code",
   "execution_count": 21,
   "id": "6a204621",
   "metadata": {
    "execution": {
     "iopub.execute_input": "2022-08-27T09:56:42.651330Z",
     "iopub.status.busy": "2022-08-27T09:56:42.650879Z",
     "iopub.status.idle": "2022-08-27T09:56:42.659758Z",
     "shell.execute_reply": "2022-08-27T09:56:42.658701Z"
    },
    "papermill": {
     "duration": 0.025513,
     "end_time": "2022-08-27T09:56:42.661720",
     "exception": false,
     "start_time": "2022-08-27T09:56:42.636207",
     "status": "completed"
    },
    "tags": []
   },
   "outputs": [
    {
     "data": {
      "application/javascript": [
       "parent.postMessage({\"jupyterEvent\": \"custom.exercise_interaction\", \"data\": {\"interactionType\": 3, \"questionType\": 4, \"questionId\": \"6.2_ThinkColorReg\", \"learnToolsVersion\": \"0.3.4\", \"valueTowardsCompletion\": 0.0, \"failureMessage\": \"\", \"exceptionClass\": \"\", \"trace\": \"\", \"outcomeType\": 4}}, \"*\")"
      ],
      "text/plain": [
       "<IPython.core.display.Javascript object>"
      ]
     },
     "metadata": {},
     "output_type": "display_data"
    },
    {
     "data": {
      "text/markdown": [
       "<span style=\"color:#33cc99\">Solution:</span> We'll begin with the regression line for chocolate candies. Since this line has a slightly positive slope, we can say that more expensive chocolate candies tend to be more popular (than relatively cheaper chocolate candies).  Likewise, since the regression line for candies without chocolate has a negative slope, we can say that if candies don't contain chocolate, they tend to be more popular when they are cheaper.  One important note, however, is that the dataset is quite small -- so we shouldn't invest too much trust in these patterns!  To inspire more confidence in the results, we should add more candies to the dataset."
      ],
      "text/plain": [
       "Solution: We'll begin with the regression line for chocolate candies. Since this line has a slightly positive slope, we can say that more expensive chocolate candies tend to be more popular (than relatively cheaper chocolate candies).  Likewise, since the regression line for candies without chocolate has a negative slope, we can say that if candies don't contain chocolate, they tend to be more popular when they are cheaper.  One important note, however, is that the dataset is quite small -- so we shouldn't invest too much trust in these patterns!  To inspire more confidence in the results, we should add more candies to the dataset."
      ]
     },
     "metadata": {},
     "output_type": "display_data"
    }
   ],
   "source": [
    "# Check your answer (Run this code cell to receive credit!)\n",
    "step_6.b.solution()"
   ]
  },
  {
   "cell_type": "markdown",
   "id": "653b0f61",
   "metadata": {
    "papermill": {
     "duration": 0.012661,
     "end_time": "2022-08-27T09:56:42.687490",
     "exception": false,
     "start_time": "2022-08-27T09:56:42.674829",
     "status": "completed"
    },
    "tags": []
   },
   "source": [
    "## Step 7: Everybody loves chocolate.\n",
    "\n",
    "#### Part A\n",
    "\n",
    "Create a categorical scatter plot to highlight the relationship between `'chocolate'` and `'winpercent'`.  Put `'chocolate'` on the (horizontal) x-axis, and `'winpercent'` on the (vertical) y-axis."
   ]
  },
  {
   "cell_type": "code",
   "execution_count": 22,
   "id": "14ee1cb2",
   "metadata": {
    "execution": {
     "iopub.execute_input": "2022-08-27T09:56:42.715363Z",
     "iopub.status.busy": "2022-08-27T09:56:42.714967Z",
     "iopub.status.idle": "2022-08-27T09:56:42.944721Z",
     "shell.execute_reply": "2022-08-27T09:56:42.943655Z"
    },
    "papermill": {
     "duration": 0.24663,
     "end_time": "2022-08-27T09:56:42.947059",
     "exception": false,
     "start_time": "2022-08-27T09:56:42.700429",
     "status": "completed"
    },
    "tags": []
   },
   "outputs": [
    {
     "data": {
      "application/javascript": [
       "parent.postMessage({\"jupyterEvent\": \"custom.exercise_interaction\", \"data\": {\"outcomeType\": 1, \"valueTowardsCompletion\": 0.3333333333333333, \"interactionType\": 1, \"questionType\": 2, \"questionId\": \"7.1_PlotSwarm\", \"learnToolsVersion\": \"0.3.4\", \"failureMessage\": \"\", \"exceptionClass\": \"\", \"trace\": \"\"}}, \"*\")"
      ],
      "text/plain": [
       "<IPython.core.display.Javascript object>"
      ]
     },
     "metadata": {},
     "output_type": "display_data"
    },
    {
     "data": {
      "text/markdown": [
       "<span style=\"color:#33cc33\">Correct</span>"
      ],
      "text/plain": [
       "Correct"
      ]
     },
     "metadata": {},
     "output_type": "display_data"
    },
    {
     "data": {
      "image/png": "[encoded data removed]",
      "text/plain": [
       "<Figure size 432x288 with 1 Axes>"
      ]
     },
     "metadata": {
      "needs_background": "light"
     },
     "output_type": "display_data"
    }
   ],
   "source": [
    "# Scatter plot showing the relationship between 'chocolate' and 'winpercent'\n",
    "sns.swarmplot(x= candy_data['chocolate'], y= candy_data['winpercent']) # Your code here\n",
    "\n",
    "# Check your answer\n",
    "step_7.a.check()"
   ]
  },
  {
   "cell_type": "code",
   "execution_count": 23,
   "id": "aad25cf1",
   "metadata": {
    "execution": {
     "iopub.execute_input": "2022-08-27T09:56:42.977079Z",
     "iopub.status.busy": "2022-08-27T09:56:42.975892Z",
     "iopub.status.idle": "2022-08-27T09:56:42.980803Z",
     "shell.execute_reply": "2022-08-27T09:56:42.979697Z"
    },
    "papermill": {
     "duration": 0.022678,
     "end_time": "2022-08-27T09:56:42.983279",
     "exception": false,
     "start_time": "2022-08-27T09:56:42.960601",
     "status": "completed"
    },
    "tags": []
   },
   "outputs": [],
   "source": [
    "# Lines below will give you a hint or solution code\n",
    "#step_7.a.hint()\n",
    "#step_7.a.solution_plot()"
   ]
  },
  {
   "cell_type": "markdown",
   "id": "b9965631",
   "metadata": {
    "papermill": {
     "duration": 0.013238,
     "end_time": "2022-08-27T09:56:43.010247",
     "exception": false,
     "start_time": "2022-08-27T09:56:42.997009",
     "status": "completed"
    },
    "tags": []
   },
   "source": [
    "#### Part B\n",
    "\n",
    "You decide to dedicate a section of your report to the fact that chocolate candies tend to be more popular than candies without chocolate.  Which plot is more appropriate to tell this story: the plot from **Step 6**, or the plot from **Step 7**?"
   ]
  },
  {
   "cell_type": "code",
   "execution_count": 24,
   "id": "3281e0cc",
   "metadata": {
    "execution": {
     "iopub.execute_input": "2022-08-27T09:56:43.039292Z",
     "iopub.status.busy": "2022-08-27T09:56:43.038875Z",
     "iopub.status.idle": "2022-08-27T09:56:43.047827Z",
     "shell.execute_reply": "2022-08-27T09:56:43.046681Z"
    },
    "papermill": {
     "duration": 0.026242,
     "end_time": "2022-08-27T09:56:43.050081",
     "exception": false,
     "start_time": "2022-08-27T09:56:43.023839",
     "status": "completed"
    },
    "tags": []
   },
   "outputs": [
    {
     "data": {
      "application/javascript": [
       "parent.postMessage({\"jupyterEvent\": \"custom.exercise_interaction\", \"data\": {\"interactionType\": 2, \"questionType\": 4, \"questionId\": \"7.2_ThinkSwarm\", \"learnToolsVersion\": \"0.3.4\", \"valueTowardsCompletion\": 0.0, \"failureMessage\": \"\", \"exceptionClass\": \"\", \"trace\": \"\", \"outcomeType\": 4}}, \"*\")"
      ],
      "text/plain": [
       "<IPython.core.display.Javascript object>"
      ]
     },
     "metadata": {},
     "output_type": "display_data"
    },
    {
     "data": {
      "text/markdown": [
       "<span style=\"color:#3366cc\">Hint:</span> Which plot communicates more information?  In general, it's good practice to use the simplest plot that tells the entire story of interest."
      ],
      "text/plain": [
       "Hint: Which plot communicates more information?  In general, it's good practice to use the simplest plot that tells the entire story of interest."
      ]
     },
     "metadata": {},
     "output_type": "display_data"
    }
   ],
   "source": [
    "step_7.b.hint()"
   ]
  },
  {
   "cell_type": "code",
   "execution_count": 25,
   "id": "f7c8f5bc",
   "metadata": {
    "execution": {
     "iopub.execute_input": "2022-08-27T09:56:43.080726Z",
     "iopub.status.busy": "2022-08-27T09:56:43.079490Z",
     "iopub.status.idle": "2022-08-27T09:56:43.088848Z",
     "shell.execute_reply": "2022-08-27T09:56:43.088073Z"
    },
    "papermill": {
     "duration": 0.026968,
     "end_time": "2022-08-27T09:56:43.090943",
     "exception": false,
     "start_time": "2022-08-27T09:56:43.063975",
     "status": "completed"
    },
    "tags": []
   },
   "outputs": [
    {
     "data": {
      "application/javascript": [
       "parent.postMessage({\"jupyterEvent\": \"custom.exercise_interaction\", \"data\": {\"interactionType\": 3, \"questionType\": 4, \"questionId\": \"7.2_ThinkSwarm\", \"learnToolsVersion\": \"0.3.4\", \"valueTowardsCompletion\": 0.0, \"failureMessage\": \"\", \"exceptionClass\": \"\", \"trace\": \"\", \"outcomeType\": 4}}, \"*\")"
      ],
      "text/plain": [
       "<IPython.core.display.Javascript object>"
      ]
     },
     "metadata": {},
     "output_type": "display_data"
    },
    {
     "data": {
      "text/markdown": [
       "<span style=\"color:#33cc99\">Solution:</span> In this case, the categorical scatter plot from **Step 7** is the more appropriate plot. While both plots tell the desired story, the plot from **Step 6** conveys far more information that could distract from the main point."
      ],
      "text/plain": [
       "Solution: In this case, the categorical scatter plot from **Step 7** is the more appropriate plot. While both plots tell the desired story, the plot from **Step 6** conveys far more information that could distract from the main point."
      ]
     },
     "metadata": {},
     "output_type": "display_data"
    }
   ],
   "source": [
    "# Check your answer (Run this code cell to receive credit!)\n",
    "step_7.b.solution()"
   ]
  },
  {
   "cell_type": "markdown",
   "id": "9ae8dad7",
   "metadata": {
    "papermill": {
     "duration": 0.013876,
     "end_time": "2022-08-27T09:56:43.119262",
     "exception": false,
     "start_time": "2022-08-27T09:56:43.105386",
     "status": "completed"
    },
    "tags": []
   },
   "source": [
    "## Keep going\n",
    "\n",
    "Explore **[histograms and density plots](https://www.kaggle.com/alexisbcook/distributions)**."
   ]
  },
  {
   "cell_type": "markdown",
   "id": "c7dbdd76",
   "metadata": {
    "papermill": {
     "duration": 0.013666,
     "end_time": "2022-08-27T09:56:43.147599",
     "exception": false,
     "start_time": "2022-08-27T09:56:43.133933",
     "status": "completed"
    },
    "tags": []
   },
   "source": [
    "---\n",
    "\n",
    "\n",
    "\n",
    "\n",
    "*Have questions or comments? Visit the [course discussion forum](https://www.kaggle.com/learn/data-visualization/discussion) to chat with other learners.*"
   ]
  }
 ],
 "metadata": {
  "kernelspec": {
   "display_name": "Python 3",
   "language": "python",
   "name": "python3"
  },
  "language_info": {
   "codemirror_mode": {
    "name": "ipython",
    "version": 3
   },
   "file_extension": ".py",
   "mimetype": "text/x-python",
   "name": "python",
   "nbconvert_exporter": "python",
   "pygments_lexer": "ipython3",
   "version": "3.7.12"
  },
  "papermill": {
   "default_parameters": {},
   "duration": 14.417342,
   "end_time": "2022-08-27T09:56:43.883289",
   "environment_variables": {},
   "exception": null,
   "input_path": "__notebook__.ipynb",
   "output_path": "__notebook__.ipynb",
   "parameters": {},
   "start_time": "2022-08-27T09:56:29.465947",
   "version": "2.3.4"
  }
 },
 "nbformat": 4,
 "nbformat_minor": 5
}
