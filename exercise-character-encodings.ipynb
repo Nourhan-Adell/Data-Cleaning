{
 "cells": [
  {
   "cell_type": "markdown",
   "id": "d6745628",
   "metadata": {
    "papermill": {
     "duration": 0.00594,
     "end_time": "2022-08-26T14:28:40.610192",
     "exception": false,
     "start_time": "2022-08-26T14:28:40.604252",
     "status": "completed"
    },
    "tags": []
   },
   "source": [
    "**This notebook is an exercise in the [Data Cleaning](https://www.kaggle.com/learn/data-cleaning) course.  You can reference the tutorial at [this link](https://www.kaggle.com/alexisbcook/character-encodings).**\n",
    "\n",
    "---\n"
   ]
  },
  {
   "cell_type": "markdown",
   "id": "7cc3ade0",
   "metadata": {
    "papermill": {
     "duration": 0.004349,
     "end_time": "2022-08-26T14:28:40.619534",
     "exception": false,
     "start_time": "2022-08-26T14:28:40.615185",
     "status": "completed"
    },
    "tags": []
   },
   "source": [
    "In this exercise, you'll apply what you learned in the **Character encodings** tutorial.\n",
    "\n",
    "# Setup\n",
    "\n",
    "The questions below will give you feedback on your work. Run the following cell to set up the feedback system."
   ]
  },
  {
   "cell_type": "code",
   "execution_count": 1,
   "id": "acf753b0",
   "metadata": {
    "execution": {
     "iopub.execute_input": "2022-08-26T14:28:40.631096Z",
     "iopub.status.busy": "2022-08-26T14:28:40.630512Z",
     "iopub.status.idle": "2022-08-26T14:28:40.717621Z",
     "shell.execute_reply": "2022-08-26T14:28:40.716407Z"
    },
    "papermill": {
     "duration": 0.097071,
     "end_time": "2022-08-26T14:28:40.721167",
     "exception": false,
     "start_time": "2022-08-26T14:28:40.624096",
     "status": "completed"
    },
    "tags": []
   },
   "outputs": [
    {
     "name": "stdout",
     "output_type": "stream",
     "text": [
      "Setup Complete\n"
     ]
    }
   ],
   "source": [
    "from learntools.core import binder\n",
    "binder.bind(globals())\n",
    "from learntools.data_cleaning.ex4 import *\n",
    "print(\"Setup Complete\")"
   ]
  },
  {
   "cell_type": "markdown",
   "id": "ba662eb7",
   "metadata": {
    "papermill": {
     "duration": 0.004635,
     "end_time": "2022-08-26T14:28:40.731247",
     "exception": false,
     "start_time": "2022-08-26T14:28:40.726612",
     "status": "completed"
    },
    "tags": []
   },
   "source": [
    "# Get our environment set up\n",
    "\n",
    "The first thing we'll need to do is load in the libraries we'll be using."
   ]
  },
  {
   "cell_type": "code",
   "execution_count": 2,
   "id": "248c605b",
   "metadata": {
    "execution": {
     "iopub.execute_input": "2022-08-26T14:28:40.744808Z",
     "iopub.status.busy": "2022-08-26T14:28:40.743389Z",
     "iopub.status.idle": "2022-08-26T14:28:40.749486Z",
     "shell.execute_reply": "2022-08-26T14:28:40.748638Z"
    },
    "papermill": {
     "duration": 0.014953,
     "end_time": "2022-08-26T14:28:40.751616",
     "exception": false,
     "start_time": "2022-08-26T14:28:40.736663",
     "status": "completed"
    },
    "tags": []
   },
   "outputs": [],
   "source": [
    "# modules we'll use\n",
    "import pandas as pd\n",
    "import numpy as np\n",
    "\n",
    "# helpful character encoding module\n",
    "import chardet\n",
    "\n",
    "# set seed for reproducibility\n",
    "np.random.seed(0)"
   ]
  },
  {
   "cell_type": "markdown",
   "id": "036b563b",
   "metadata": {
    "papermill": {
     "duration": 0.004786,
     "end_time": "2022-08-26T14:28:40.761501",
     "exception": false,
     "start_time": "2022-08-26T14:28:40.756715",
     "status": "completed"
    },
    "tags": []
   },
   "source": [
    "# 1) What are encodings?\n",
    "\n",
    "You're working with a dataset composed of bytes.  Run the code cell below to print a sample entry."
   ]
  },
  {
   "cell_type": "code",
   "execution_count": 3,
   "id": "17664ce0",
   "metadata": {
    "execution": {
     "iopub.execute_input": "2022-08-26T14:28:40.773670Z",
     "iopub.status.busy": "2022-08-26T14:28:40.772940Z",
     "iopub.status.idle": "2022-08-26T14:28:40.778682Z",
     "shell.execute_reply": "2022-08-26T14:28:40.777308Z"
    },
    "papermill": {
     "duration": 0.014632,
     "end_time": "2022-08-26T14:28:40.781121",
     "exception": false,
     "start_time": "2022-08-26T14:28:40.766489",
     "status": "completed"
    },
    "tags": []
   },
   "outputs": [
    {
     "name": "stdout",
     "output_type": "stream",
     "text": [
      "b'\\xa7A\\xa6n'\n",
      "data type: <class 'bytes'>\n"
     ]
    }
   ],
   "source": [
    "sample_entry = b'\\xa7A\\xa6n'\n",
    "print(sample_entry)\n",
    "print('data type:', type(sample_entry))"
   ]
  },
  {
   "cell_type": "markdown",
   "id": "34f686c1",
   "metadata": {
    "papermill": {
     "duration": 0.005465,
     "end_time": "2022-08-26T14:28:40.792410",
     "exception": false,
     "start_time": "2022-08-26T14:28:40.786945",
     "status": "completed"
    },
    "tags": []
   },
   "source": [
    "You notice that it doesn't use the standard UTF-8 encoding. \n",
    "\n",
    "Use the next code cell to create a variable `new_entry` that changes the encoding from `\"big5-tw\"` to `\"utf-8\"`.  `new_entry` should have the bytes datatype."
   ]
  },
  {
   "cell_type": "code",
   "execution_count": 4,
   "id": "76f615ae",
   "metadata": {
    "execution": {
     "iopub.execute_input": "2022-08-26T14:28:40.806054Z",
     "iopub.status.busy": "2022-08-26T14:28:40.805386Z",
     "iopub.status.idle": "2022-08-26T14:28:40.821614Z",
     "shell.execute_reply": "2022-08-26T14:28:40.820143Z"
    },
    "papermill": {
     "duration": 0.025819,
     "end_time": "2022-08-26T14:28:40.824390",
     "exception": false,
     "start_time": "2022-08-26T14:28:40.798571",
     "status": "completed"
    },
    "tags": []
   },
   "outputs": [
    {
     "data": {
      "application/javascript": [
       "parent.postMessage({\"jupyterEvent\": \"custom.exercise_interaction\", \"data\": {\"outcomeType\": 1, \"valueTowardsCompletion\": 0.3333333333333333, \"interactionType\": 1, \"questionType\": 1, \"questionId\": \"1_EncodingsIntro\", \"learnToolsVersion\": \"0.3.4\", \"failureMessage\": \"\", \"exceptionClass\": \"\", \"trace\": \"\"}}, \"*\")"
      ],
      "text/plain": [
       "<IPython.core.display.Javascript object>"
      ]
     },
     "metadata": {},
     "output_type": "display_data"
    },
    {
     "data": {
      "text/markdown": [
       "<span style=\"color:#33cc33\">Correct</span>"
      ],
      "text/plain": [
       "Correct"
      ]
     },
     "metadata": {},
     "output_type": "display_data"
    }
   ],
   "source": [
    "before = sample_entry.decode('big5-tw')\n",
    "new_entry= before.encode()\n",
    "# Check your answer\n",
    "q1.check()"
   ]
  },
  {
   "cell_type": "code",
   "execution_count": 5,
   "id": "39effbbb",
   "metadata": {
    "execution": {
     "iopub.execute_input": "2022-08-26T14:28:40.838241Z",
     "iopub.status.busy": "2022-08-26T14:28:40.837535Z",
     "iopub.status.idle": "2022-08-26T14:28:40.853546Z",
     "shell.execute_reply": "2022-08-26T14:28:40.852542Z"
    },
    "papermill": {
     "duration": 0.025819,
     "end_time": "2022-08-26T14:28:40.856482",
     "exception": false,
     "start_time": "2022-08-26T14:28:40.830663",
     "status": "completed"
    },
    "tags": []
   },
   "outputs": [
    {
     "data": {
      "application/javascript": [
       "parent.postMessage({\"jupyterEvent\": \"custom.exercise_interaction\", \"data\": {\"interactionType\": 2, \"questionType\": 1, \"questionId\": \"1_EncodingsIntro\", \"learnToolsVersion\": \"0.3.4\", \"valueTowardsCompletion\": 0.0, \"failureMessage\": \"\", \"exceptionClass\": \"\", \"trace\": \"\", \"outcomeType\": 4}}, \"*\")"
      ],
      "text/plain": [
       "<IPython.core.display.Javascript object>"
      ]
     },
     "metadata": {},
     "output_type": "display_data"
    },
    {
     "data": {
      "text/markdown": [
       "<span style=\"color:#3366cc\">Hint:</span> Try using `.decode()` to get the string, then `.encode()` to get the bytes representation, encoded in UTF-8."
      ],
      "text/plain": [
       "Hint: Try using `.decode()` to get the string, then `.encode()` to get the bytes representation, encoded in UTF-8."
      ]
     },
     "metadata": {},
     "output_type": "display_data"
    },
    {
     "data": {
      "application/javascript": [
       "parent.postMessage({\"jupyterEvent\": \"custom.exercise_interaction\", \"data\": {\"interactionType\": 3, \"questionType\": 1, \"questionId\": \"1_EncodingsIntro\", \"learnToolsVersion\": \"0.3.4\", \"valueTowardsCompletion\": 0.0, \"failureMessage\": \"\", \"exceptionClass\": \"\", \"trace\": \"\", \"outcomeType\": 4}}, \"*\")"
      ],
      "text/plain": [
       "<IPython.core.display.Javascript object>"
      ]
     },
     "metadata": {},
     "output_type": "display_data"
    },
    {
     "data": {
      "text/markdown": [
       "<span style=\"color:#33cc99\">Solution:</span> \n",
       "```python\n",
       "before = sample_entry.decode(\"big5-tw\")\n",
       "new_entry = before.encode()\n",
       "\n",
       "```"
      ],
      "text/plain": [
       "Solution: \n",
       "```python\n",
       "before = sample_entry.decode(\"big5-tw\")\n",
       "new_entry = before.encode()\n",
       "\n",
       "```"
      ]
     },
     "metadata": {},
     "output_type": "display_data"
    }
   ],
   "source": [
    "# Lines below will give you a hint or solution code\n",
    "q1.hint()\n",
    "q1.solution()"
   ]
  },
  {
   "cell_type": "markdown",
   "id": "fbc7b873",
   "metadata": {
    "papermill": {
     "duration": 0.005323,
     "end_time": "2022-08-26T14:28:40.869004",
     "exception": false,
     "start_time": "2022-08-26T14:28:40.863681",
     "status": "completed"
    },
    "tags": []
   },
   "source": [
    "# 2) Reading in files with encoding problems\n",
    "\n",
    "Use the code cell below to read in this file at path `\"../input/fatal-police-shootings-in-the-us/PoliceKillingsUS.csv\"`.  \n",
    "\n",
    "Figure out what the correct encoding should be and read in the file to a DataFrame `police_killings`."
   ]
  },
  {
   "cell_type": "code",
   "execution_count": 6,
   "id": "4b1b00e2",
   "metadata": {
    "execution": {
     "iopub.execute_input": "2022-08-26T14:28:40.882587Z",
     "iopub.status.busy": "2022-08-26T14:28:40.881575Z",
     "iopub.status.idle": "2022-08-26T14:28:40.911196Z",
     "shell.execute_reply": "2022-08-26T14:28:40.910240Z"
    },
    "papermill": {
     "duration": 0.038813,
     "end_time": "2022-08-26T14:28:40.913463",
     "exception": false,
     "start_time": "2022-08-26T14:28:40.874650",
     "status": "completed"
    },
    "tags": []
   },
   "outputs": [
    {
     "data": {
      "application/javascript": [
       "parent.postMessage({\"jupyterEvent\": \"custom.exercise_interaction\", \"data\": {\"outcomeType\": 1, \"valueTowardsCompletion\": 0.3333333333333333, \"interactionType\": 1, \"questionType\": 1, \"questionId\": \"2_ReadIn\", \"learnToolsVersion\": \"0.3.4\", \"failureMessage\": \"\", \"exceptionClass\": \"\", \"trace\": \"\"}}, \"*\")"
      ],
      "text/plain": [
       "<IPython.core.display.Javascript object>"
      ]
     },
     "metadata": {},
     "output_type": "display_data"
    },
    {
     "data": {
      "text/markdown": [
       "<span style=\"color:#33cc33\">Correct</span>"
      ],
      "text/plain": [
       "Correct"
      ]
     },
     "metadata": {},
     "output_type": "display_data"
    }
   ],
   "source": [
    "# TODO: Load in the DataFrame correctly.\n",
    "police_killings = pd.read_csv(\"../input/fatal-police-shootings-in-the-us/PoliceKillingsUS.csv\"\n",
    "                            , encoding= 'Windows-1252')\n",
    "\n",
    "# Check your answer\n",
    "q2.check()"
   ]
  },
  {
   "cell_type": "markdown",
   "id": "969848f7",
   "metadata": {
    "papermill": {
     "duration": 0.005461,
     "end_time": "2022-08-26T14:28:40.924794",
     "exception": false,
     "start_time": "2022-08-26T14:28:40.919333",
     "status": "completed"
    },
    "tags": []
   },
   "source": [
    "Feel free to use any additional code cells for supplemental work.  To get credit for finishing this question, you'll need to run `q2.check()` and get a result of **Correct**."
   ]
  },
  {
   "cell_type": "code",
   "execution_count": 7,
   "id": "c9e18e2a",
   "metadata": {
    "execution": {
     "iopub.execute_input": "2022-08-26T14:28:40.939116Z",
     "iopub.status.busy": "2022-08-26T14:28:40.938126Z",
     "iopub.status.idle": "2022-08-26T14:28:40.955115Z",
     "shell.execute_reply": "2022-08-26T14:28:40.953961Z"
    },
    "papermill": {
     "duration": 0.02772,
     "end_time": "2022-08-26T14:28:40.958257",
     "exception": false,
     "start_time": "2022-08-26T14:28:40.930537",
     "status": "completed"
    },
    "tags": []
   },
   "outputs": [
    {
     "name": "stdout",
     "output_type": "stream",
     "text": [
      "{'encoding': 'ascii', 'confidence': 1.0, 'language': ''}\n"
     ]
    }
   ],
   "source": [
    "# (Optional) Use this code cell for any additional work.\n",
    "with open(\"../input/fatal-police-shootings-in-the-us/PoliceKillingsUS.csv\", 'rb') as rawdata:\n",
    "    result = chardet.detect(rawdata.read(10000))\n",
    "print(result)"
   ]
  },
  {
   "cell_type": "code",
   "execution_count": 8,
   "id": "2896e213",
   "metadata": {
    "execution": {
     "iopub.execute_input": "2022-08-26T14:28:40.973616Z",
     "iopub.status.busy": "2022-08-26T14:28:40.972247Z",
     "iopub.status.idle": "2022-08-26T14:28:40.978652Z",
     "shell.execute_reply": "2022-08-26T14:28:40.977752Z"
    },
    "papermill": {
     "duration": 0.015921,
     "end_time": "2022-08-26T14:28:40.981037",
     "exception": false,
     "start_time": "2022-08-26T14:28:40.965116",
     "status": "completed"
    },
    "tags": []
   },
   "outputs": [],
   "source": [
    "# Lines below will give you a hint or solution code\n",
    "#q2.hint()\n",
    "#q2.solution()"
   ]
  },
  {
   "cell_type": "markdown",
   "id": "ca767a4f",
   "metadata": {
    "papermill": {
     "duration": 0.006586,
     "end_time": "2022-08-26T14:28:40.994669",
     "exception": false,
     "start_time": "2022-08-26T14:28:40.988083",
     "status": "completed"
    },
    "tags": []
   },
   "source": [
    "# 3) Saving your files with UTF-8 encoding\n",
    "\n",
    "Save a version of the police killings dataset to CSV with UTF-8 encoding.  Your answer will be marked correct after saving this file.  \n",
    "\n",
    "Note: When using the `to_csv()` method, supply only the name of the file (e.g., `\"my_file.csv\"`).  This saves the file at the filepath `\"/kaggle/working/my_file.csv\"`."
   ]
  },
  {
   "cell_type": "code",
   "execution_count": 9,
   "id": "e36df221",
   "metadata": {
    "execution": {
     "iopub.execute_input": "2022-08-26T14:28:41.011333Z",
     "iopub.status.busy": "2022-08-26T14:28:41.010621Z",
     "iopub.status.idle": "2022-08-26T14:28:41.047306Z",
     "shell.execute_reply": "2022-08-26T14:28:41.046362Z"
    },
    "papermill": {
     "duration": 0.047783,
     "end_time": "2022-08-26T14:28:41.049794",
     "exception": false,
     "start_time": "2022-08-26T14:28:41.002011",
     "status": "completed"
    },
    "tags": []
   },
   "outputs": [
    {
     "data": {
      "application/javascript": [
       "parent.postMessage({\"jupyterEvent\": \"custom.exercise_interaction\", \"data\": {\"outcomeType\": 1, \"valueTowardsCompletion\": 0.3333333333333333, \"interactionType\": 1, \"questionType\": 2, \"questionId\": \"3_SaveCSV\", \"learnToolsVersion\": \"0.3.4\", \"failureMessage\": \"\", \"exceptionClass\": \"\", \"trace\": \"\"}}, \"*\")"
      ],
      "text/plain": [
       "<IPython.core.display.Javascript object>"
      ]
     },
     "metadata": {},
     "output_type": "display_data"
    },
    {
     "data": {
      "text/markdown": [
       "<span style=\"color:#33cc33\">Correct</span>"
      ],
      "text/plain": [
       "Correct"
      ]
     },
     "metadata": {},
     "output_type": "display_data"
    }
   ],
   "source": [
    "# TODO: Save the police killings dataset to CSV\n",
    "police_killings.to_csv('/kaggle/working/my_file-utf8.csv')\n",
    "\n",
    "# Check your answer\n",
    "q3.check()"
   ]
  },
  {
   "cell_type": "code",
   "execution_count": 10,
   "id": "67ebffba",
   "metadata": {
    "execution": {
     "iopub.execute_input": "2022-08-26T14:28:41.067710Z",
     "iopub.status.busy": "2022-08-26T14:28:41.067049Z",
     "iopub.status.idle": "2022-08-26T14:28:41.071655Z",
     "shell.execute_reply": "2022-08-26T14:28:41.070555Z"
    },
    "papermill": {
     "duration": 0.015459,
     "end_time": "2022-08-26T14:28:41.074087",
     "exception": false,
     "start_time": "2022-08-26T14:28:41.058628",
     "status": "completed"
    },
    "tags": []
   },
   "outputs": [],
   "source": [
    "# Lines below will give you a hint or solution code\n",
    "#q3.hint()\n",
    "#q3.solution()"
   ]
  },
  {
   "cell_type": "markdown",
   "id": "8ad4431c",
   "metadata": {
    "papermill": {
     "duration": 0.005865,
     "end_time": "2022-08-26T14:28:41.086165",
     "exception": false,
     "start_time": "2022-08-26T14:28:41.080300",
     "status": "completed"
    },
    "tags": []
   },
   "source": [
    "# (Optional) More practice\n",
    "\n",
    "Check out [this dataset of files in different character encodings](https://www.kaggle.com/rtatman/character-encoding-examples). Can you read in all the files with their original encodings and them save them out as UTF-8 files?\n",
    "\n",
    "If you have a file that's in UTF-8 but has just a couple of weird-looking characters in it, you can try out the [ftfy module](https://ftfy.readthedocs.io/en/latest/#) and see if it helps. \n",
    "\n",
    "# Keep going\n",
    "\n",
    "In the final lesson, learn how to [**clean up inconsistent text entries**](https://www.kaggle.com/alexisbcook/inconsistent-data-entry) in your dataset."
   ]
  },
  {
   "cell_type": "markdown",
   "id": "a127b992",
   "metadata": {
    "papermill": {
     "duration": 0.005936,
     "end_time": "2022-08-26T14:28:41.098472",
     "exception": false,
     "start_time": "2022-08-26T14:28:41.092536",
     "status": "completed"
    },
    "tags": []
   },
   "source": [
    "---\n",
    "\n",
    "\n",
    "\n",
    "\n",
    "*Have questions or comments? Visit the [course discussion forum](https://www.kaggle.com/learn/data-cleaning/discussion) to chat with other learners.*"
   ]
  }
 ],
 "metadata": {
  "kernelspec": {
   "display_name": "Python 3",
   "language": "python",
   "name": "python3"
  },
  "language_info": {
   "codemirror_mode": {
    "name": "ipython",
    "version": 3
   },
   "file_extension": ".py",
   "mimetype": "text/x-python",
   "name": "python",
   "nbconvert_exporter": "python",
   "pygments_lexer": "ipython3",
   "version": "3.7.12"
  },
  "papermill": {
   "default_parameters": {},
   "duration": 9.890804,
   "end_time": "2022-08-26T14:28:41.725232",
   "environment_variables": {},
   "exception": null,
   "input_path": "__notebook__.ipynb",
   "output_path": "__notebook__.ipynb",
   "parameters": {},
   "start_time": "2022-08-26T14:28:31.834428",
   "version": "2.3.4"
  }
 },
 "nbformat": 4,
 "nbformat_minor": 5
}
