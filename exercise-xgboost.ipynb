{
 "cells": [
  {
   "cell_type": "markdown",
   "id": "414a6398",
   "metadata": {
    "papermill": {
     "duration": 0.009555,
     "end_time": "2022-08-29T18:45:47.421174",
     "exception": false,
     "start_time": "2022-08-29T18:45:47.411619",
     "status": "completed"
    },
    "tags": []
   },
   "source": [
    "**This notebook is an exercise in the [Intermediate Machine Learning](https://www.kaggle.com/learn/intermediate-machine-learning) course.  You can reference the tutorial at [this link](https://www.kaggle.com/alexisbcook/xgboost).**\n",
    "\n",
    "---\n"
   ]
  },
  {
   "cell_type": "markdown",
   "id": "5fb8b105",
   "metadata": {
    "papermill": {
     "duration": 0.0055,
     "end_time": "2022-08-29T18:45:47.435308",
     "exception": false,
     "start_time": "2022-08-29T18:45:47.429808",
     "status": "completed"
    },
    "tags": []
   },
   "source": [
    "In this exercise, you will use your new knowledge to train a model with **gradient boosting**.\n",
    "\n",
    "# Setup\n",
    "\n",
    "The questions below will give you feedback on your work. Run the following cell to set up the feedback system."
   ]
  },
  {
   "cell_type": "code",
   "execution_count": 1,
   "id": "6bd871a6",
   "metadata": {
    "execution": {
     "iopub.execute_input": "2022-08-29T18:45:47.450202Z",
     "iopub.status.busy": "2022-08-29T18:45:47.449262Z",
     "iopub.status.idle": "2022-08-29T18:45:50.057495Z",
     "shell.execute_reply": "2022-08-29T18:45:50.056639Z"
    },
    "papermill": {
     "duration": 2.619957,
     "end_time": "2022-08-29T18:45:50.060789",
     "exception": false,
     "start_time": "2022-08-29T18:45:47.440832",
     "status": "completed"
    },
    "tags": []
   },
   "outputs": [
    {
     "name": "stdout",
     "output_type": "stream",
     "text": [
      "Setup Complete\n"
     ]
    }
   ],
   "source": [
    "# Set up code checking\n",
    "import os\n",
    "if not os.path.exists(\"../input/train.csv\"):\n",
    "    os.symlink(\"../input/home-data-for-ml-course/train.csv\", \"../input/train.csv\")  \n",
    "    os.symlink(\"../input/home-data-for-ml-course/test.csv\", \"../input/test.csv\") \n",
    "from learntools.core import binder\n",
    "binder.bind(globals())\n",
    "from learntools.ml_intermediate.ex6 import *\n",
    "print(\"Setup Complete\")"
   ]
  },
  {
   "cell_type": "markdown",
   "id": "0ce43e74",
   "metadata": {
    "papermill": {
     "duration": 0.005328,
     "end_time": "2022-08-29T18:45:50.072956",
     "exception": false,
     "start_time": "2022-08-29T18:45:50.067628",
     "status": "completed"
    },
    "tags": []
   },
   "source": [
    "You will work with the [Housing Prices Competition for Kaggle Learn Users](https://www.kaggle.com/c/home-data-for-ml-course) dataset from the previous exercise. \n",
    "\n",
    "![Ames Housing dataset image](https://i.imgur.com/lTJVG4e.png)\n",
    "\n",
    "Run the next code cell without changes to load the training and validation sets in `X_train`, `X_valid`, `y_train`, and `y_valid`.  The test set is loaded in `X_test`."
   ]
  },
  {
   "cell_type": "code",
   "execution_count": 2,
   "id": "d236e5fc",
   "metadata": {
    "execution": {
     "iopub.execute_input": "2022-08-29T18:45:50.085657Z",
     "iopub.status.busy": "2022-08-29T18:45:50.085185Z",
     "iopub.status.idle": "2022-08-29T18:45:50.272795Z",
     "shell.execute_reply": "2022-08-29T18:45:50.271634Z"
    },
    "papermill": {
     "duration": 0.197503,
     "end_time": "2022-08-29T18:45:50.275807",
     "exception": false,
     "start_time": "2022-08-29T18:45:50.078304",
     "status": "completed"
    },
    "tags": []
   },
   "outputs": [],
   "source": [
    "import pandas as pd\n",
    "from sklearn.model_selection import train_test_split\n",
    "\n",
    "# Read the data\n",
    "X = pd.read_csv('../input/train.csv', index_col='Id')\n",
    "X_test_full = pd.read_csv('../input/test.csv', index_col='Id')\n",
    "\n",
    "# Remove rows with missing target, separate target from predictors\n",
    "X.dropna(axis=0, subset=['SalePrice'], inplace=True)\n",
    "y = X.SalePrice              \n",
    "X.drop(['SalePrice'], axis=1, inplace=True)\n",
    "\n",
    "# Break off validation set from training data\n",
    "X_train_full, X_valid_full, y_train, y_valid = train_test_split(X, y, train_size=0.8, test_size=0.2,\n",
    "                                                                random_state=0)\n",
    "\n",
    "# \"Cardinality\" means the number of unique values in a column\n",
    "# Select categorical columns with relatively low cardinality (convenient but arbitrary)\n",
    "low_cardinality_cols = [cname for cname in X_train_full.columns if X_train_full[cname].nunique() < 10 and \n",
    "                        X_train_full[cname].dtype == \"object\"]\n",
    "\n",
    "# Select numeric columns\n",
    "numeric_cols = [cname for cname in X_train_full.columns if X_train_full[cname].dtype in ['int64', 'float64']]\n",
    "\n",
    "# Keep selected columns only\n",
    "my_cols = low_cardinality_cols + numeric_cols\n",
    "X_train = X_train_full[my_cols].copy()\n",
    "X_valid = X_valid_full[my_cols].copy()\n",
    "X_test = X_test_full[my_cols].copy()\n",
    "\n",
    "# One-hot encode the data (to shorten the code, we use pandas)\n",
    "X_train = pd.get_dummies(X_train)\n",
    "X_valid = pd.get_dummies(X_valid)\n",
    "X_test = pd.get_dummies(X_test)\n",
    "X_train, X_valid = X_train.align(X_valid, join='left', axis=1)\n",
    "X_train, X_test = X_train.align(X_test, join='left', axis=1)"
   ]
  },
  {
   "cell_type": "markdown",
   "id": "f463bb58",
   "metadata": {
    "papermill": {
     "duration": 0.005017,
     "end_time": "2022-08-29T18:45:50.286255",
     "exception": false,
     "start_time": "2022-08-29T18:45:50.281238",
     "status": "completed"
    },
    "tags": []
   },
   "source": [
    "# Step 1: Build model\n",
    "\n",
    "### Part A\n",
    "\n",
    "In this step, you'll build and train your first model with gradient boosting.\n",
    "\n",
    "- Begin by setting `my_model_1` to an XGBoost model.  Use the [XGBRegressor](https://xgboost.readthedocs.io/en/latest/python/python_api.html#xgboost.XGBRegressor) class, and set the random seed to 0 (`random_state=0`).  **Leave all other parameters as default.**\n",
    "- Then, fit the model to the training data in `X_train` and `y_train`."
   ]
  },
  {
   "cell_type": "code",
   "execution_count": 3,
   "id": "e0257594",
   "metadata": {
    "execution": {
     "iopub.execute_input": "2022-08-29T18:45:50.298710Z",
     "iopub.status.busy": "2022-08-29T18:45:50.298280Z",
     "iopub.status.idle": "2022-08-29T18:45:51.260462Z",
     "shell.execute_reply": "2022-08-29T18:45:51.259550Z"
    },
    "papermill": {
     "duration": 0.971466,
     "end_time": "2022-08-29T18:45:51.262917",
     "exception": false,
     "start_time": "2022-08-29T18:45:50.291451",
     "status": "completed"
    },
    "tags": []
   },
   "outputs": [
    {
     "data": {
      "application/javascript": [
       "parent.postMessage({\"jupyterEvent\": \"custom.exercise_interaction\", \"data\": {\"outcomeType\": 1, \"valueTowardsCompletion\": 0.5, \"interactionType\": 1, \"questionType\": 2, \"questionId\": \"1.1_Model1A\", \"learnToolsVersion\": \"0.3.4\", \"failureMessage\": \"\", \"exceptionClass\": \"\", \"trace\": \"\"}}, \"*\")"
      ],
      "text/plain": [
       "<IPython.core.display.Javascript object>"
      ]
     },
     "metadata": {},
     "output_type": "display_data"
    },
    {
     "data": {
      "text/markdown": [
       "<span style=\"color:#33cc33\">Correct</span>"
      ],
      "text/plain": [
       "Correct"
      ]
     },
     "metadata": {},
     "output_type": "display_data"
    }
   ],
   "source": [
    "from xgboost import XGBRegressor\n",
    "\n",
    "# Define the model\n",
    "my_model_1 = XGBRegressor()  # Your code here\n",
    "\n",
    "# Fit the model\n",
    "my_model_1.fit(X_train, y_train) # Your code here\n",
    "\n",
    "# Check your answer\n",
    "step_1.a.check()"
   ]
  },
  {
   "cell_type": "code",
   "execution_count": 4,
   "id": "5174af29",
   "metadata": {
    "execution": {
     "iopub.execute_input": "2022-08-29T18:45:51.276262Z",
     "iopub.status.busy": "2022-08-29T18:45:51.275525Z",
     "iopub.status.idle": "2022-08-29T18:45:51.280374Z",
     "shell.execute_reply": "2022-08-29T18:45:51.279301Z"
    },
    "papermill": {
     "duration": 0.013707,
     "end_time": "2022-08-29T18:45:51.282607",
     "exception": false,
     "start_time": "2022-08-29T18:45:51.268900",
     "status": "completed"
    },
    "tags": []
   },
   "outputs": [],
   "source": [
    "# Lines below will give you a hint or solution code\n",
    "#step_1.a.hint()\n",
    "#step_1.a.solution()"
   ]
  },
  {
   "cell_type": "markdown",
   "id": "09e4de73",
   "metadata": {
    "papermill": {
     "duration": 0.005237,
     "end_time": "2022-08-29T18:45:51.293290",
     "exception": false,
     "start_time": "2022-08-29T18:45:51.288053",
     "status": "completed"
    },
    "tags": []
   },
   "source": [
    "### Part B\n",
    "\n",
    "Set `predictions_1` to the model's predictions for the validation data.  Recall that the validation features are stored in `X_valid`."
   ]
  },
  {
   "cell_type": "code",
   "execution_count": 5,
   "id": "1ed3d3c1",
   "metadata": {
    "execution": {
     "iopub.execute_input": "2022-08-29T18:45:51.306070Z",
     "iopub.status.busy": "2022-08-29T18:45:51.305697Z",
     "iopub.status.idle": "2022-08-29T18:45:51.328595Z",
     "shell.execute_reply": "2022-08-29T18:45:51.327767Z"
    },
    "papermill": {
     "duration": 0.032403,
     "end_time": "2022-08-29T18:45:51.331151",
     "exception": false,
     "start_time": "2022-08-29T18:45:51.298748",
     "status": "completed"
    },
    "tags": []
   },
   "outputs": [
    {
     "data": {
      "application/javascript": [
       "parent.postMessage({\"jupyterEvent\": \"custom.exercise_interaction\", \"data\": {\"outcomeType\": 1, \"valueTowardsCompletion\": 0.5, \"interactionType\": 1, \"questionType\": 2, \"questionId\": \"1.2_Model1B\", \"learnToolsVersion\": \"0.3.4\", \"failureMessage\": \"\", \"exceptionClass\": \"\", \"trace\": \"\"}}, \"*\")"
      ],
      "text/plain": [
       "<IPython.core.display.Javascript object>"
      ]
     },
     "metadata": {},
     "output_type": "display_data"
    },
    {
     "data": {
      "text/markdown": [
       "<span style=\"color:#33cc33\">Correct</span>"
      ],
      "text/plain": [
       "Correct"
      ]
     },
     "metadata": {},
     "output_type": "display_data"
    }
   ],
   "source": [
    "from sklearn.metrics import mean_absolute_error\n",
    "\n",
    "# Get predictions\n",
    "predictions_1 = my_model_1.predict(X_valid) # Your code here\n",
    "\n",
    "# Check your answer\n",
    "step_1.b.check()"
   ]
  },
  {
   "cell_type": "code",
   "execution_count": 6,
   "id": "8397a8e0",
   "metadata": {
    "execution": {
     "iopub.execute_input": "2022-08-29T18:45:51.345987Z",
     "iopub.status.busy": "2022-08-29T18:45:51.344958Z",
     "iopub.status.idle": "2022-08-29T18:45:51.349932Z",
     "shell.execute_reply": "2022-08-29T18:45:51.348802Z"
    },
    "papermill": {
     "duration": 0.014421,
     "end_time": "2022-08-29T18:45:51.352323",
     "exception": false,
     "start_time": "2022-08-29T18:45:51.337902",
     "status": "completed"
    },
    "tags": []
   },
   "outputs": [],
   "source": [
    "# Lines below will give you a hint or solution code\n",
    "#step_1.b.hint()\n",
    "#step_1.b.solution()"
   ]
  },
  {
   "cell_type": "markdown",
   "id": "be1bc8c4",
   "metadata": {
    "papermill": {
     "duration": 0.005436,
     "end_time": "2022-08-29T18:45:51.363564",
     "exception": false,
     "start_time": "2022-08-29T18:45:51.358128",
     "status": "completed"
    },
    "tags": []
   },
   "source": [
    "### Part C\n",
    "\n",
    "Finally, use the `mean_absolute_error()` function to calculate the mean absolute error (MAE) corresponding to the predictions for the validation set.  Recall that the labels for the validation data are stored in `y_valid`."
   ]
  },
  {
   "cell_type": "code",
   "execution_count": 7,
   "id": "72977f1a",
   "metadata": {
    "execution": {
     "iopub.execute_input": "2022-08-29T18:45:51.377228Z",
     "iopub.status.busy": "2022-08-29T18:45:51.376216Z",
     "iopub.status.idle": "2022-08-29T18:45:51.388054Z",
     "shell.execute_reply": "2022-08-29T18:45:51.386992Z"
    },
    "papermill": {
     "duration": 0.021091,
     "end_time": "2022-08-29T18:45:51.390285",
     "exception": false,
     "start_time": "2022-08-29T18:45:51.369194",
     "status": "completed"
    },
    "tags": []
   },
   "outputs": [
    {
     "name": "stdout",
     "output_type": "stream",
     "text": [
      "Mean Absolute Error: 17662.736729452055\n"
     ]
    },
    {
     "data": {
      "application/javascript": [
       "parent.postMessage({\"jupyterEvent\": \"custom.exercise_interaction\", \"data\": {\"outcomeType\": 1, \"valueTowardsCompletion\": 0.5, \"interactionType\": 1, \"questionType\": 2, \"questionId\": \"1.3_Model1C\", \"learnToolsVersion\": \"0.3.4\", \"failureMessage\": \"\", \"exceptionClass\": \"\", \"trace\": \"\"}}, \"*\")"
      ],
      "text/plain": [
       "<IPython.core.display.Javascript object>"
      ]
     },
     "metadata": {},
     "output_type": "display_data"
    },
    {
     "data": {
      "text/markdown": [
       "<span style=\"color:#33cc33\">Correct</span>"
      ],
      "text/plain": [
       "Correct"
      ]
     },
     "metadata": {},
     "output_type": "display_data"
    }
   ],
   "source": [
    "# Calculate MAE\n",
    "mae_1 = mean_absolute_error(predictions_1, y_valid) # Your code here\n",
    "\n",
    "# Uncomment to print MAE\n",
    "print(\"Mean Absolute Error:\" , mae_1)\n",
    "\n",
    "# Check your answer\n",
    "step_1.c.check()"
   ]
  },
  {
   "cell_type": "code",
   "execution_count": 8,
   "id": "769dff1b",
   "metadata": {
    "execution": {
     "iopub.execute_input": "2022-08-29T18:45:51.404429Z",
     "iopub.status.busy": "2022-08-29T18:45:51.403671Z",
     "iopub.status.idle": "2022-08-29T18:45:51.408480Z",
     "shell.execute_reply": "2022-08-29T18:45:51.407561Z"
    },
    "papermill": {
     "duration": 0.014595,
     "end_time": "2022-08-29T18:45:51.410808",
     "exception": false,
     "start_time": "2022-08-29T18:45:51.396213",
     "status": "completed"
    },
    "tags": []
   },
   "outputs": [],
   "source": [
    "# Lines below will give you a hint or solution code\n",
    "#step_1.c.hint()\n",
    "#step_1.c.solution()"
   ]
  },
  {
   "cell_type": "markdown",
   "id": "b8276251",
   "metadata": {
    "papermill": {
     "duration": 0.005772,
     "end_time": "2022-08-29T18:45:51.423559",
     "exception": false,
     "start_time": "2022-08-29T18:45:51.417787",
     "status": "completed"
    },
    "tags": []
   },
   "source": [
    "# Step 2: Improve the model\n",
    "\n",
    "Now that you've trained a default model as baseline, it's time to tinker with the parameters, to see if you can get better performance!\n",
    "- Begin by setting `my_model_2` to an XGBoost model, using the [XGBRegressor](https://xgboost.readthedocs.io/en/latest/python/python_api.html#xgboost.XGBRegressor) class.  Use what you learned in the previous tutorial to figure out how to change the default parameters (like `n_estimators` and `learning_rate`) to get better results.\n",
    "- Then, fit the model to the training data in `X_train` and `y_train`.\n",
    "- Set `predictions_2` to the model's predictions for the validation data.  Recall that the validation features are stored in `X_valid`.\n",
    "- Finally, use the `mean_absolute_error()` function to calculate the mean absolute error (MAE) corresponding to the predictions on the validation set.  Recall that the labels for the validation data are stored in `y_valid`.\n",
    "\n",
    "In order for this step to be marked correct, your model in `my_model_2` must attain lower MAE than the model in `my_model_1`. "
   ]
  },
  {
   "cell_type": "code",
   "execution_count": 9,
   "id": "8ce1915f",
   "metadata": {
    "execution": {
     "iopub.execute_input": "2022-08-29T18:45:51.438067Z",
     "iopub.status.busy": "2022-08-29T18:45:51.437290Z",
     "iopub.status.idle": "2022-08-29T18:45:56.983318Z",
     "shell.execute_reply": "2022-08-29T18:45:56.982431Z"
    },
    "papermill": {
     "duration": 5.556454,
     "end_time": "2022-08-29T18:45:56.986107",
     "exception": false,
     "start_time": "2022-08-29T18:45:51.429653",
     "status": "completed"
    },
    "tags": []
   },
   "outputs": [
    {
     "name": "stdout",
     "output_type": "stream",
     "text": [
      "Mean Absolute Error: 16728.27523009418\n"
     ]
    },
    {
     "data": {
      "application/javascript": [
       "parent.postMessage({\"jupyterEvent\": \"custom.exercise_interaction\", \"data\": {\"outcomeType\": 1, \"valueTowardsCompletion\": 0.5, \"interactionType\": 1, \"questionType\": 2, \"questionId\": \"2_Model2\", \"learnToolsVersion\": \"0.3.4\", \"failureMessage\": \"\", \"exceptionClass\": \"\", \"trace\": \"\"}}, \"*\")"
      ],
      "text/plain": [
       "<IPython.core.display.Javascript object>"
      ]
     },
     "metadata": {},
     "output_type": "display_data"
    },
    {
     "data": {
      "text/markdown": [
       "<span style=\"color:#33cc33\">Correct</span>"
      ],
      "text/plain": [
       "Correct"
      ]
     },
     "metadata": {},
     "output_type": "display_data"
    }
   ],
   "source": [
    "# Define the model\n",
    "my_model_2 = XGBRegressor(n_estimators=500, learning_rate=0.05) # Your code here\n",
    "\n",
    "# Fit the model\n",
    "my_model_2.fit(X_train, y_train) # Your code here\n",
    "\n",
    "# Get predictions\n",
    "predictions_2 = my_model_2.predict(X_valid) # Your code here\n",
    "\n",
    "# Calculate MAE\n",
    "mae_2 = mean_absolute_error(predictions_2, y_valid) # Your code here\n",
    "\n",
    "# Uncomment to print MAE\n",
    "print(\"Mean Absolute Error:\" , mae_2)\n",
    "\n",
    "# Check your answer\n",
    "step_2.check()"
   ]
  },
  {
   "cell_type": "code",
   "execution_count": 10,
   "id": "651d9c0d",
   "metadata": {
    "execution": {
     "iopub.execute_input": "2022-08-29T18:45:57.002121Z",
     "iopub.status.busy": "2022-08-29T18:45:57.001672Z",
     "iopub.status.idle": "2022-08-29T18:45:57.007412Z",
     "shell.execute_reply": "2022-08-29T18:45:57.006222Z"
    },
    "papermill": {
     "duration": 0.016961,
     "end_time": "2022-08-29T18:45:57.010775",
     "exception": false,
     "start_time": "2022-08-29T18:45:56.993814",
     "status": "completed"
    },
    "tags": []
   },
   "outputs": [],
   "source": [
    "# Lines below will give you a hint or solution code\n",
    "#step_2.hint()\n",
    "#step_2.solution()"
   ]
  },
  {
   "cell_type": "markdown",
   "id": "2f754a09",
   "metadata": {
    "papermill": {
     "duration": 0.00616,
     "end_time": "2022-08-29T18:45:57.028929",
     "exception": false,
     "start_time": "2022-08-29T18:45:57.022769",
     "status": "completed"
    },
    "tags": []
   },
   "source": [
    "# Step 3: Break the model\n",
    "\n",
    "In this step, you will create a model that performs worse than the original model in Step 1.  This will help you to develop your intuition for how to set parameters.  You might even find that you accidentally get better performance, which is ultimately a nice problem to have and a valuable learning experience!\n",
    "- Begin by setting `my_model_3` to an XGBoost model, using the [XGBRegressor](https://xgboost.readthedocs.io/en/latest/python/python_api.html#xgboost.XGBRegressor) class.  Use what you learned in the previous tutorial to figure out how to change the default parameters (like `n_estimators` and `learning_rate`) to design a model to get high MAE.\n",
    "- Then, fit the model to the training data in `X_train` and `y_train`.\n",
    "- Set `predictions_3` to the model's predictions for the validation data.  Recall that the validation features are stored in `X_valid`.\n",
    "- Finally, use the `mean_absolute_error()` function to calculate the mean absolute error (MAE) corresponding to the predictions on the validation set.  Recall that the labels for the validation data are stored in `y_valid`.\n",
    "\n",
    "In order for this step to be marked correct, your model in `my_model_3` must attain higher MAE than the model in `my_model_1`. "
   ]
  },
  {
   "cell_type": "code",
   "execution_count": 11,
   "id": "5b948520",
   "metadata": {
    "execution": {
     "iopub.execute_input": "2022-08-29T18:45:57.043559Z",
     "iopub.status.busy": "2022-08-29T18:45:57.043181Z",
     "iopub.status.idle": "2022-08-29T18:45:57.105585Z",
     "shell.execute_reply": "2022-08-29T18:45:57.104758Z"
    },
    "papermill": {
     "duration": 0.072338,
     "end_time": "2022-08-29T18:45:57.107664",
     "exception": false,
     "start_time": "2022-08-29T18:45:57.035326",
     "status": "completed"
    },
    "tags": []
   },
   "outputs": [
    {
     "name": "stdout",
     "output_type": "stream",
     "text": [
      "Mean Absolute Error: 179587.39034114472\n"
     ]
    },
    {
     "data": {
      "application/javascript": [
       "parent.postMessage({\"jupyterEvent\": \"custom.exercise_interaction\", \"data\": {\"outcomeType\": 1, \"valueTowardsCompletion\": 0.5, \"interactionType\": 1, \"questionType\": 2, \"questionId\": \"3_Model3\", \"learnToolsVersion\": \"0.3.4\", \"failureMessage\": \"\", \"exceptionClass\": \"\", \"trace\": \"\"}}, \"*\")"
      ],
      "text/plain": [
       "<IPython.core.display.Javascript object>"
      ]
     },
     "metadata": {},
     "output_type": "display_data"
    },
    {
     "data": {
      "text/markdown": [
       "<span style=\"color:#33cc33\">Correct</span>"
      ],
      "text/plain": [
       "Correct"
      ]
     },
     "metadata": {},
     "output_type": "display_data"
    }
   ],
   "source": [
    "# Define the model\n",
    "my_model_3 = XGBRegressor(n_estimators=1, learning_rate = 0.01)\n",
    "\n",
    "# Fit the model\n",
    "my_model_3.fit(X_train, y_train) # Your code here\n",
    "\n",
    "# Get predictions\n",
    "predictions_3 = my_model_3.predict(X_valid)\n",
    "\n",
    "# Calculate MAE\n",
    "mae_3 = mean_absolute_error(predictions_3, y_valid)\n",
    "\n",
    "# Uncomment to print MAE\n",
    "print(\"Mean Absolute Error:\" , mae_3)\n",
    "\n",
    "# Check your answer\n",
    "step_3.check()"
   ]
  },
  {
   "cell_type": "code",
   "execution_count": 12,
   "id": "a75d650e",
   "metadata": {
    "execution": {
     "iopub.execute_input": "2022-08-29T18:45:57.123639Z",
     "iopub.status.busy": "2022-08-29T18:45:57.123261Z",
     "iopub.status.idle": "2022-08-29T18:45:57.127366Z",
     "shell.execute_reply": "2022-08-29T18:45:57.126606Z"
    },
    "papermill": {
     "duration": 0.014015,
     "end_time": "2022-08-29T18:45:57.129479",
     "exception": false,
     "start_time": "2022-08-29T18:45:57.115464",
     "status": "completed"
    },
    "tags": []
   },
   "outputs": [],
   "source": [
    "# Lines below will give you a hint or solution code\n",
    "#step_3.hint()\n",
    "#step_3.solution()"
   ]
  },
  {
   "cell_type": "markdown",
   "id": "8bc5df7d",
   "metadata": {
    "papermill": {
     "duration": 0.006212,
     "end_time": "2022-08-29T18:45:57.142315",
     "exception": false,
     "start_time": "2022-08-29T18:45:57.136103",
     "status": "completed"
    },
    "tags": []
   },
   "source": [
    "# Keep going\n",
    "\n",
    "Continue to learn about **[data leakage](https://www.kaggle.com/alexisbcook/data-leakage)**.  This is an important issue for a data scientist to understand, and it has the potential to ruin your models in subtle and dangerous ways!"
   ]
  },
  {
   "cell_type": "markdown",
   "id": "f95a4fb7",
   "metadata": {
    "papermill": {
     "duration": 0.006044,
     "end_time": "2022-08-29T18:45:57.154845",
     "exception": false,
     "start_time": "2022-08-29T18:45:57.148801",
     "status": "completed"
    },
    "tags": []
   },
   "source": [
    "---\n",
    "\n",
    "\n",
    "\n",
    "\n",
    "*Have questions or comments? Visit the [course discussion forum](https://www.kaggle.com/learn/intermediate-machine-learning/discussion) to chat with other learners.*"
   ]
  }
 ],
 "metadata": {
  "kernelspec": {
   "display_name": "Python 3",
   "language": "python",
   "name": "python3"
  },
  "language_info": {
   "codemirror_mode": {
    "name": "ipython",
    "version": 3
   },
   "file_extension": ".py",
   "mimetype": "text/x-python",
   "name": "python",
   "nbconvert_exporter": "python",
   "pygments_lexer": "ipython3",
   "version": "3.7.12"
  },
  "papermill": {
   "default_parameters": {},
   "duration": 19.607611,
   "end_time": "2022-08-29T18:45:57.882345",
   "environment_variables": {},
   "exception": null,
   "input_path": "__notebook__.ipynb",
   "output_path": "__notebook__.ipynb",
   "parameters": {},
   "start_time": "2022-08-29T18:45:38.274734",
   "version": "2.3.4"
  }
 },
 "nbformat": 4,
 "nbformat_minor": 5
}
