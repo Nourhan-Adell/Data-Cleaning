{
 "cells": [
  {
   "cell_type": "markdown",
   "id": "f9fbaa2c",
   "metadata": {
    "papermill": {
     "duration": 0.006398,
     "end_time": "2022-08-26T14:43:23.641290",
     "exception": false,
     "start_time": "2022-08-26T14:43:23.634892",
     "status": "completed"
    },
    "tags": []
   },
   "source": [
    "**This notebook is an exercise in the [Data Cleaning](https://www.kaggle.com/learn/data-cleaning) course.  You can reference the tutorial at [this link](https://www.kaggle.com/alexisbcook/inconsistent-data-entry).**\n",
    "\n",
    "---\n"
   ]
  },
  {
   "cell_type": "markdown",
   "id": "a1ce6e25",
   "metadata": {
    "papermill": {
     "duration": 0.004807,
     "end_time": "2022-08-26T14:43:23.651337",
     "exception": false,
     "start_time": "2022-08-26T14:43:23.646530",
     "status": "completed"
    },
    "tags": []
   },
   "source": [
    "In this exercise, you'll apply what you learned in the **Inconsistent data entry** tutorial.\n",
    "\n",
    "# Setup\n",
    "\n",
    "The questions below will give you feedback on your work. Run the following cell to set up the feedback system."
   ]
  },
  {
   "cell_type": "code",
   "execution_count": 1,
   "id": "5486ff6b",
   "metadata": {
    "execution": {
     "iopub.execute_input": "2022-08-26T14:43:23.663968Z",
     "iopub.status.busy": "2022-08-26T14:43:23.663222Z",
     "iopub.status.idle": "2022-08-26T14:43:23.782855Z",
     "shell.execute_reply": "2022-08-26T14:43:23.782021Z"
    },
    "papermill": {
     "duration": 0.129568,
     "end_time": "2022-08-26T14:43:23.786060",
     "exception": false,
     "start_time": "2022-08-26T14:43:23.656492",
     "status": "completed"
    },
    "tags": []
   },
   "outputs": [
    {
     "name": "stdout",
     "output_type": "stream",
     "text": [
      "Setup Complete\n"
     ]
    }
   ],
   "source": [
    "from learntools.core import binder\n",
    "binder.bind(globals())\n",
    "from learntools.data_cleaning.ex5 import *\n",
    "print(\"Setup Complete\")"
   ]
  },
  {
   "cell_type": "markdown",
   "id": "a38787c6",
   "metadata": {
    "papermill": {
     "duration": 0.004922,
     "end_time": "2022-08-26T14:43:23.796891",
     "exception": false,
     "start_time": "2022-08-26T14:43:23.791969",
     "status": "completed"
    },
    "tags": []
   },
   "source": [
    "# Get our environment set up\n",
    "\n",
    "The first thing we'll need to do is load in the libraries and dataset we'll be using.  We use the same dataset from the tutorial."
   ]
  },
  {
   "cell_type": "code",
   "execution_count": 2,
   "id": "15f148a3",
   "metadata": {
    "execution": {
     "iopub.execute_input": "2022-08-26T14:43:23.809238Z",
     "iopub.status.busy": "2022-08-26T14:43:23.808717Z",
     "iopub.status.idle": "2022-08-26T14:43:23.827469Z",
     "shell.execute_reply": "2022-08-26T14:43:23.826302Z"
    },
    "papermill": {
     "duration": 0.027967,
     "end_time": "2022-08-26T14:43:23.829980",
     "exception": false,
     "start_time": "2022-08-26T14:43:23.802013",
     "status": "completed"
    },
    "tags": []
   },
   "outputs": [],
   "source": [
    "# modules we'll use\n",
    "import pandas as pd\n",
    "import numpy as np\n",
    "\n",
    "# helpful modules\n",
    "import fuzzywuzzy\n",
    "from fuzzywuzzy import process\n",
    "import chardet\n",
    "\n",
    "# read in all our data\n",
    "professors = pd.read_csv(\"../input/pakistan-intellectual-capital/pakistan_intellectual_capital.csv\")\n",
    "\n",
    "# set seed for reproducibility\n",
    "np.random.seed(0)"
   ]
  },
  {
   "cell_type": "markdown",
   "id": "d8e56d8d",
   "metadata": {
    "papermill": {
     "duration": 0.005047,
     "end_time": "2022-08-26T14:43:23.840411",
     "exception": false,
     "start_time": "2022-08-26T14:43:23.835364",
     "status": "completed"
    },
    "tags": []
   },
   "source": [
    "Next, we'll redo all of the work that we did in the tutorial."
   ]
  },
  {
   "cell_type": "code",
   "execution_count": 3,
   "id": "5af23eb9",
   "metadata": {
    "execution": {
     "iopub.execute_input": "2022-08-26T14:43:23.853115Z",
     "iopub.status.busy": "2022-08-26T14:43:23.852363Z",
     "iopub.status.idle": "2022-08-26T14:43:23.867405Z",
     "shell.execute_reply": "2022-08-26T14:43:23.866495Z"
    },
    "papermill": {
     "duration": 0.024415,
     "end_time": "2022-08-26T14:43:23.870061",
     "exception": false,
     "start_time": "2022-08-26T14:43:23.845646",
     "status": "completed"
    },
    "tags": []
   },
   "outputs": [
    {
     "name": "stdout",
     "output_type": "stream",
     "text": [
      "All done!\n"
     ]
    }
   ],
   "source": [
    "# convert to lower case\n",
    "professors['Country'] = professors['Country'].str.lower()\n",
    "# remove trailing white spaces\n",
    "professors['Country'] = professors['Country'].str.strip()\n",
    "\n",
    "# get the top 10 closest matches to \"south korea\"\n",
    "countries = professors['Country'].unique()\n",
    "matches = fuzzywuzzy.process.extract(\"south korea\", countries, limit=10, scorer=fuzzywuzzy.fuzz.token_sort_ratio)\n",
    "\n",
    "def replace_matches_in_column(df, column, string_to_match, min_ratio = 47):\n",
    "    # get a list of unique strings\n",
    "    strings = df[column].unique()\n",
    "    \n",
    "    # get the top 10 closest matches to our input string\n",
    "    matches = fuzzywuzzy.process.extract(string_to_match, strings, \n",
    "                                         limit=10, scorer=fuzzywuzzy.fuzz.token_sort_ratio)\n",
    "\n",
    "    # only get matches with a ratio > 90\n",
    "    close_matches = [matches[0] for matches in matches if matches[1] >= min_ratio]\n",
    "\n",
    "    # get the rows of all the close matches in our dataframe\n",
    "    rows_with_matches = df[column].isin(close_matches)\n",
    "\n",
    "    # replace all rows with close matches with the input matches \n",
    "    df.loc[rows_with_matches, column] = string_to_match\n",
    "    \n",
    "    # let us know the function's done\n",
    "    print(\"All done!\")\n",
    "    \n",
    "replace_matches_in_column(df=professors, column='Country', string_to_match=\"south korea\")\n",
    "countries = professors['Country'].unique()"
   ]
  },
  {
   "cell_type": "markdown",
   "id": "c5a98dc0",
   "metadata": {
    "papermill": {
     "duration": 0.005154,
     "end_time": "2022-08-26T14:43:23.880547",
     "exception": false,
     "start_time": "2022-08-26T14:43:23.875393",
     "status": "completed"
    },
    "tags": []
   },
   "source": [
    "# 1) Examine another column\n",
    "\n",
    "Write code below to take a look at all the unique values in the \"Graduated from\" column."
   ]
  },
  {
   "cell_type": "code",
   "execution_count": 4,
   "id": "a0f521f7",
   "metadata": {
    "execution": {
     "iopub.execute_input": "2022-08-26T14:43:23.892749Z",
     "iopub.status.busy": "2022-08-26T14:43:23.892366Z",
     "iopub.status.idle": "2022-08-26T14:43:23.903330Z",
     "shell.execute_reply": "2022-08-26T14:43:23.902112Z"
    },
    "papermill": {
     "duration": 0.020354,
     "end_time": "2022-08-26T14:43:23.906081",
     "exception": false,
     "start_time": "2022-08-26T14:43:23.885727",
     "status": "completed"
    },
    "tags": []
   },
   "outputs": [
    {
     "data": {
      "text/plain": [
       "<bound method Series.unique of 0                           Asian Institute of Technology\n",
       "1                           Asian Institute of Technology\n",
       "2                           Asian Institute of Technology\n",
       "3                           Asian Institute of Technology\n",
       "4       Balochistan University of Information Technolo...\n",
       "                              ...                        \n",
       "1137                                                  JNU\n",
       "1138                                             Grenoble\n",
       "1139                          Florida Atlantic University\n",
       "1140    Ghulam Ishaq Khan Institute of Science and Tec...\n",
       "1141                            Seoul National University\n",
       "Name: Graduated from, Length: 1142, dtype: object>"
      ]
     },
     "execution_count": 4,
     "metadata": {},
     "output_type": "execute_result"
    }
   ],
   "source": [
    "# TODO: Your code here\n",
    "professors['Graduated from'].unique"
   ]
  },
  {
   "cell_type": "markdown",
   "id": "f58f6891",
   "metadata": {
    "papermill": {
     "duration": 0.005433,
     "end_time": "2022-08-26T14:43:23.917196",
     "exception": false,
     "start_time": "2022-08-26T14:43:23.911763",
     "status": "completed"
    },
    "tags": []
   },
   "source": [
    "Do you notice any inconsistencies in the data?  Can any of the inconsistencies in the data be fixed by removing white spaces at the beginning and end of cells?\n",
    "\n",
    "Once you have answered these questions, run the code cell below to get credit for your work."
   ]
  },
  {
   "cell_type": "code",
   "execution_count": 5,
   "id": "ca5d4e41",
   "metadata": {
    "execution": {
     "iopub.execute_input": "2022-08-26T14:43:23.930682Z",
     "iopub.status.busy": "2022-08-26T14:43:23.929557Z",
     "iopub.status.idle": "2022-08-26T14:43:23.938360Z",
     "shell.execute_reply": "2022-08-26T14:43:23.937456Z"
    },
    "papermill": {
     "duration": 0.017712,
     "end_time": "2022-08-26T14:43:23.940447",
     "exception": false,
     "start_time": "2022-08-26T14:43:23.922735",
     "status": "completed"
    },
    "tags": []
   },
   "outputs": [
    {
     "data": {
      "application/javascript": [
       "parent.postMessage({\"jupyterEvent\": \"custom.exercise_interaction\", \"data\": {\"outcomeType\": 1, \"valueTowardsCompletion\": 0.3333333333333333, \"interactionType\": 1, \"questionType\": 4, \"questionId\": \"1_ExamineProvince\", \"learnToolsVersion\": \"0.3.4\", \"failureMessage\": \"\", \"exceptionClass\": \"\", \"trace\": \"\"}}, \"*\")"
      ],
      "text/plain": [
       "<IPython.core.display.Javascript object>"
      ]
     },
     "metadata": {},
     "output_type": "display_data"
    },
    {
     "data": {
      "text/markdown": [
       "<span style=\"color:#33cc33\">Correct:</span> \n",
       "\n",
       "There are inconsistencies that can be fixed by removing white spaces at the beginning and end of cells.  For instance, \"University of Central Florida\" and \" University of Central Florida\" both appear in the column."
      ],
      "text/plain": [
       "Correct: \n",
       "\n",
       "There are inconsistencies that can be fixed by removing white spaces at the beginning and end of cells.  For instance, \"University of Central Florida\" and \" University of Central Florida\" both appear in the column."
      ]
     },
     "metadata": {},
     "output_type": "display_data"
    }
   ],
   "source": [
    "# Check your answer (Run this code cell to receive credit!)\n",
    "q1.check()"
   ]
  },
  {
   "cell_type": "code",
   "execution_count": 6,
   "id": "68a0a69e",
   "metadata": {
    "execution": {
     "iopub.execute_input": "2022-08-26T14:43:23.954041Z",
     "iopub.status.busy": "2022-08-26T14:43:23.953051Z",
     "iopub.status.idle": "2022-08-26T14:43:23.957345Z",
     "shell.execute_reply": "2022-08-26T14:43:23.956367Z"
    },
    "papermill": {
     "duration": 0.013462,
     "end_time": "2022-08-26T14:43:23.959771",
     "exception": false,
     "start_time": "2022-08-26T14:43:23.946309",
     "status": "completed"
    },
    "tags": []
   },
   "outputs": [],
   "source": [
    "# Line below will give you a hint\n",
    "#q1.hint()"
   ]
  },
  {
   "cell_type": "markdown",
   "id": "0d938636",
   "metadata": {
    "papermill": {
     "duration": 0.005324,
     "end_time": "2022-08-26T14:43:23.970688",
     "exception": false,
     "start_time": "2022-08-26T14:43:23.965364",
     "status": "completed"
    },
    "tags": []
   },
   "source": [
    "# 2) Do some text pre-processing\n",
    "\n",
    "Convert every entry in the \"Graduated from\" column in the `professors` DataFrame to remove white spaces at the beginning and end of cells."
   ]
  },
  {
   "cell_type": "code",
   "execution_count": 7,
   "id": "c7bed46b",
   "metadata": {
    "execution": {
     "iopub.execute_input": "2022-08-26T14:43:23.984192Z",
     "iopub.status.busy": "2022-08-26T14:43:23.983463Z",
     "iopub.status.idle": "2022-08-26T14:43:23.995556Z",
     "shell.execute_reply": "2022-08-26T14:43:23.994314Z"
    },
    "papermill": {
     "duration": 0.021613,
     "end_time": "2022-08-26T14:43:23.997779",
     "exception": false,
     "start_time": "2022-08-26T14:43:23.976166",
     "status": "completed"
    },
    "tags": []
   },
   "outputs": [
    {
     "data": {
      "application/javascript": [
       "parent.postMessage({\"jupyterEvent\": \"custom.exercise_interaction\", \"data\": {\"outcomeType\": 1, \"valueTowardsCompletion\": 0.3333333333333333, \"interactionType\": 1, \"questionType\": 1, \"questionId\": \"2_TextProcessing\", \"learnToolsVersion\": \"0.3.4\", \"failureMessage\": \"\", \"exceptionClass\": \"\", \"trace\": \"\"}}, \"*\")"
      ],
      "text/plain": [
       "<IPython.core.display.Javascript object>"
      ]
     },
     "metadata": {},
     "output_type": "display_data"
    },
    {
     "data": {
      "text/markdown": [
       "<span style=\"color:#33cc33\">Correct</span>"
      ],
      "text/plain": [
       "Correct"
      ]
     },
     "metadata": {},
     "output_type": "display_data"
    }
   ],
   "source": [
    "# TODO: Your code here\n",
    "professors['Graduated from'] = professors['Graduated from'].str.strip()\n",
    "\n",
    "# Check your answer\n",
    "q2.check()"
   ]
  },
  {
   "cell_type": "code",
   "execution_count": 8,
   "id": "c41c054f",
   "metadata": {
    "execution": {
     "iopub.execute_input": "2022-08-26T14:43:24.011117Z",
     "iopub.status.busy": "2022-08-26T14:43:24.010640Z",
     "iopub.status.idle": "2022-08-26T14:43:24.018820Z",
     "shell.execute_reply": "2022-08-26T14:43:24.017582Z"
    },
    "papermill": {
     "duration": 0.01766,
     "end_time": "2022-08-26T14:43:24.021248",
     "exception": false,
     "start_time": "2022-08-26T14:43:24.003588",
     "status": "completed"
    },
    "tags": []
   },
   "outputs": [
    {
     "data": {
      "application/javascript": [
       "parent.postMessage({\"jupyterEvent\": \"custom.exercise_interaction\", \"data\": {\"interactionType\": 3, \"questionType\": 1, \"questionId\": \"2_TextProcessing\", \"learnToolsVersion\": \"0.3.4\", \"valueTowardsCompletion\": 0.0, \"failureMessage\": \"\", \"exceptionClass\": \"\", \"trace\": \"\", \"outcomeType\": 4}}, \"*\")"
      ],
      "text/plain": [
       "<IPython.core.display.Javascript object>"
      ]
     },
     "metadata": {},
     "output_type": "display_data"
    },
    {
     "data": {
      "text/markdown": [
       "<span style=\"color:#33cc99\">Solution:</span> \n",
       "```python\n",
       "professors['Graduated from'] = professors['Graduated from'].str.strip()\n",
       "\n",
       "```"
      ],
      "text/plain": [
       "Solution: \n",
       "```python\n",
       "professors['Graduated from'] = professors['Graduated from'].str.strip()\n",
       "\n",
       "```"
      ]
     },
     "metadata": {},
     "output_type": "display_data"
    }
   ],
   "source": [
    "# Lines below will give you a hint or solution code\n",
    "#q2.hint()\n",
    "q2.solution()"
   ]
  },
  {
   "cell_type": "markdown",
   "id": "56bba239",
   "metadata": {
    "papermill": {
     "duration": 0.005714,
     "end_time": "2022-08-26T14:43:24.033007",
     "exception": false,
     "start_time": "2022-08-26T14:43:24.027293",
     "status": "completed"
    },
    "tags": []
   },
   "source": [
    "# 3) Continue working with countries\n",
    "\n",
    "In the tutorial, we focused on cleaning up inconsistencies in the \"Country\" column.  Run the code cell below to view the list of unique values that we ended with."
   ]
  },
  {
   "cell_type": "code",
   "execution_count": 9,
   "id": "6c316177",
   "metadata": {
    "execution": {
     "iopub.execute_input": "2022-08-26T14:43:24.047455Z",
     "iopub.status.busy": "2022-08-26T14:43:24.047052Z",
     "iopub.status.idle": "2022-08-26T14:43:24.054194Z",
     "shell.execute_reply": "2022-08-26T14:43:24.053282Z"
    },
    "papermill": {
     "duration": 0.016507,
     "end_time": "2022-08-26T14:43:24.056369",
     "exception": false,
     "start_time": "2022-08-26T14:43:24.039862",
     "status": "completed"
    },
    "tags": []
   },
   "outputs": [
    {
     "data": {
      "text/plain": [
       "array(['australia', 'austria', 'canada', 'china', 'finland', 'france',\n",
       "       'germany', 'greece', 'hongkong', 'ireland', 'italy', 'japan',\n",
       "       'macau', 'malaysia', 'mauritius', 'netherland', 'new zealand',\n",
       "       'norway', 'pakistan', 'portugal', 'russian federation',\n",
       "       'saudi arabia', 'scotland', 'singapore', 'south korea', 'spain',\n",
       "       'sweden', 'thailand', 'turkey', 'uk', 'urbana', 'usa', 'usofa'],\n",
       "      dtype=object)"
      ]
     },
     "execution_count": 9,
     "metadata": {},
     "output_type": "execute_result"
    }
   ],
   "source": [
    "# get all the unique values in the 'City' column\n",
    "countries = professors['Country'].unique()\n",
    "\n",
    "# sort them alphabetically and then take a closer look\n",
    "countries.sort()\n",
    "countries"
   ]
  },
  {
   "cell_type": "markdown",
   "id": "4ae8bb29",
   "metadata": {
    "papermill": {
     "duration": 0.005941,
     "end_time": "2022-08-26T14:43:24.068829",
     "exception": false,
     "start_time": "2022-08-26T14:43:24.062888",
     "status": "completed"
    },
    "tags": []
   },
   "source": [
    "Take another look at the \"Country\" column and see if there's any more data cleaning we need to do.\n",
    "\n",
    "It looks like 'usa' and 'usofa' should be the same country.  Correct the \"Country\" column in the dataframe to replace 'usofa' with 'usa'.\n",
    "\n",
    "**Use the most recent version of the DataFrame (with the whitespaces at the beginning and end of cells removed) from question 2.**"
   ]
  },
  {
   "cell_type": "code",
   "execution_count": 10,
   "id": "d3268b56",
   "metadata": {
    "execution": {
     "iopub.execute_input": "2022-08-26T14:43:24.083720Z",
     "iopub.status.busy": "2022-08-26T14:43:24.083150Z",
     "iopub.status.idle": "2022-08-26T14:43:24.095314Z",
     "shell.execute_reply": "2022-08-26T14:43:24.094468Z"
    },
    "papermill": {
     "duration": 0.022353,
     "end_time": "2022-08-26T14:43:24.097475",
     "exception": false,
     "start_time": "2022-08-26T14:43:24.075122",
     "status": "completed"
    },
    "tags": []
   },
   "outputs": [
    {
     "name": "stdout",
     "output_type": "stream",
     "text": [
      "All done!\n"
     ]
    },
    {
     "data": {
      "application/javascript": [
       "parent.postMessage({\"jupyterEvent\": \"custom.exercise_interaction\", \"data\": {\"outcomeType\": 1, \"valueTowardsCompletion\": 0.3333333333333333, \"interactionType\": 1, \"questionType\": 1, \"questionId\": \"3_WorkingWithCities\", \"learnToolsVersion\": \"0.3.4\", \"failureMessage\": \"\", \"exceptionClass\": \"\", \"trace\": \"\"}}, \"*\")"
      ],
      "text/plain": [
       "<IPython.core.display.Javascript object>"
      ]
     },
     "metadata": {},
     "output_type": "display_data"
    },
    {
     "data": {
      "text/markdown": [
       "<span style=\"color:#33cc33\">Correct</span>"
      ],
      "text/plain": [
       "Correct"
      ]
     },
     "metadata": {},
     "output_type": "display_data"
    }
   ],
   "source": [
    "# TODO: Your code here!\n",
    "matches = fuzzywuzzy.process.extract(\"usa\", countries, limit=10,\n",
    "                                     scorer=fuzzywuzzy.fuzz.token_sort_ratio)\n",
    "replace_matches_in_column(df=professors, column='Country',\n",
    "                          string_to_match=\"usa\", min_ratio=70)\n",
    "# Check your answer\n",
    "q3.check()"
   ]
  },
  {
   "cell_type": "code",
   "execution_count": 11,
   "id": "565f2c78",
   "metadata": {
    "execution": {
     "iopub.execute_input": "2022-08-26T14:43:24.112693Z",
     "iopub.status.busy": "2022-08-26T14:43:24.111976Z",
     "iopub.status.idle": "2022-08-26T14:43:24.115797Z",
     "shell.execute_reply": "2022-08-26T14:43:24.114988Z"
    },
    "papermill": {
     "duration": 0.013934,
     "end_time": "2022-08-26T14:43:24.117963",
     "exception": false,
     "start_time": "2022-08-26T14:43:24.104029",
     "status": "completed"
    },
    "tags": []
   },
   "outputs": [],
   "source": [
    "# Lines below will give you a hint or solution code\n",
    "#q3.hint()\n",
    "#q3.solution()"
   ]
  },
  {
   "cell_type": "markdown",
   "id": "c568f1f3",
   "metadata": {
    "papermill": {
     "duration": 0.006175,
     "end_time": "2022-08-26T14:43:24.130647",
     "exception": false,
     "start_time": "2022-08-26T14:43:24.124472",
     "status": "completed"
    },
    "tags": []
   },
   "source": [
    "# Congratulations!\n",
    "\n",
    "Congratulations for completing the **Data Cleaning** course on Kaggle Learn!\n",
    "\n",
    "To practice your new skills, you're encouraged to download and investigate some of [Kaggle's Datasets](https://www.kaggle.com/datasets)."
   ]
  },
  {
   "cell_type": "markdown",
   "id": "acfe4f15",
   "metadata": {
    "papermill": {
     "duration": 0.006085,
     "end_time": "2022-08-26T14:43:24.143203",
     "exception": false,
     "start_time": "2022-08-26T14:43:24.137118",
     "status": "completed"
    },
    "tags": []
   },
   "source": [
    "---\n",
    "\n",
    "\n",
    "\n",
    "\n",
    "*Have questions or comments? Visit the [course discussion forum](https://www.kaggle.com/learn/data-cleaning/discussion) to chat with other learners.*"
   ]
  }
 ],
 "metadata": {
  "kernelspec": {
   "display_name": "Python 3",
   "language": "python",
   "name": "python3"
  },
  "language_info": {
   "codemirror_mode": {
    "name": "ipython",
    "version": 3
   },
   "file_extension": ".py",
   "mimetype": "text/x-python",
   "name": "python",
   "nbconvert_exporter": "python",
   "pygments_lexer": "ipython3",
   "version": "3.7.12"
  },
  "papermill": {
   "default_parameters": {},
   "duration": 10.597998,
   "end_time": "2022-08-26T14:43:24.772601",
   "environment_variables": {},
   "exception": null,
   "input_path": "__notebook__.ipynb",
   "output_path": "__notebook__.ipynb",
   "parameters": {},
   "start_time": "2022-08-26T14:43:14.174603",
   "version": "2.3.4"
  }
 },
 "nbformat": 4,
 "nbformat_minor": 5
}
